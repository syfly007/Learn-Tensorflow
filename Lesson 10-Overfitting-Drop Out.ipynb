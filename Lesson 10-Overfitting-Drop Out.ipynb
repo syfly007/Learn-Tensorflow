{
 "cells": [
  {
   "cell_type": "markdown",
   "metadata": {
    "collapsed": true
   },
   "source": [
    "# Overfitting - Part 2\n",
    "\n",
    "In this lesson you are going to learn about ***Drop Out*** and how it helps the problem of overfitting. \n",
    "\n",
    "> What is Drop Out? \n",
    "\n",
    "This is a technique that will help your model generalize and prevent overfitting. So how does it work? Well, all you are going to do is while training, you are going to literally ***shoot down*** a percentage of your Neurons. On every iteration you are going to shoot down ***at random*** a percentage of your neurons. This will prevent your model from getting too cozy with your data and ultimately help you overcome any overfitting issues.  \n",
    "\n",
    "Keep reading and you will see how easy it is to implement this technique.\n",
    "\n",
    "**核心思想**：随机的打开或关闭一些中间节点。"
   ]
  },
  {
   "cell_type": "markdown",
   "metadata": {},
   "source": [
    "# Let's Get to Work!"
   ]
  },
  {
   "cell_type": "code",
   "execution_count": 1,
   "metadata": {},
   "outputs": [
    {
     "name": "stdout",
     "output_type": "stream",
     "text": [
      "Python version 3.6.3 |Anaconda, Inc.| (default, Nov  3 2017, 12:34:11) \n",
      "[GCC 4.2.1 Compatible Clang 4.0.1 (tags/RELEASE_401/final)]\n",
      "Tensorflow version 1.1.0\n",
      "Pandas version 0.20.3\n",
      "Numpy version 1.12.1\n"
     ]
    }
   ],
   "source": [
    "# import libraries\n",
    "import tensorflow as tf\n",
    "import pandas as pd\n",
    "import numpy as np\n",
    "import sys\n",
    "import datetime\n",
    "import matplotlib.pyplot as plt\n",
    "plt.style.use('ggplot') # use this plot style\n",
    "%matplotlib inline\n",
    "\n",
    "print('Python version ' + sys.version)\n",
    "print('Tensorflow version ' + tf.VERSION)\n",
    "print('Pandas version ' + pd.__version__)\n",
    "print('Numpy version ' + np.__version__)"
   ]
  },
  {
   "cell_type": "markdown",
   "metadata": {},
   "source": [
    "# Function to model\n",
    "\n",
    "    y = a * x^4 + b  \n",
    "\n",
    "\n",
    "> TIP: Recommended percentages  \n",
    "\n",
    "* Training - ***70%***\n",
    "* Validation - ***15%***\n",
    "* Test - ***15%***"
   ]
  },
  {
   "cell_type": "code",
   "execution_count": 2,
   "metadata": {},
   "outputs": [
    {
     "name": "stdout",
     "output_type": "stream",
     "text": [
      "test_x shape: (150, 1)\n",
      "valid_x shape: (150, 1)\n",
      "train_x shape: (700, 1)\n"
     ]
    }
   ],
   "source": [
    "pool = np.random.rand(1000,1).astype(np.float32)\n",
    "\n",
    "np.random.shuffle(pool)\n",
    "\n",
    "sample = int(1000 * 0.15)\n",
    "\n",
    "test_x = pool[0:sample]\n",
    "valid_x = pool[sample:2*sample]\n",
    "train_x = pool[2*sample:]\n",
    "\n",
    "print('test_x shape:',test_x.shape)\n",
    "print('valid_x shape:',valid_x.shape)\n",
    "print('train_x shape:',train_x.shape)\n",
    "\n",
    "# f = lambda x: 2.0 * x**4 + 5\n",
    "# test_y = f(test_x)\n",
    "# valid_y = f(valid_x)\n",
    "# train_y = f(train_x)\n",
    "\n",
    "test_y = 2.0 * test_x**4 + 5\n",
    "valid_y = 2.0 * valid_x**4 + 5\n",
    "train_y = 2.0 * train_x**4 + 5"
   ]
  },
  {
   "cell_type": "code",
   "execution_count": 3,
   "metadata": {},
   "outputs": [
    {
     "data": {
      "text/html": [
       "<div>\n",
       "<style>\n",
       "    .dataframe thead tr:only-child th {\n",
       "        text-align: right;\n",
       "    }\n",
       "\n",
       "    .dataframe thead th {\n",
       "        text-align: left;\n",
       "    }\n",
       "\n",
       "    .dataframe tbody tr th {\n",
       "        vertical-align: top;\n",
       "    }\n",
       "</style>\n",
       "<table border=\"1\" class=\"dataframe\">\n",
       "  <thead>\n",
       "    <tr style=\"text-align: right;\">\n",
       "      <th></th>\n",
       "      <th>x</th>\n",
       "      <th>y</th>\n",
       "    </tr>\n",
       "  </thead>\n",
       "  <tbody>\n",
       "    <tr>\n",
       "      <th>0</th>\n",
       "      <td>0.113946</td>\n",
       "      <td>5.000337</td>\n",
       "    </tr>\n",
       "    <tr>\n",
       "      <th>1</th>\n",
       "      <td>0.253260</td>\n",
       "      <td>5.008228</td>\n",
       "    </tr>\n",
       "    <tr>\n",
       "      <th>2</th>\n",
       "      <td>0.685539</td>\n",
       "      <td>5.441733</td>\n",
       "    </tr>\n",
       "    <tr>\n",
       "      <th>3</th>\n",
       "      <td>0.533656</td>\n",
       "      <td>5.162209</td>\n",
       "    </tr>\n",
       "    <tr>\n",
       "      <th>4</th>\n",
       "      <td>0.689360</td>\n",
       "      <td>5.451662</td>\n",
       "    </tr>\n",
       "  </tbody>\n",
       "</table>\n",
       "</div>"
      ],
      "text/plain": [
       "          x         y\n",
       "0  0.113946  5.000337\n",
       "1  0.253260  5.008228\n",
       "2  0.685539  5.441733\n",
       "3  0.533656  5.162209\n",
       "4  0.689360  5.451662"
      ]
     },
     "execution_count": 3,
     "metadata": {},
     "output_type": "execute_result"
    }
   ],
   "source": [
    "df = pd.DataFrame({'x':train_x[:,0],'y':train_y[:,0]})\n",
    "df.head()"
   ]
  },
  {
   "cell_type": "code",
   "execution_count": 4,
   "metadata": {},
   "outputs": [
    {
     "data": {
      "text/html": [
       "<div>\n",
       "<style>\n",
       "    .dataframe thead tr:only-child th {\n",
       "        text-align: right;\n",
       "    }\n",
       "\n",
       "    .dataframe thead th {\n",
       "        text-align: left;\n",
       "    }\n",
       "\n",
       "    .dataframe tbody tr th {\n",
       "        vertical-align: top;\n",
       "    }\n",
       "</style>\n",
       "<table border=\"1\" class=\"dataframe\">\n",
       "  <thead>\n",
       "    <tr style=\"text-align: right;\">\n",
       "      <th></th>\n",
       "      <th>x</th>\n",
       "      <th>y</th>\n",
       "    </tr>\n",
       "  </thead>\n",
       "  <tbody>\n",
       "    <tr>\n",
       "      <th>count</th>\n",
       "      <td>700.000000</td>\n",
       "      <td>700.000000</td>\n",
       "    </tr>\n",
       "    <tr>\n",
       "      <th>mean</th>\n",
       "      <td>0.498271</td>\n",
       "      <td>5.399415</td>\n",
       "    </tr>\n",
       "    <tr>\n",
       "      <th>std</th>\n",
       "      <td>0.290264</td>\n",
       "      <td>0.535967</td>\n",
       "    </tr>\n",
       "    <tr>\n",
       "      <th>min</th>\n",
       "      <td>0.001613</td>\n",
       "      <td>5.000000</td>\n",
       "    </tr>\n",
       "    <tr>\n",
       "      <th>25%</th>\n",
       "      <td>0.249368</td>\n",
       "      <td>5.007734</td>\n",
       "    </tr>\n",
       "    <tr>\n",
       "      <th>50%</th>\n",
       "      <td>0.511677</td>\n",
       "      <td>5.137100</td>\n",
       "    </tr>\n",
       "    <tr>\n",
       "      <th>75%</th>\n",
       "      <td>0.745140</td>\n",
       "      <td>5.616572</td>\n",
       "    </tr>\n",
       "    <tr>\n",
       "      <th>max</th>\n",
       "      <td>0.999887</td>\n",
       "      <td>6.999094</td>\n",
       "    </tr>\n",
       "  </tbody>\n",
       "</table>\n",
       "</div>"
      ],
      "text/plain": [
       "                x           y\n",
       "count  700.000000  700.000000\n",
       "mean     0.498271    5.399415\n",
       "std      0.290264    0.535967\n",
       "min      0.001613    5.000000\n",
       "25%      0.249368    5.007734\n",
       "50%      0.511677    5.137100\n",
       "75%      0.745140    5.616572\n",
       "max      0.999887    6.999094"
      ]
     },
     "execution_count": 4,
     "metadata": {},
     "output_type": "execute_result"
    }
   ],
   "source": [
    "df.describe()"
   ]
  },
  {
   "cell_type": "code",
   "execution_count": 5,
   "metadata": {},
   "outputs": [
    {
     "data": {
      "text/plain": [
       "<matplotlib.axes._subplots.AxesSubplot at 0x1182ed860>"
      ]
     },
     "execution_count": 5,
     "metadata": {},
     "output_type": "execute_result"
    },
    {
     "data": {
      "image/png": "[encoded data removed]",
      "text/plain": [
       "<matplotlib.figure.Figure at 0x1182ed198>"
      ]
     },
     "metadata": {},
     "output_type": "display_data"
    }
   ],
   "source": [
    "df.plot.scatter(x='x',y='y',figsize=(15,5))"
   ]
  },
  {
   "cell_type": "markdown",
   "metadata": {},
   "source": [
    "# Helper Functions  \n",
    "\n",
    "Make a function that will help you create layers easily"
   ]
  },
  {
   "cell_type": "code",
   "execution_count": 6,
   "metadata": {},
   "outputs": [],
   "source": [
    "def add_layer(inputs, in_size, out_size, activation_function=None):\n",
    "    \n",
    "    # tf.random_normal([what is the size of your batches, size of output layer])\n",
    "    Weights = tf.Variable(tf.truncated_normal([in_size, out_size], mean=0.1, stddev=0.1))\n",
    "    \n",
    "    # tf.random_normal([size of output layer])\n",
    "    biases = tf.Variable(tf.truncated_normal([out_size], mean=0.1, stddev=0.1))\n",
    "    \n",
    "    # shape of pred = [size of your batches, size of output layer]\n",
    "    pred = tf.matmul(inputs, Weights) + biases\n",
    "\n",
    "    if activation_function is None:\n",
    "        outputs = pred\n",
    "    else:\n",
    "        outputs = activation_function(pred)\n",
    "    return outputs"
   ]
  },
  {
   "cell_type": "markdown",
   "metadata": {},
   "source": [
    "# Model your Graph\n",
    "\n",
    "Start to use W (for weight) and b (for bias) when setting up your variables. Aside from adding your ReLU activation function, it is a good idea to use Tensorflow's ***matrix multiplication function (matmul)*** as shown below.  \n",
    "\n",
    "> The ? in the shape output just means it can be of any shape.\n",
    "\n",
    "For the shape parameter, you can think of it like this...  \n",
    "\n",
    "> shape = [how many data points do you have, how many features does each data point have]  \n",
    "\n",
    "For this lesson since we are doing a simple regression, we only have one feature (x). We use the ***None*** keyword so that we are not restricted on the number of samples to feed our model. This will become more important when you learn about training using batches on a future lesson."
   ]
  },
  {
   "cell_type": "code",
   "execution_count": 7,
   "metadata": {},
   "outputs": [
    {
     "name": "stdout",
     "output_type": "stream",
     "text": [
      "(?, 1)\n",
      "(?, 1)\n"
     ]
    }
   ],
   "source": [
    "hidden_size = 10\n",
    "\n",
    "x = tf.placeholder(tf.float32,shape=[None,1],name='01_x')\n",
    "y = tf.placeholder(tf.float32,shape=[None,1],name='01_y')\n",
    "\n",
    "print(x.get_shape())\n",
    "print(y.get_shape())"
   ]
  },
  {
   "cell_type": "markdown",
   "metadata": {},
   "source": [
    "# Add Your Drop Out Placeholder  \n",
    "\n",
    "We will be feeding in the percentage of neurons to keep on every epoch"
   ]
  },
  {
   "cell_type": "code",
   "execution_count": 8,
   "metadata": {
    "collapsed": true
   },
   "outputs": [],
   "source": [
    "# drop put\n",
    "keep_prob = tf.placeholder(tf.float32)"
   ]
  },
  {
   "cell_type": "markdown",
   "metadata": {},
   "source": [
    "Note that the input of one layer becomes the input of the next layer."
   ]
  },
  {
   "cell_type": "code",
   "execution_count": 9,
   "metadata": {},
   "outputs": [
    {
     "name": "stdout",
     "output_type": "stream",
     "text": [
      "shape of hidden layers:\n",
      "(?, 10) (?, 10) (?, 10) (?, 10)\n"
     ]
    }
   ],
   "source": [
    "h1 = add_layer(x, 1, hidden_size, tf.nn.relu)\n",
    "h1_drop = tf.nn.dropout(h1,keep_prob)\n",
    "\n",
    "h2 = add_layer(h1_drop, hidden_size, hidden_size, tf.nn.relu)\n",
    "h2_drop = tf.nn.dropout(h2,keep_prob)\n",
    "\n",
    "h3 = add_layer(h2_drop, hidden_size, hidden_size, tf.nn.relu)\n",
    "h3_drop = tf.nn.dropout(h3,keep_prob)\n",
    "\n",
    "h4 = add_layer(h3_drop, hidden_size, hidden_size, tf.nn.relu)\n",
    "h4_drop = tf.nn.dropout(h4,keep_prob)\n",
    "\n",
    "print(\"shape of hidden layers:\")\n",
    "print(h1_drop.get_shape(),h2_drop.get_shape(),h3_drop.get_shape(),h4_drop.get_shape())"
   ]
  },
  {
   "cell_type": "code",
   "execution_count": 10,
   "metadata": {},
   "outputs": [
    {
     "name": "stdout",
     "output_type": "stream",
     "text": [
      "shape of output layer:\n",
      "(?, 1)\n"
     ]
    }
   ],
   "source": [
    "# output layer\n",
    "pred = add_layer(h4_drop,hidden_size,1)\n",
    "\n",
    "print(\"shape of output layer:\")\n",
    "print(pred.get_shape())"
   ]
  },
  {
   "cell_type": "code",
   "execution_count": 11,
   "metadata": {
    "collapsed": true
   },
   "outputs": [],
   "source": [
    "# minimize the mean square error\n",
    "loss = tf.reduce_mean(tf.square(pred - y))\n",
    "\n",
    "optimizer = tf.train.GradientDescentOptimizer(0.01)\n",
    "train = optimizer.minimize(loss)"
   ]
  },
  {
   "cell_type": "markdown",
   "metadata": {},
   "source": [
    "# How Good is Your model?  \n",
    "\n",
    "Set up the following variables to calculate the accuracy rate of your model. You will do that shortly."
   ]
  },
  {
   "cell_type": "code",
   "execution_count": 12,
   "metadata": {
    "collapsed": true
   },
   "outputs": [],
   "source": [
    "correct_prediction = tf.equal(tf.round(pred),tf.round(y))\n",
    "accuracy = tf.reduce_mean(tf.cast(correct_prediction,tf.float32))"
   ]
  },
  {
   "cell_type": "markdown",
   "metadata": {},
   "source": [
    "# Set Up Your Early Stoppage Variables  \n",
    "\n",
    "Code borrowed from this great [Tensorflow Jupyter Notebook](https://github.com/Hvass-Labs/TensorFlow-Tutorials/blob/master/04_Save_Restore.ipynb)."
   ]
  },
  {
   "cell_type": "code",
   "execution_count": 13,
   "metadata": {
    "collapsed": true
   },
   "outputs": [],
   "source": [
    "# Best validation accuracy seen so far.\n",
    "best_valid_acc = 0.0\n",
    "\n",
    "# Iteration-number for last improvement to validation accuracy.\n",
    "last_improvement = 0\n",
    "\n",
    "# Stop optimization if no improvement found in this many iterations.\n",
    "require_improvement = 1500"
   ]
  },
  {
   "cell_type": "markdown",
   "metadata": {},
   "source": [
    "# Training Time!  \n",
    "\n",
    "Notice how we pass in our Drop Out percentage below.\n",
    "\n",
    "* ***keep_prob of 1.0*** means we are not going to shoot down any of our neurons. This is handy since we would not want to do this to our Validation or Test sets.\n",
    "* ***测试集和验证集的keep_prob设为1.0*** "
   ]
  },
  {
   "cell_type": "code",
   "execution_count": 17,
   "metadata": {},
   "outputs": [
    {
     "name": "stdout",
     "output_type": "stream",
     "text": [
      "step 0,train_acc:0.000000,valid_acc:0.000000,train_loss:27.195681,valid_loss:24.367844 \n",
      "step 100,train_acc:0.658571,valid_acc:0.760000,train_loss:0.243675,valid_loss:0.077451 *\n",
      "step 200,train_acc:0.652857,valid_acc:0.766667,train_loss:0.219378,valid_loss:0.075859 *\n",
      "step 300,train_acc:0.662857,valid_acc:0.773333,train_loss:0.196028,valid_loss:0.075269 *\n",
      "step 400,train_acc:0.695714,valid_acc:0.760000,train_loss:0.198223,valid_loss:0.074964 \n",
      "step 500,train_acc:0.682857,valid_acc:0.766667,train_loss:0.176915,valid_loss:0.074697 \n",
      "step 600,train_acc:0.691429,valid_acc:0.753333,train_loss:0.207451,valid_loss:0.075212 \n",
      "step 700,train_acc:0.700000,valid_acc:0.760000,train_loss:0.170228,valid_loss:0.074155 \n",
      "step 800,train_acc:0.684286,valid_acc:0.766667,train_loss:0.161315,valid_loss:0.073191 \n",
      "step 900,train_acc:0.720000,valid_acc:0.753333,train_loss:0.163763,valid_loss:0.067646 \n",
      "step 1000,train_acc:0.714286,valid_acc:0.780000,train_loss:0.140251,valid_loss:0.062385 *\n",
      "step 1100,train_acc:0.725714,valid_acc:0.766667,train_loss:0.149718,valid_loss:0.059170 \n",
      "step 1200,train_acc:0.775714,valid_acc:0.786667,train_loss:0.129580,valid_loss:0.050711 *\n",
      "step 1300,train_acc:0.795714,valid_acc:0.806667,train_loss:0.107273,valid_loss:0.041753 *\n",
      "step 1400,train_acc:0.821429,valid_acc:0.826667,train_loss:0.102510,valid_loss:0.033167 *\n",
      "step 1500,train_acc:0.801429,valid_acc:0.833333,train_loss:0.100216,valid_loss:0.026233 *\n",
      "step 1600,train_acc:0.855714,valid_acc:0.853333,train_loss:0.086853,valid_loss:0.020008 *\n",
      "step 1700,train_acc:0.834286,valid_acc:0.866667,train_loss:0.074861,valid_loss:0.015062 *\n",
      "step 1800,train_acc:0.858571,valid_acc:0.906667,train_loss:0.075585,valid_loss:0.011711 *\n",
      "step 1900,train_acc:0.860000,valid_acc:0.933333,train_loss:0.063772,valid_loss:0.009604 *\n",
      "step 2000,train_acc:0.870000,valid_acc:0.940000,train_loss:0.070061,valid_loss:0.007548 *\n",
      "step 2100,train_acc:0.888571,valid_acc:0.946667,train_loss:0.058736,valid_loss:0.005998 *\n",
      "step 2200,train_acc:0.870000,valid_acc:0.973333,train_loss:0.059381,valid_loss:0.005390 *\n",
      "step 2300,train_acc:0.885714,valid_acc:0.980000,train_loss:0.047213,valid_loss:0.004975 *\n",
      "step 2400,train_acc:0.895714,valid_acc:0.966667,train_loss:0.052816,valid_loss:0.004012 \n",
      "step 2500,train_acc:0.884286,valid_acc:0.973333,train_loss:0.053618,valid_loss:0.003572 \n",
      "step 2600,train_acc:0.897143,valid_acc:0.973333,train_loss:0.051910,valid_loss:0.003369 \n",
      "step 2700,train_acc:0.882857,valid_acc:0.973333,train_loss:0.049694,valid_loss:0.002920 \n",
      "step 2800,train_acc:0.884286,valid_acc:0.980000,train_loss:0.059742,valid_loss:0.002383 \n",
      "step 2900,train_acc:0.868571,valid_acc:0.980000,train_loss:0.047584,valid_loss:0.002088 \n",
      "step 3000,train_acc:0.875714,valid_acc:0.980000,train_loss:0.051283,valid_loss:0.001880 \n",
      "step 3100,train_acc:0.880000,valid_acc:0.980000,train_loss:0.040426,valid_loss:0.002041 \n",
      "step 3200,train_acc:0.902857,valid_acc:0.980000,train_loss:0.043148,valid_loss:0.001559 \n",
      "step 3300,train_acc:0.895714,valid_acc:0.980000,train_loss:0.048848,valid_loss:0.001464 \n",
      "step 3400,train_acc:0.881429,valid_acc:0.980000,train_loss:0.049103,valid_loss:0.001368 \n",
      "step 3500,train_acc:0.884286,valid_acc:0.980000,train_loss:0.041928,valid_loss:0.001654 \n",
      "step 3600,train_acc:0.884286,valid_acc:0.986667,train_loss:0.045525,valid_loss:0.000940 *\n",
      "step 3700,train_acc:0.902857,valid_acc:0.980000,train_loss:0.045513,valid_loss:0.001139 \n",
      "step 3800,train_acc:0.907143,valid_acc:0.980000,train_loss:0.043601,valid_loss:0.001430 \n",
      "step 3900,train_acc:0.908571,valid_acc:0.980000,train_loss:0.033804,valid_loss:0.001328 \n",
      "step 4000,train_acc:0.897143,valid_acc:0.986667,train_loss:0.039840,valid_loss:0.000986 \n",
      "step 4100,train_acc:0.914286,valid_acc:0.986667,train_loss:0.038308,valid_loss:0.000976 \n",
      "step 4200,train_acc:0.914286,valid_acc:0.986667,train_loss:0.041248,valid_loss:0.001046 \n",
      "step 4300,train_acc:0.901429,valid_acc:0.980000,train_loss:0.033736,valid_loss:0.001047 \n",
      "step 4400,train_acc:0.902857,valid_acc:0.986667,train_loss:0.035887,valid_loss:0.000914 \n",
      "step 4500,train_acc:0.892857,valid_acc:0.986667,train_loss:0.032337,valid_loss:0.000916 \n",
      "step 4600,train_acc:0.904286,valid_acc:0.986667,train_loss:0.035185,valid_loss:0.000951 \n",
      "step 4700,train_acc:0.911429,valid_acc:0.993333,train_loss:0.039918,valid_loss:0.000467 *\n",
      "step 4800,train_acc:0.908571,valid_acc:0.986667,train_loss:0.031863,valid_loss:0.000864 \n",
      "step 4900,train_acc:0.915714,valid_acc:0.986667,train_loss:0.035698,valid_loss:0.000724 \n",
      "step 5000,train_acc:0.911429,valid_acc:0.986667,train_loss:0.035454,valid_loss:0.000829 \n",
      "step 5100,train_acc:0.910000,valid_acc:0.986667,train_loss:0.032556,valid_loss:0.000917 \n",
      "step 5200,train_acc:0.902857,valid_acc:1.000000,train_loss:0.039104,valid_loss:0.000435 *\n",
      "step 5300,train_acc:0.915714,valid_acc:0.986667,train_loss:0.030982,valid_loss:0.000833 \n",
      "step 5400,train_acc:0.917143,valid_acc:1.000000,train_loss:0.033714,valid_loss:0.000458 \n",
      "step 5500,train_acc:0.914286,valid_acc:0.986667,train_loss:0.031140,valid_loss:0.000535 \n",
      "step 5600,train_acc:0.922857,valid_acc:0.986667,train_loss:0.032960,valid_loss:0.000513 \n",
      "step 5700,train_acc:0.911429,valid_acc:0.986667,train_loss:0.028372,valid_loss:0.000522 \n",
      "step 5800,train_acc:0.921429,valid_acc:0.986667,train_loss:0.027184,valid_loss:0.000498 \n",
      "step 5900,train_acc:0.935714,valid_acc:0.986667,train_loss:0.030995,valid_loss:0.000646 \n",
      "train accuracy: 0.928571\n",
      "valid accuracy: 0.986667\n",
      "test accuracy: 0.98\n"
     ]
    }
   ],
   "source": [
    "# Best validation accuracy seen so far.\n",
    "best_valid_acc = 0.0\n",
    "\n",
    "# Iteration-number for last improvement to validation accuracy.\n",
    "last_improvement = 0\n",
    "\n",
    "# Stop optimization if no improvement found in this many iterations.\n",
    "require_improvement = 1500\n",
    "\n",
    "init = tf.global_variables_initializer()\n",
    "\n",
    "t = []\n",
    "\n",
    "with tf.Session() as sess:\n",
    "    \n",
    "    sess.run(init)\n",
    "    \n",
    "    train_data = {x:train_x,y:train_y,keep_prob:0.975}\n",
    "    valid_data = {x:valid_x,y:valid_y,keep_prob:1.0}\n",
    "    test_data = {x:test_x,y:test_y,keep_prob:1.0}\n",
    "    \n",
    "    for step in range(6000):\n",
    "        \n",
    "        train_loss,train_pred = sess.run([loss,train],feed_dict=train_data)\n",
    "        \n",
    "        if step % 100 == 0:\n",
    "            \n",
    "            train_acc = accuracy.eval(train_data)\n",
    "            valid_acc = accuracy.eval(valid_data)\n",
    "            \n",
    "            valid_loss = loss.eval(valid_data)\n",
    "            \n",
    "            t.append([step,train_loss,valid_loss])\n",
    "            \n",
    "            if valid_acc > best_valid_acc:\n",
    "                best_valid_acc = valid_acc\n",
    "                last_improvement = step\n",
    "                improve_str = '*'\n",
    "            else:\n",
    "                improve_str = ''\n",
    "            \n",
    "            print(\"step %d,train_acc:%f,valid_acc:%f,train_loss:%f,valid_loss:%f %s\" % (step,train_acc,valid_acc,train_loss,valid_loss,improve_str)) \n",
    "            \n",
    "            if step - last_improvement > require_improvement:\n",
    "                print('No more improve!')\n",
    "                print(\"step %d,train_acc:%f,valid_acc:%f,train_loss:%f,valid_loss:%f %s\" % (step,train_acc,valid_acc,train_loss,valid_loss,improve_str))\n",
    "                break\n",
    "            \n",
    "    print('train accuracy:',accuracy.eval(train_data))\n",
    "    print('valid accuracy:',accuracy.eval(valid_data))\n",
    "    print('test accuracy:',accuracy.eval(test_data))\n",
    "    \n",
    "    test_results = sess.run(pred,feed_dict={x:test_x,keep_prob:1.0})\n",
    "    df_final = pd.DataFrame({'test_x':test_x[:,0],'pred':test_results[:,0]})\n",
    "    df_loss = pd.DataFrame(t,columns=['step','train_loss','valid_loss'])"
   ]
  },
  {
   "cell_type": "code",
   "execution_count": 18,
   "metadata": {},
   "outputs": [
    {
     "data": {
      "image/png": "[encoded data removed]",
      "text/plain": [
       "<matplotlib.figure.Figure at 0x11bfadda0>"
      ]
     },
     "metadata": {},
     "output_type": "display_data"
    }
   ],
   "source": [
    "fig, axes = plt.subplots(nrows=1, ncols=1, figsize=(15, 5))\n",
    "\n",
    "# Chart 1 - Shows the line we are trying to model\n",
    "df.plot.scatter(x='x', y='y', ax=axes, color='red')\n",
    "\n",
    "# Chart 2 - Shows the line our trained model came up with\n",
    "df_final.plot.scatter(x='test_x', y='pred', ax=axes, alpha=0.3)\n",
    "\n",
    "# add a little sugar\n",
    "axes.set_title('target vs pred', fontsize=20)\n",
    "axes.set_ylabel('y', fontsize=15)\n",
    "axes.set_xlabel('x', fontsize=15)\n",
    "axes.legend([\"target\", \"pred\"], loc='best'); "
   ]
  },
  {
   "cell_type": "markdown",
   "metadata": {},
   "source": [
    "# Check for Overfitting  \n",
    "\n",
    "If the ***valid_loss*** is increasing and your ***train_loss*** is decreasing then you have a problem. Since you have implemented early stopping, your model will not over train and prevents this issue from getting out of control."
   ]
  },
  {
   "cell_type": "code",
   "execution_count": 21,
   "metadata": {},
   "outputs": [
    {
     "data": {
      "text/plain": [
       "<matplotlib.axes._subplots.AxesSubplot at 0x11cc39898>"
      ]
     },
     "execution_count": 21,
     "metadata": {},
     "output_type": "execute_result"
    },
    {
     "data": {
      "image/png": "[encoded data removed]",
      "text/plain": [
       "<matplotlib.figure.Figure at 0x11c3335f8>"
      ]
     },
     "metadata": {},
     "output_type": "display_data"
    }
   ],
   "source": [
    "df_loss.set_index('step').plot(logy=True,figsize=(15,5))"
   ]
  },
  {
   "cell_type": "markdown",
   "metadata": {},
   "source": [
    "# Your Turn  \n",
    "\n",
    "> I reduced the number of neurons but increased the number of hidden layers. Try different combinations of layers and neurons and see how your model behaves."
   ]
  },
  {
   "cell_type": "code",
   "execution_count": null,
   "metadata": {
    "collapsed": true
   },
   "outputs": [],
   "source": []
  }
 ],
 "metadata": {
  "kernelspec": {
   "display_name": "Python [conda env:tf]",
   "language": "python",
   "name": "conda-env-tf-py"
  },
  "language_info": {
   "codemirror_mode": {
    "name": "ipython",
    "version": 3
   },
   "file_extension": ".py",
   "mimetype": "text/x-python",
   "name": "python",
   "nbconvert_exporter": "python",
   "pygments_lexer": "ipython3",
   "version": "3.6.3"
  },
  "toc": {
   "nav_menu": {},
   "number_sections": true,
   "sideBar": true,
   "skip_h1_title": false,
   "title_cell": "Table of Contents",
   "title_sidebar": "Contents",
   "toc_cell": false,
   "toc_position": {},
   "toc_section_display": true,
   "toc_window_display": false
  }
 },
 "nbformat": 4,
 "nbformat_minor": 2
}
