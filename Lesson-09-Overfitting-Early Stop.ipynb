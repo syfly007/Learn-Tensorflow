{
 "cells": [
  {
   "cell_type": "markdown",
   "metadata": {},
   "source": [
    "# Overfitting-Part 1"
   ]
  },
  {
   "cell_type": "markdown",
   "metadata": {},
   "source": [
    "In this lesson you are going to learn about the ***Validation*** set and how it helps the problem of overfitting. \n",
    "\n",
    "> What is overfitting? \n",
    "\n",
    "This is when you create a model that performs very well on your training data (hooray!). But is performs pretty bad on your test data (sad face). The good news is that there are options to deal with this issue.\n",
    "\n",
    "> What is a **validation set**?  \n",
    "\n",
    "Let's recap on the terms we are already familiar with.\n",
    "\n",
    "* Training set - This is the data you will be training your model with.  \n",
    "* Test set - This is the data you will be testing your model with. The test set should not contain data that is in the training set.  \n",
    "\n",
    "> What do we do with the Training set?  \n",
    "\n",
    "This is the data we are going to use to train our model.\n",
    "\n",
    "> What do we do with the Test set?  \n",
    "\n",
    "After training is complete, we try out our model with our Test data. If our model does well, then we did a great job in the training phase. Note that our test data will not contain any of the data we used for training.\n",
    "\n",
    "## So What is a Validation set and why would we want one?  \n",
    "\n",
    "A Validation set is an estimation of the Test set. The Validation set does not contain data from the Training or test set. We use the Validation set during training. Typically what we do is for every N iterations (epochs), we \"test\" our model using the Validation set. We want to see how our model is doing while training and before we run our model through our test data. If the Validation set says we are 95% accurate, then we can say that when we try our model on the Test set, we should get something close to 95% accuracy also. Makes sense?\n",
    "\n",
    "> Any advantages of using a Validation set?  \n",
    "\n",
    "Yes, by using a Validation set one can determine if overfitting is a problem. For example, lets say you started training and you notice your Training error is going down but your Validation error is going up. This is a classic sign that you have an overfitting problem.  \n",
    "\n",
    "> what can I do if I notice that I am overfitting?  \n",
    "\n",
    "As soon as you realize you are starting to overfit, simply stop training. This is called ***early stopping*** and it works great at preventing your model from overfitting. "
   ]
  },
  {
   "cell_type": "markdown",
   "metadata": {},
   "source": [
    "# Let's Get to Work!"
   ]
  },
  {
   "cell_type": "code",
   "execution_count": 1,
   "metadata": {
    "collapsed": true
   },
   "outputs": [],
   "source": [
    "# import libraries\n",
    "import tensorflow as tf\n",
    "import pandas as pd\n",
    "import numpy as np\n",
    "import sys\n",
    "import datetime\n",
    "import matplotlib.pyplot as plt\n",
    "plt.style.use('ggplot') # use this plot style\n",
    "%matplotlib inline"
   ]
  },
  {
   "cell_type": "code",
   "execution_count": 2,
   "metadata": {},
   "outputs": [
    {
     "name": "stdout",
     "output_type": "stream",
     "text": [
      "Python version 3.6.3 |Anaconda, Inc.| (default, Nov  3 2017, 12:34:11) \n",
      "[GCC 4.2.1 Compatible Clang 4.0.1 (tags/RELEASE_401/final)]\n",
      "Tensorflow version 1.1.0\n",
      "Pandas version 0.20.3\n",
      "Numpy version 1.12.1\n"
     ]
    }
   ],
   "source": [
    "print('Python version ' + sys.version)\n",
    "print('Tensorflow version ' + tf.VERSION)\n",
    "print('Pandas version ' + pd.__version__)\n",
    "print('Numpy version ' + np.__version__)"
   ]
  },
  {
   "cell_type": "markdown",
   "metadata": {},
   "source": [
    "# Function to model\n",
    "\n",
    "    y = a * x^4 + b  \n",
    "\n",
    "\n",
    "> TIP: Recommended percentages  \n",
    "\n",
    "* Training - ***70%***\n",
    "* Validation - ***15%***\n",
    "* Test - ***15%***"
   ]
  },
  {
   "cell_type": "code",
   "execution_count": 3,
   "metadata": {},
   "outputs": [
    {
     "name": "stdout",
     "output_type": "stream",
     "text": [
      "test data shape: (150, 1)\n",
      "valid data shape: (150, 1)\n",
      "train data shape: (700, 1)\n"
     ]
    }
   ],
   "source": [
    "# generate 1000 samples\n",
    "pool = np.random.rand(1000,1).astype(np.float32);\n",
    "\n",
    "#Shuffle samples\n",
    "np.random.shuffle(pool)\n",
    "\n",
    "# sample size 15%\n",
    "sample = int(1000 * 0.15)\n",
    "\n",
    "# 15% test\n",
    "test_x = pool[0:sample]\n",
    "\n",
    "# 15% validation\n",
    "valid_x = pool[sample:2*sample]\n",
    "\n",
    "# 75% train\n",
    "train_x = pool[sample*2:]\n",
    "\n",
    "print('test data shape:',test_x.shape)\n",
    "print('valid data shape:',valid_x.shape)\n",
    "print('train data shape:',train_x.shape)\n",
    "\n",
    "# g = lambda x : 2.0*x**4 + 5\n",
    "# test_y = g(test_x)\n",
    "# valid_y = g(valid_x)\n",
    "# train_y = g(train_x)\n",
    "\n",
    "# Let's compute the ouput using 2 for a, 5 for b\n",
    "test_y = 2.0 * test_x**4 + 5\n",
    "valid_y = 2.0 * valid_x**4 + 5\n",
    "train_y = 2.0 * train_x**4 + 5"
   ]
  },
  {
   "cell_type": "code",
   "execution_count": 4,
   "metadata": {},
   "outputs": [
    {
     "data": {
      "text/html": [
       "<div>\n",
       "<style>\n",
       "    .dataframe thead tr:only-child th {\n",
       "        text-align: right;\n",
       "    }\n",
       "\n",
       "    .dataframe thead th {\n",
       "        text-align: left;\n",
       "    }\n",
       "\n",
       "    .dataframe tbody tr th {\n",
       "        vertical-align: top;\n",
       "    }\n",
       "</style>\n",
       "<table border=\"1\" class=\"dataframe\">\n",
       "  <thead>\n",
       "    <tr style=\"text-align: right;\">\n",
       "      <th></th>\n",
       "      <th>x</th>\n",
       "      <th>y</th>\n",
       "    </tr>\n",
       "  </thead>\n",
       "  <tbody>\n",
       "    <tr>\n",
       "      <th>0</th>\n",
       "      <td>0.260214</td>\n",
       "      <td>5.009170</td>\n",
       "    </tr>\n",
       "    <tr>\n",
       "      <th>1</th>\n",
       "      <td>0.041044</td>\n",
       "      <td>5.000006</td>\n",
       "    </tr>\n",
       "    <tr>\n",
       "      <th>2</th>\n",
       "      <td>0.875986</td>\n",
       "      <td>6.177659</td>\n",
       "    </tr>\n",
       "    <tr>\n",
       "      <th>3</th>\n",
       "      <td>0.455218</td>\n",
       "      <td>5.085883</td>\n",
       "    </tr>\n",
       "    <tr>\n",
       "      <th>4</th>\n",
       "      <td>0.373504</td>\n",
       "      <td>5.038923</td>\n",
       "    </tr>\n",
       "  </tbody>\n",
       "</table>\n",
       "</div>"
      ],
      "text/plain": [
       "          x         y\n",
       "0  0.260214  5.009170\n",
       "1  0.041044  5.000006\n",
       "2  0.875986  6.177659\n",
       "3  0.455218  5.085883\n",
       "4  0.373504  5.038923"
      ]
     },
     "execution_count": 4,
     "metadata": {},
     "output_type": "execute_result"
    }
   ],
   "source": [
    "df = pd.DataFrame({\n",
    "    'x':train_x[:,0],\n",
    "    'y':train_y[:,0]\n",
    "})\n",
    "df.head()"
   ]
  },
  {
   "cell_type": "code",
   "execution_count": 5,
   "metadata": {},
   "outputs": [
    {
     "data": {
      "text/html": [
       "<div>\n",
       "<style>\n",
       "    .dataframe thead tr:only-child th {\n",
       "        text-align: right;\n",
       "    }\n",
       "\n",
       "    .dataframe thead th {\n",
       "        text-align: left;\n",
       "    }\n",
       "\n",
       "    .dataframe tbody tr th {\n",
       "        vertical-align: top;\n",
       "    }\n",
       "</style>\n",
       "<table border=\"1\" class=\"dataframe\">\n",
       "  <thead>\n",
       "    <tr style=\"text-align: right;\">\n",
       "      <th></th>\n",
       "      <th>x</th>\n",
       "      <th>y</th>\n",
       "    </tr>\n",
       "  </thead>\n",
       "  <tbody>\n",
       "    <tr>\n",
       "      <th>count</th>\n",
       "      <td>700.000000</td>\n",
       "      <td>700.000000</td>\n",
       "    </tr>\n",
       "    <tr>\n",
       "      <th>mean</th>\n",
       "      <td>0.491560</td>\n",
       "      <td>5.366003</td>\n",
       "    </tr>\n",
       "    <tr>\n",
       "      <th>std</th>\n",
       "      <td>0.279470</td>\n",
       "      <td>0.494855</td>\n",
       "    </tr>\n",
       "    <tr>\n",
       "      <th>min</th>\n",
       "      <td>0.001395</td>\n",
       "      <td>5.000000</td>\n",
       "    </tr>\n",
       "    <tr>\n",
       "      <th>25%</th>\n",
       "      <td>0.248839</td>\n",
       "      <td>5.007668</td>\n",
       "    </tr>\n",
       "    <tr>\n",
       "      <th>50%</th>\n",
       "      <td>0.483708</td>\n",
       "      <td>5.109488</td>\n",
       "    </tr>\n",
       "    <tr>\n",
       "      <th>75%</th>\n",
       "      <td>0.731273</td>\n",
       "      <td>5.571936</td>\n",
       "    </tr>\n",
       "    <tr>\n",
       "      <th>max</th>\n",
       "      <td>0.998573</td>\n",
       "      <td>6.988612</td>\n",
       "    </tr>\n",
       "  </tbody>\n",
       "</table>\n",
       "</div>"
      ],
      "text/plain": [
       "                x           y\n",
       "count  700.000000  700.000000\n",
       "mean     0.491560    5.366003\n",
       "std      0.279470    0.494855\n",
       "min      0.001395    5.000000\n",
       "25%      0.248839    5.007668\n",
       "50%      0.483708    5.109488\n",
       "75%      0.731273    5.571936\n",
       "max      0.998573    6.988612"
      ]
     },
     "execution_count": 5,
     "metadata": {},
     "output_type": "execute_result"
    }
   ],
   "source": [
    "df.describe()"
   ]
  },
  {
   "cell_type": "code",
   "execution_count": 6,
   "metadata": {},
   "outputs": [
    {
     "data": {
      "text/plain": [
       "<matplotlib.axes._subplots.AxesSubplot at 0x1132f3908>"
      ]
     },
     "execution_count": 6,
     "metadata": {},
     "output_type": "execute_result"
    },
    {
     "data": {
      "image/png": "[encoded data removed]",
      "text/plain": [
       "<matplotlib.figure.Figure at 0x1132f31d0>"
      ]
     },
     "metadata": {},
     "output_type": "display_data"
    }
   ],
   "source": [
    "df.plot.scatter(x='x',y='y',figsize=(15,5))"
   ]
  },
  {
   "cell_type": "markdown",
   "metadata": {},
   "source": [
    "# Helper Functions  \n",
    "\n",
    "Make a function that will help you create layers easily"
   ]
  },
  {
   "cell_type": "code",
   "execution_count": 7,
   "metadata": {
    "collapsed": true
   },
   "outputs": [],
   "source": [
    "def add_layer(inputs, in_size, out_size, activation_function=None):\n",
    "    \n",
    "    # tf.random_normal([what is the size of your batches, size of output layer])\n",
    "    Weights = tf.Variable(tf.truncated_normal([in_size, out_size], mean=0.1, stddev=0.1))\n",
    "    \n",
    "    # tf.random_normal([size of output layer])\n",
    "    biases = tf.Variable(tf.truncated_normal([out_size], mean=0.1, stddev=0.1))\n",
    "    \n",
    "    # shape of pred = [size of your batches, size of output layer]\n",
    "    pred = tf.matmul(inputs, Weights) + biases\n",
    "\n",
    "    if activation_function is None:\n",
    "        outputs = pred\n",
    "    else:\n",
    "        outputs = activation_function(pred)\n",
    "    return outputs"
   ]
  },
  {
   "cell_type": "markdown",
   "metadata": {},
   "source": [
    "# Model your Graph\n",
    "\n",
    "Start to use W (for weight) and b (for bias) when setting up your variables. Aside from adding your ReLU activation function, it is a good idea to use Tensorflow's ***matrix multiplication function (matmul)*** as shown below.  \n",
    "\n",
    "> The ? in the shape output just means it can be of any shape.\n",
    "\n",
    "For the shape parameter, you can think of it like this...  \n",
    "\n",
    "> shape = [how many data points do you have, how many features does each data point have]  \n",
    "\n",
    "For this lesson since we are doing a simple regression, we only have one feature (x). We use the ***None*** keyword so that we are not restricted on the number of samples to feed our model. This will become more important when you learn about training using batches on a future lesson."
   ]
  },
  {
   "cell_type": "code",
   "execution_count": 8,
   "metadata": {},
   "outputs": [
    {
     "name": "stdout",
     "output_type": "stream",
     "text": [
      "shape of x and y\n",
      "(?, 1) (?, 1)\n"
     ]
    }
   ],
   "source": [
    "hidden_size = 100\n",
    "\n",
    "# placeholders\n",
    "x = tf.placeholder(tf.float32,shape=[None,1],name='01_x')\n",
    "y = tf.placeholder(tf.float32,shape=[None,1],name='01_y')\n",
    "\n",
    "print(\"shape of x and y\")\n",
    "print(x.get_shape(),y.get_shape())"
   ]
  },
  {
   "cell_type": "markdown",
   "metadata": {},
   "source": [
    "Note that the input of one layer becomes the input of the next layer."
   ]
  },
  {
   "cell_type": "code",
   "execution_count": 9,
   "metadata": {},
   "outputs": [
    {
     "name": "stdout",
     "output_type": "stream",
     "text": [
      "shape of h1 and h2:\n",
      "(?, 100) (?, 100)\n"
     ]
    }
   ],
   "source": [
    "# create hidden layer\n",
    "h1 = add_layer(x,1,hidden_size,tf.nn.relu)\n",
    "h2 = add_layer(h1,hidden_size,hidden_size,tf.nn.relu)\n",
    "\n",
    "print('shape of h1 and h2:')\n",
    "print(h1.get_shape(),h2.get_shape())"
   ]
  },
  {
   "cell_type": "code",
   "execution_count": 10,
   "metadata": {},
   "outputs": [
    {
     "name": "stdout",
     "output_type": "stream",
     "text": [
      "shape of ouput layer:\n",
      "(?, 1)\n"
     ]
    }
   ],
   "source": [
    "pred = add_layer(h2,hidden_size,1)\n",
    "\n",
    "print('shape of ouput layer:')\n",
    "print(pred.get_shape())"
   ]
  },
  {
   "cell_type": "code",
   "execution_count": 11,
   "metadata": {
    "collapsed": true
   },
   "outputs": [],
   "source": [
    "# minimize the mean squared errors\n",
    "loss = tf.reduce_mean(tf.square(pred-y))\n",
    "\n",
    "# pick optimizer\n",
    "optimizer = tf.train.GradientDescentOptimizer(0.005)\n",
    "train = optimizer.minimize(loss)"
   ]
  },
  {
   "cell_type": "markdown",
   "metadata": {},
   "source": [
    "# How Good is Your model?  \n",
    "\n",
    "Set up the following variables to calculate the accuracy rate of your model. You will do that shortly."
   ]
  },
  {
   "cell_type": "code",
   "execution_count": 12,
   "metadata": {
    "collapsed": true
   },
   "outputs": [],
   "source": [
    "correct_prediction = tf.equal(tf.round(pred),tf.round(y))\n",
    "accuracy = tf.reduce_mean(tf.cast(correct_prediction,tf.float32))"
   ]
  },
  {
   "cell_type": "markdown",
   "metadata": {},
   "source": [
    "# Set Up Your Early Stoppage Variables  \n",
    "\n",
    "Code borrowed from this great [Tensorflow Jupyter Notebook](https://github.com/Hvass-Labs/TensorFlow-Tutorials/blob/master/04_Save_Restore.ipynb)."
   ]
  },
  {
   "cell_type": "code",
   "execution_count": 13,
   "metadata": {
    "collapsed": true
   },
   "outputs": [],
   "source": [
    "# best valication accuracy\n",
    "best_valid_acc = 0.0\n",
    "\n",
    "# last improvement iteration number\n",
    "last_improvement = 0\n",
    "\n",
    "# stop iteration if no improve in this iteration num\n",
    "stop_iteration_num = 1500"
   ]
  },
  {
   "cell_type": "markdown",
   "metadata": {},
   "source": [
    "# Training Time!\n",
    "why validation loss < train loss?"
   ]
  },
  {
   "cell_type": "code",
   "execution_count": 84,
   "metadata": {},
   "outputs": [
    {
     "name": "stdout",
     "output_type": "stream",
     "text": [
      "step 0,train_acc:0.000000,valid_acc:0.000000,train_loss:123.749908,valid_loss:144.500656 \n",
      "step 100,train_acc:0.814286,valid_acc:0.833333,train_loss:0.057526,valid_loss:0.051432 *\n",
      "step 200,train_acc:0.818571,valid_acc:0.833333,train_loss:0.054861,valid_loss:0.048890 \n",
      "step 300,train_acc:0.820000,valid_acc:0.833333,train_loss:0.053676,valid_loss:0.047778 \n",
      "step 400,train_acc:0.821429,valid_acc:0.840000,train_loss:0.052537,valid_loss:0.046713 *\n",
      "step 500,train_acc:0.822857,valid_acc:0.846667,train_loss:0.051388,valid_loss:0.045645 *\n",
      "step 600,train_acc:0.824286,valid_acc:0.846667,train_loss:0.050217,valid_loss:0.044562 \n",
      "step 700,train_acc:0.827143,valid_acc:0.846667,train_loss:0.049023,valid_loss:0.043459 \n",
      "step 800,train_acc:0.828571,valid_acc:0.860000,train_loss:0.047807,valid_loss:0.042336 *\n",
      "step 900,train_acc:0.828571,valid_acc:0.860000,train_loss:0.046567,valid_loss:0.041193 \n",
      "step 1000,train_acc:0.830000,valid_acc:0.860000,train_loss:0.045215,valid_loss:0.039970 \n",
      "step 1100,train_acc:0.838571,valid_acc:0.860000,train_loss:0.042988,valid_loss:0.037878 \n",
      "step 1200,train_acc:0.845714,valid_acc:0.866667,train_loss:0.041156,valid_loss:0.036200 *\n",
      "step 1300,train_acc:0.847143,valid_acc:0.866667,train_loss:0.039689,valid_loss:0.034862 \n",
      "step 1400,train_acc:0.848571,valid_acc:0.866667,train_loss:0.038243,valid_loss:0.033545 \n",
      "step 1500,train_acc:0.850000,valid_acc:0.873333,train_loss:0.036796,valid_loss:0.032223 *\n",
      "step 1600,train_acc:0.850000,valid_acc:0.873333,train_loss:0.035348,valid_loss:0.030903 \n",
      "step 1700,train_acc:0.852857,valid_acc:0.873333,train_loss:0.033904,valid_loss:0.029587 \n",
      "step 1800,train_acc:0.854286,valid_acc:0.873333,train_loss:0.032467,valid_loss:0.028280 \n",
      "step 1900,train_acc:0.858571,valid_acc:0.873333,train_loss:0.031043,valid_loss:0.026986 \n",
      "step 2000,train_acc:0.860000,valid_acc:0.880000,train_loss:0.029637,valid_loss:0.025710 *\n",
      "step 2100,train_acc:0.861429,valid_acc:0.880000,train_loss:0.028254,valid_loss:0.024456 \n",
      "step 2200,train_acc:0.867143,valid_acc:0.886667,train_loss:0.026898,valid_loss:0.023229 *\n",
      "step 2300,train_acc:0.870000,valid_acc:0.886667,train_loss:0.025573,valid_loss:0.022033 \n",
      "step 2400,train_acc:0.870000,valid_acc:0.886667,train_loss:0.024283,valid_loss:0.020873 \n",
      "step 2500,train_acc:0.874286,valid_acc:0.893333,train_loss:0.023019,valid_loss:0.019740 *\n",
      "step 2600,train_acc:0.878571,valid_acc:0.900000,train_loss:0.021669,valid_loss:0.018573 *\n",
      "step 2700,train_acc:0.881429,valid_acc:0.900000,train_loss:0.020042,valid_loss:0.017174 \n",
      "step 2800,train_acc:0.885714,valid_acc:0.900000,train_loss:0.017987,valid_loss:0.015346 \n",
      "step 2900,train_acc:0.890000,valid_acc:0.900000,train_loss:0.015867,valid_loss:0.013401 \n",
      "step 3000,train_acc:0.890000,valid_acc:0.900000,train_loss:0.014040,valid_loss:0.011747 \n",
      "step 3100,train_acc:0.895714,valid_acc:0.906667,train_loss:0.012635,valid_loss:0.010530 *\n",
      "step 3200,train_acc:0.898571,valid_acc:0.906667,train_loss:0.011558,valid_loss:0.009613 \n",
      "step 3300,train_acc:0.901429,valid_acc:0.913333,train_loss:0.010690,valid_loss:0.008905 *\n",
      "step 3400,train_acc:0.912857,valid_acc:0.913333,train_loss:0.009961,valid_loss:0.008314 \n",
      "step 3500,train_acc:0.920000,valid_acc:0.920000,train_loss:0.009330,valid_loss:0.007807 *\n",
      "step 3600,train_acc:0.922857,valid_acc:0.920000,train_loss:0.008775,valid_loss:0.007363 \n",
      "step 3700,train_acc:0.924286,valid_acc:0.926667,train_loss:0.008281,valid_loss:0.006968 *\n",
      "step 3800,train_acc:0.930000,valid_acc:0.933333,train_loss:0.007836,valid_loss:0.006611 *\n",
      "step 3900,train_acc:0.930000,valid_acc:0.933333,train_loss:0.007432,valid_loss:0.006286 \n",
      "step 4000,train_acc:0.934286,valid_acc:0.933333,train_loss:0.007063,valid_loss:0.005988 \n",
      "step 4100,train_acc:0.935714,valid_acc:0.933333,train_loss:0.006725,valid_loss:0.005713 \n",
      "step 4200,train_acc:0.937143,valid_acc:0.940000,train_loss:0.006414,valid_loss:0.005459 *\n",
      "step 4300,train_acc:0.940000,valid_acc:0.940000,train_loss:0.006126,valid_loss:0.005223 \n",
      "step 4400,train_acc:0.942857,valid_acc:0.940000,train_loss:0.005859,valid_loss:0.005002 \n",
      "step 4500,train_acc:0.942857,valid_acc:0.940000,train_loss:0.005610,valid_loss:0.004794 \n",
      "step 4600,train_acc:0.945714,valid_acc:0.946667,train_loss:0.005377,valid_loss:0.004600 *\n",
      "step 4700,train_acc:0.945714,valid_acc:0.946667,train_loss:0.005159,valid_loss:0.004416 \n",
      "step 4800,train_acc:0.945714,valid_acc:0.946667,train_loss:0.004953,valid_loss:0.004241 \n",
      "step 4900,train_acc:0.948571,valid_acc:0.946667,train_loss:0.004760,valid_loss:0.004076 \n",
      "step 5000,train_acc:0.948571,valid_acc:0.946667,train_loss:0.004576,valid_loss:0.003918 \n",
      "step 5100,train_acc:0.950000,valid_acc:0.953333,train_loss:0.004404,valid_loss:0.003768 *\n",
      "step 5200,train_acc:0.951429,valid_acc:0.953333,train_loss:0.004236,valid_loss:0.003623 \n",
      "step 5300,train_acc:0.952857,valid_acc:0.953333,train_loss:0.004072,valid_loss:0.003481 \n",
      "step 5400,train_acc:0.952857,valid_acc:0.953333,train_loss:0.003905,valid_loss:0.003339 \n",
      "step 5500,train_acc:0.955714,valid_acc:0.960000,train_loss:0.003737,valid_loss:0.003198 *\n",
      "step 5600,train_acc:0.957143,valid_acc:0.960000,train_loss:0.003569,valid_loss:0.003052 \n",
      "step 5700,train_acc:0.958571,valid_acc:0.960000,train_loss:0.003400,valid_loss:0.002904 \n",
      "step 5800,train_acc:0.960000,valid_acc:0.960000,train_loss:0.003237,valid_loss:0.002757 \n",
      "step 5900,train_acc:0.961429,valid_acc:0.960000,train_loss:0.003082,valid_loss:0.002619 \n",
      "Accuracy on the Training Set: 0.962857\n",
      "Accuracy on the Validation Set: 0.96\n",
      "Accuracy on the Test Set: 0.973333\n"
     ]
    }
   ],
   "source": [
    "# best valication accuracy\n",
    "best_valid_acc = 0.0\n",
    "\n",
    "# last improvement iteration number\n",
    "last_improvement = 0\n",
    "\n",
    "# stop iteration if no improve in this iteration num\n",
    "require_improvement = 1500\n",
    "\n",
    "# initialize the variables\n",
    "init = tf.global_variables_initializer()\n",
    "\n",
    "# hold step and error values\n",
    "t = []\n",
    "\n",
    "# Run your graph\n",
    "with tf.Session() as sess:\n",
    "    \n",
    "    # initialize variables\n",
    "    sess.run(init)\n",
    "\n",
    "    # Fit the function.\n",
    "    for step in range(6000):\n",
    "\n",
    "        # get your data\n",
    "        train_data = {x:train_x, y:train_y}\n",
    "        valid_data = {x:valid_x, y:valid_y}\n",
    "        test_data = {x:test_x, y:test_y}\n",
    "        \n",
    "        # training in progress...\n",
    "        train_loss, train_pred = sess.run([loss, train], feed_dict=train_data)        \n",
    "        \n",
    "        # print every n iterations\n",
    "        if step%100==0:\n",
    "           \n",
    "            # capture the step and error for analysis\n",
    "            valid_loss = sess.run(loss, feed_dict=valid_data) \n",
    "            t.append((step, train_loss, valid_loss))    \n",
    "            \n",
    "            # get snapshot of current training and validation accuracy       \n",
    "            train_acc = accuracy.eval(train_data)\n",
    "            valid_acc = accuracy.eval(valid_data)           \n",
    "\n",
    "            # If validation accuracy is an improvement over best-known.\n",
    "            if valid_acc > best_valid_acc:\n",
    "                # Update the best-known validation accuracy.\n",
    "                best_valid_acc = valid_acc\n",
    "                \n",
    "                # Set the iteration for the last improvement to current.\n",
    "                last_improvement = step\n",
    "\n",
    "                # Flag when ever an improvement is found\n",
    "                improved_str = '*'\n",
    "            else:\n",
    "                # An empty string to be printed below.\n",
    "                # Shows that no improvement was found.\n",
    "                improved_str = ''   \n",
    "                \n",
    "            print(\"step %d,train_acc:%f,valid_acc:%f,train_loss:%f,valid_loss:%f %s\" % (step,train_acc,valid_acc,train_loss,valid_loss,improved_str))            \n",
    "                \n",
    "            # If no improvement found in the required number of iterations.\n",
    "            if step - last_improvement > require_improvement:\n",
    "                print(\"No improvement found in a while, stopping optimization.\")\n",
    "\n",
    "                # Break out from the for-loop.\n",
    "                break                \n",
    "            \n",
    "            \n",
    "    # here is where you see how good of a Data Scientist you are        \n",
    "    print(\"Accuracy on the Training Set:\", accuracy.eval(train_data) )\n",
    "    print(\"Accuracy on the Validation Set:\", accuracy.eval(valid_data) ) \n",
    "    print(\"Accuracy on the Test Set:\", accuracy.eval(test_data) )\n",
    "    \n",
    "    test_results = sess.run(pred,feed_dict={x:test_x})\n",
    "    df_final = pd.DataFrame({'test_x':test_x[:,0],'pred':test_results[:,0]})\n",
    "    \n",
    "    df_loss = pd.DataFrame(t,columns=['step','train_loss','valid_loss'])\n",
    "            "
   ]
  },
  {
   "cell_type": "code",
   "execution_count": 93,
   "metadata": {},
   "outputs": [
    {
     "data": {
      "text/plain": [
       "<matplotlib.legend.Legend at 0x1192a52e8>"
      ]
     },
     "execution_count": 93,
     "metadata": {},
     "output_type": "execute_result"
    },
    {
     "data": {
      "image/png": "[encoded data removed]",
      "text/plain": [
       "<matplotlib.figure.Figure at 0x11bdea588>"
      ]
     },
     "metadata": {},
     "output_type": "display_data"
    }
   ],
   "source": [
    "fig,axes = plt.subplots(ncols=1,nrows=1,figsize=(15,5))\n",
    "\n",
    "df.plot.scatter(x='x',y='y',color='red',ax=axes)\n",
    "df_final.plot.scatter(x='test_x',y='pred',ax=axes,alpha=0.3)\n",
    "\n",
    "axes.set_title('target vs pred',fontsize=20)\n",
    "axes.set_xlabel('x',fontsize=15)\n",
    "axes.set_ylabel('y',fontsize=15)\n",
    "axes.legend(['target','pred'],loc='best')"
   ]
  },
  {
   "cell_type": "markdown",
   "metadata": {},
   "source": [
    "# check Overfitting\n",
    "If your **train_acc** descreasing and **valid_acc** increasing,you have a overfitting problems.And if you use **early stop** strategy, you'll prevent this issue."
   ]
  },
  {
   "cell_type": "code",
   "execution_count": 95,
   "metadata": {},
   "outputs": [
    {
     "data": {
      "text/plain": [
       "<matplotlib.axes._subplots.AxesSubplot at 0x11bb080f0>"
      ]
     },
     "execution_count": 95,
     "metadata": {},
     "output_type": "execute_result"
    },
    {
     "data": {
      "image/png": "[encoded data removed]",
      "text/plain": [
       "<matplotlib.figure.Figure at 0x11bb7b588>"
      ]
     },
     "metadata": {},
     "output_type": "display_data"
    }
   ],
   "source": [
    "df_loss.set_index('step').plot(logy=True,figsize=(15,5))"
   ]
  },
  {
   "cell_type": "markdown",
   "metadata": {},
   "source": [
    "# Your Turn  \n",
    "\n",
    "> See if you can come up with an equation that your model is highly prone to overfitting. If you can get it to clearly overfit, try to use the early stopping technique and see if it helps."
   ]
  },
  {
   "cell_type": "code",
   "execution_count": 97,
   "metadata": {
    "collapsed": true
   },
   "outputs": [],
   "source": [
    "def nn(hidden_size = 100,lr=0.005,epoch=6000,stopNum=1500,sampleNum=1000):\n",
    "    # generate 1000 samples\n",
    "    pool = np.random.rand(sampleNum,1).astype(np.float32);\n",
    "\n",
    "    #Shuffle samples\n",
    "    np.random.shuffle(pool)\n",
    "\n",
    "    # sample size 15%\n",
    "    sample = int(sampleNum * 0.15)\n",
    "\n",
    "    # 15% test\n",
    "    test_x = pool[0:sample]\n",
    "\n",
    "    # 15% validation\n",
    "    valid_x = pool[sample:2*sample]\n",
    "\n",
    "    # 75% train\n",
    "    train_x = pool[sample*2:]\n",
    "\n",
    "    print('test data shape:',test_x.shape)\n",
    "    print('valid data shape:',valid_x.shape)\n",
    "    print('train data shape:',train_x.shape)\n",
    "\n",
    "    # g = lambda x : 2.0*x**4 + 5\n",
    "    # test_y = g(test_x)\n",
    "    # valid_y = g(valid_x)\n",
    "    # train_y = g(train_x)\n",
    "\n",
    "    # Let's compute the ouput using 2 for a, 5 for b\n",
    "    test_y = 2.0 * test_x**4 + 5\n",
    "    valid_y = 2.0 * valid_x**4 + 5\n",
    "    train_y = 2.0 * train_x**4 + 5\n",
    "\n",
    "    # placeholders\n",
    "    x = tf.placeholder(tf.float32,shape=[None,1],name='01_x')\n",
    "    y = tf.placeholder(tf.float32,shape=[None,1],name='01_y')\n",
    "\n",
    "    print(\"shape of x and y\")\n",
    "    print(x.get_shape(),y.get_shape())\n",
    "\n",
    "    # create hidden layer\n",
    "    h1 = add_layer(x,1,hidden_size,tf.nn.relu)\n",
    "    h2 = add_layer(h1,hidden_size,hidden_size,tf.nn.relu)\n",
    "\n",
    "    print('shape of h1 and h2:')\n",
    "    print(h1.get_shape(),h2.get_shape())\n",
    "\n",
    "    pred = add_layer(h2,hidden_size,1)\n",
    "\n",
    "    print('shape of ouput layer:')\n",
    "    print(pred.get_shape())\n",
    "\n",
    "    # minimize the mean squared errors\n",
    "    loss = tf.reduce_mean(tf.square(pred-y))\n",
    "\n",
    "    # pick optimizer\n",
    "    optimizer = tf.train.GradientDescentOptimizer(lr)\n",
    "    train = optimizer.minimize(loss)\n",
    "\n",
    "    correct_prediction = tf.equal(tf.round(pred),tf.round(y))\n",
    "    accuracy = tf.reduce_mean(tf.cast(correct_prediction,tf.float32))\n",
    "\n",
    "    # best valication accuracy\n",
    "    best_valid_acc = 0.0\n",
    "\n",
    "    # last improvement iteration number\n",
    "    last_improvement = 0\n",
    "\n",
    "    # stop iteration if no improve in this iteration num\n",
    "    require_improvement = stopNum\n",
    "\n",
    "    # initialize the variables\n",
    "    init = tf.global_variables_initializer()\n",
    "\n",
    "    # hold step and error values\n",
    "    t = []\n",
    "\n",
    "    # Run your graph\n",
    "    with tf.Session() as sess:\n",
    "\n",
    "        # initialize variables\n",
    "        sess.run(init)\n",
    "\n",
    "        # Fit the function.\n",
    "        for step in range(epoch):\n",
    "\n",
    "            # get your data\n",
    "            train_data = {x:train_x, y:train_y}\n",
    "            valid_data = {x:valid_x, y:valid_y}\n",
    "            test_data = {x:test_x, y:test_y}\n",
    "\n",
    "            # training in progress...\n",
    "            train_loss, train_pred = sess.run([loss, train], feed_dict=train_data)        \n",
    "\n",
    "            # print every n iterations\n",
    "            if step%100==0:\n",
    "\n",
    "                # capture the step and error for analysis\n",
    "#                 valid_loss = sess.run(loss, feed_dict=valid_data) \n",
    "                valid_loss = loss.eval(valid_data)\n",
    "                t.append((step, train_loss, valid_loss))    \n",
    "\n",
    "                # get snapshot of current training and validation accuracy       \n",
    "                train_acc = accuracy.eval(train_data)\n",
    "                valid_acc = accuracy.eval(valid_data)           \n",
    "\n",
    "                # If validation accuracy is an improvement over best-known.\n",
    "                if valid_acc > best_valid_acc:\n",
    "                    # Update the best-known validation accuracy.\n",
    "                    best_valid_acc = valid_acc\n",
    "\n",
    "                    # Set the iteration for the last improvement to current.\n",
    "                    last_improvement = step\n",
    "\n",
    "                    # Flag when ever an improvement is found\n",
    "                    improved_str = '*'\n",
    "                else:\n",
    "                    # An empty string to be printed below.\n",
    "                    # Shows that no improvement was found.\n",
    "                    improved_str = ''   \n",
    "\n",
    "                print(\"step %d,train_acc:%f,valid_acc:%f,train_loss:%f,valid_loss:%f %s\" % (step,train_acc,valid_acc,train_loss,valid_loss,improved_str))            \n",
    "\n",
    "                # If no improvement found in the required number of iterations.\n",
    "                if step - last_improvement > require_improvement:\n",
    "                    print(\"No improvement found in a while, stopping optimization.\")\n",
    "\n",
    "                    # Break out from the for-loop.\n",
    "                    break                \n",
    "\n",
    "\n",
    "        # here is where you see how good of a Data Scientist you are        \n",
    "        print(\"Accuracy on the Training Set:\", accuracy.eval(train_data) )\n",
    "        print(\"Accuracy on the Validation Set:\", accuracy.eval(valid_data) ) \n",
    "        print(\"Accuracy on the Test Set:\", accuracy.eval(test_data) )"
   ]
  },
  {
   "cell_type": "code",
   "execution_count": 99,
   "metadata": {},
   "outputs": [
    {
     "name": "stdout",
     "output_type": "stream",
     "text": [
      "test data shape: (150, 1)\n",
      "valid data shape: (150, 1)\n",
      "train data shape: (700, 1)\n",
      "shape of x and y\n",
      "(?, 1) (?, 1)\n",
      "shape of h1 and h2:\n",
      "(?, 150) (?, 150)\n",
      "shape of ouput layer:\n",
      "(?, 1)\n",
      "step 0,train_acc:0.000000,valid_acc:0.000000,train_loss:891.635559,valid_loss:278.909943 \n",
      "step 100,train_acc:0.578571,valid_acc:0.653333,train_loss:0.224408,valid_loss:0.191979 *\n",
      "step 200,train_acc:0.591429,valid_acc:0.653333,train_loss:0.206700,valid_loss:0.176423 \n",
      "step 300,train_acc:0.600000,valid_acc:0.673333,train_loss:0.191905,valid_loss:0.163502 *\n",
      "step 400,train_acc:0.615714,valid_acc:0.680000,train_loss:0.179093,valid_loss:0.152366 *\n",
      "step 500,train_acc:0.628571,valid_acc:0.686667,train_loss:0.167801,valid_loss:0.142588 *\n",
      "step 600,train_acc:0.641429,valid_acc:0.700000,train_loss:0.157787,valid_loss:0.133950 *\n",
      "step 700,train_acc:0.658571,valid_acc:0.720000,train_loss:0.148886,valid_loss:0.126298 *\n",
      "step 800,train_acc:0.668571,valid_acc:0.733333,train_loss:0.140942,valid_loss:0.119497 *\n",
      "step 900,train_acc:0.680000,valid_acc:0.753333,train_loss:0.133819,valid_loss:0.113423 *\n",
      "step 1000,train_acc:0.692857,valid_acc:0.760000,train_loss:0.127399,valid_loss:0.107971 *\n",
      "step 1100,train_acc:0.707143,valid_acc:0.766667,train_loss:0.121591,valid_loss:0.103054 *\n",
      "step 1200,train_acc:0.711429,valid_acc:0.760000,train_loss:0.116314,valid_loss:0.098599 \n",
      "step 1300,train_acc:0.707143,valid_acc:0.766667,train_loss:0.111501,valid_loss:0.094546 \n",
      "step 1400,train_acc:0.702857,valid_acc:0.773333,train_loss:0.107097,valid_loss:0.090851 *\n",
      "step 1500,train_acc:0.702857,valid_acc:0.786667,train_loss:0.103055,valid_loss:0.087464 *\n",
      "step 1600,train_acc:0.714286,valid_acc:0.793333,train_loss:0.099341,valid_loss:0.084355 *\n",
      "step 1700,train_acc:0.714286,valid_acc:0.806667,train_loss:0.095921,valid_loss:0.081495 *\n",
      "step 1800,train_acc:0.711429,valid_acc:0.806667,train_loss:0.092763,valid_loss:0.078859 \n",
      "step 1900,train_acc:0.711429,valid_acc:0.800000,train_loss:0.089838,valid_loss:0.076422 \n",
      "step 2000,train_acc:0.712857,valid_acc:0.813333,train_loss:0.087126,valid_loss:0.074169 *\n",
      "step 2100,train_acc:0.708571,valid_acc:0.813333,train_loss:0.084600,valid_loss:0.072078 \n",
      "step 2200,train_acc:0.711429,valid_acc:0.813333,train_loss:0.082245,valid_loss:0.070135 \n",
      "step 2300,train_acc:0.718571,valid_acc:0.826667,train_loss:0.080047,valid_loss:0.068323 *\n",
      "step 2400,train_acc:0.722857,valid_acc:0.820000,train_loss:0.077989,valid_loss:0.066632 \n",
      "step 2500,train_acc:0.727143,valid_acc:0.820000,train_loss:0.076055,valid_loss:0.065046 \n",
      "step 2600,train_acc:0.731429,valid_acc:0.820000,train_loss:0.074238,valid_loss:0.063554 \n",
      "step 2700,train_acc:0.737143,valid_acc:0.820000,train_loss:0.072526,valid_loss:0.062153 \n",
      "step 2800,train_acc:0.737143,valid_acc:0.820000,train_loss:0.070905,valid_loss:0.060831 \n",
      "step 2900,train_acc:0.732857,valid_acc:0.826667,train_loss:0.069374,valid_loss:0.059583 \n",
      "step 3000,train_acc:0.734286,valid_acc:0.820000,train_loss:0.067923,valid_loss:0.058399 \n",
      "step 3100,train_acc:0.734286,valid_acc:0.820000,train_loss:0.066547,valid_loss:0.057277 \n",
      "step 3200,train_acc:0.740000,valid_acc:0.820000,train_loss:0.065243,valid_loss:0.056213 \n",
      "step 3300,train_acc:0.748571,valid_acc:0.813333,train_loss:0.064004,valid_loss:0.055201 \n",
      "step 3400,train_acc:0.760000,valid_acc:0.813333,train_loss:0.062827,valid_loss:0.054243 \n",
      "step 3500,train_acc:0.762857,valid_acc:0.813333,train_loss:0.061706,valid_loss:0.053334 \n",
      "step 3600,train_acc:0.765714,valid_acc:0.813333,train_loss:0.060641,valid_loss:0.052474 \n",
      "step 3700,train_acc:0.772857,valid_acc:0.813333,train_loss:0.059631,valid_loss:0.051665 \n",
      "step 3800,train_acc:0.780000,valid_acc:0.826667,train_loss:0.058673,valid_loss:0.050903 \n",
      "step 3900,train_acc:0.784286,valid_acc:0.833333,train_loss:0.057764,valid_loss:0.050190 *\n",
      "step 4000,train_acc:0.791429,valid_acc:0.833333,train_loss:0.056905,valid_loss:0.049523 \n",
      "step 4100,train_acc:0.794286,valid_acc:0.833333,train_loss:0.056096,valid_loss:0.048897 \n",
      "step 4200,train_acc:0.795714,valid_acc:0.833333,train_loss:0.055333,valid_loss:0.048311 \n",
      "step 4300,train_acc:0.795714,valid_acc:0.833333,train_loss:0.054612,valid_loss:0.047761 \n",
      "step 4400,train_acc:0.797143,valid_acc:0.840000,train_loss:0.053932,valid_loss:0.047247 *\n",
      "step 4500,train_acc:0.798571,valid_acc:0.846667,train_loss:0.053290,valid_loss:0.046764 *\n",
      "step 4600,train_acc:0.800000,valid_acc:0.846667,train_loss:0.052685,valid_loss:0.046309 \n",
      "step 4700,train_acc:0.800000,valid_acc:0.846667,train_loss:0.052112,valid_loss:0.045879 \n",
      "step 4800,train_acc:0.800000,valid_acc:0.846667,train_loss:0.051570,valid_loss:0.045473 \n",
      "step 4900,train_acc:0.801429,valid_acc:0.846667,train_loss:0.051053,valid_loss:0.045089 \n",
      "step 5000,train_acc:0.802857,valid_acc:0.846667,train_loss:0.050560,valid_loss:0.044727 \n",
      "step 5100,train_acc:0.807143,valid_acc:0.846667,train_loss:0.050091,valid_loss:0.044386 \n",
      "step 5200,train_acc:0.807143,valid_acc:0.846667,train_loss:0.049643,valid_loss:0.044061 \n",
      "step 5300,train_acc:0.808571,valid_acc:0.846667,train_loss:0.049218,valid_loss:0.043751 \n",
      "step 5400,train_acc:0.808571,valid_acc:0.846667,train_loss:0.048813,valid_loss:0.043456 \n",
      "step 5500,train_acc:0.810000,valid_acc:0.846667,train_loss:0.048424,valid_loss:0.043175 \n",
      "step 5600,train_acc:0.811429,valid_acc:0.846667,train_loss:0.048049,valid_loss:0.042905 \n",
      "step 5700,train_acc:0.811429,valid_acc:0.853333,train_loss:0.047689,valid_loss:0.042647 *\n",
      "step 5800,train_acc:0.812857,valid_acc:0.853333,train_loss:0.047343,valid_loss:0.042399 \n",
      "step 5900,train_acc:0.814286,valid_acc:0.853333,train_loss:0.047013,valid_loss:0.042163 \n",
      "Accuracy on the Training Set: 0.815714\n",
      "Accuracy on the Validation Set: 0.853333\n",
      "Accuracy on the Test Set: 0.833333\n"
     ]
    }
   ],
   "source": [
    "nn(hidden_size = 150,lr=0.0002,epoch=6000,stopNum=1500,sampleNum=1000)"
   ]
  },
  {
   "cell_type": "markdown",
   "metadata": {},
   "source": [
    "经测试发现：\n",
    "- 训练集正确率有时比验证集低，有时高，大部分情况低。推测和tf的梯度下降算法实现有关。\n",
    "- 数据量增加时，正确率下降\n",
    "- 隐藏节点过多时，正确率下降\n"
   ]
  },
  {
   "cell_type": "code",
   "execution_count": null,
   "metadata": {
    "collapsed": true
   },
   "outputs": [],
   "source": []
  }
 ],
 "metadata": {
  "kernelspec": {
   "display_name": "Python [conda env:tf]",
   "language": "python",
   "name": "conda-env-tf-py"
  },
  "language_info": {
   "codemirror_mode": {
    "name": "ipython",
    "version": 3
   },
   "file_extension": ".py",
   "mimetype": "text/x-python",
   "name": "python",
   "nbconvert_exporter": "python",
   "pygments_lexer": "ipython3",
   "version": "3.6.3"
  },
  "toc": {
   "nav_menu": {
    "height": "92px",
    "width": "252px"
   },
   "number_sections": true,
   "sideBar": true,
   "skip_h1_title": false,
   "title_cell": "Table of Contents",
   "title_sidebar": "Contents",
   "toc_cell": false,
   "toc_position": {},
   "toc_section_display": "block",
   "toc_window_display": false
  }
 },
 "nbformat": 4,
 "nbformat_minor": 2
}
