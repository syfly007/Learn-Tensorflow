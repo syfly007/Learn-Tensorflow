{
 "cells": [
  {
   "cell_type": "markdown",
   "metadata": {},
   "source": [
    "> Your very first Neural Network model using Tensorflow! You are going to learn how to model a simple line y = m x + b and use it to predict the values of y given x values."
   ]
  },
  {
   "cell_type": "code",
   "execution_count": 1,
   "metadata": {
    "collapsed": true
   },
   "outputs": [],
   "source": [
    "# import libraries\n",
    "import tensorflow as tf\n",
    "import pandas as pd\n",
    "import numpy as np\n",
    "import matplotlib.pyplot as plt\n",
    "plt.style.use('ggplot') # use this plot style\n",
    "import sys\n",
    "%matplotlib inline\n",
    "# inline表示将图表嵌入到Notebook中"
   ]
  },
  {
   "cell_type": "code",
   "execution_count": 2,
   "metadata": {
    "collapsed": true
   },
   "outputs": [],
   "source": [
    "%magic"
   ]
  },
  {
   "cell_type": "code",
   "execution_count": 3,
   "metadata": {},
   "outputs": [
    {
     "name": "stdout",
     "output_type": "stream",
     "text": [
      "Python version 3.6.3 |Anaconda, Inc.| (default, Nov  3 2017, 12:34:11) \n",
      "[GCC 4.2.1 Compatible Clang 4.0.1 (tags/RELEASE_401/final)]\n",
      "Tensorflow version 1.1.0\n",
      "Pandas version 0.20.3\n",
      "Numpy version 1.12.1\n"
     ]
    }
   ],
   "source": [
    "print('Python version ' + sys.version)\n",
    "print('Tensorflow version ' + tf.VERSION)\n",
    "print('Pandas version ' + pd.__version__)\n",
    "print('Numpy version ' + np.__version__)"
   ]
  },
  {
   "cell_type": "markdown",
   "metadata": {},
   "source": [
    "# Create Training Data  \n",
    "\n",
    "    y = m * x + b  \n",
    "\n",
    "* We are going to call our ***x*** variable, ***train_x***  \n",
    "* We are going to call our ***y*** variable, ***train_y***"
   ]
  },
  {
   "cell_type": "code",
   "execution_count": 4,
   "metadata": {
    "collapsed": true
   },
   "outputs": [],
   "source": [
    "# generate 100 random samples\n",
    "train_x = np.random.rand(100).astype(np.float)"
   ]
  },
  {
   "cell_type": "code",
   "execution_count": 5,
   "metadata": {
    "collapsed": true
   },
   "outputs": [],
   "source": [
    "# compute train_y\n",
    "train_y = 0.2*train_x + 5"
   ]
  },
  {
   "cell_type": "markdown",
   "metadata": {},
   "source": [
    "Let us pause for a second....\n",
    "\n",
    "What have you done thus far? You have simply created your training data that you are going to use to train your model. You will shortly be feeding in train_x to your model and ask it to predict what train_y should be. Your model needs to figure out what the values for m and b need to be in order be correct in its prediction. You already know the answer (m=0.1, b=0.3) but your job is to train your model to come up with the correct answer."
   ]
  },
  {
   "cell_type": "markdown",
   "metadata": {},
   "source": [
    "> Plot the Data so you know what you are working with"
   ]
  },
  {
   "cell_type": "code",
   "execution_count": 6,
   "metadata": {},
   "outputs": [
    {
     "data": {
      "text/html": [
       "<div>\n",
       "<style>\n",
       "    .dataframe thead tr:only-child th {\n",
       "        text-align: right;\n",
       "    }\n",
       "\n",
       "    .dataframe thead th {\n",
       "        text-align: left;\n",
       "    }\n",
       "\n",
       "    .dataframe tbody tr th {\n",
       "        vertical-align: top;\n",
       "    }\n",
       "</style>\n",
       "<table border=\"1\" class=\"dataframe\">\n",
       "  <thead>\n",
       "    <tr style=\"text-align: right;\">\n",
       "      <th></th>\n",
       "      <th>x</th>\n",
       "      <th>y</th>\n",
       "    </tr>\n",
       "  </thead>\n",
       "  <tbody>\n",
       "    <tr>\n",
       "      <th>0</th>\n",
       "      <td>0.023450</td>\n",
       "      <td>5.004690</td>\n",
       "    </tr>\n",
       "    <tr>\n",
       "      <th>1</th>\n",
       "      <td>0.619691</td>\n",
       "      <td>5.123938</td>\n",
       "    </tr>\n",
       "    <tr>\n",
       "      <th>2</th>\n",
       "      <td>0.603601</td>\n",
       "      <td>5.120720</td>\n",
       "    </tr>\n",
       "    <tr>\n",
       "      <th>3</th>\n",
       "      <td>0.458135</td>\n",
       "      <td>5.091627</td>\n",
       "    </tr>\n",
       "    <tr>\n",
       "      <th>4</th>\n",
       "      <td>0.748540</td>\n",
       "      <td>5.149708</td>\n",
       "    </tr>\n",
       "  </tbody>\n",
       "</table>\n",
       "</div>"
      ],
      "text/plain": [
       "          x         y\n",
       "0  0.023450  5.004690\n",
       "1  0.619691  5.123938\n",
       "2  0.603601  5.120720\n",
       "3  0.458135  5.091627\n",
       "4  0.748540  5.149708"
      ]
     },
     "execution_count": 6,
     "metadata": {},
     "output_type": "execute_result"
    }
   ],
   "source": [
    "df = pd.DataFrame({\n",
    "    'x':train_x,\n",
    "    'y':train_y\n",
    "})\n",
    "df.head()"
   ]
  },
  {
   "cell_type": "code",
   "execution_count": 7,
   "metadata": {},
   "outputs": [
    {
     "data": {
      "text/html": [
       "<div>\n",
       "<style>\n",
       "    .dataframe thead tr:only-child th {\n",
       "        text-align: right;\n",
       "    }\n",
       "\n",
       "    .dataframe thead th {\n",
       "        text-align: left;\n",
       "    }\n",
       "\n",
       "    .dataframe tbody tr th {\n",
       "        vertical-align: top;\n",
       "    }\n",
       "</style>\n",
       "<table border=\"1\" class=\"dataframe\">\n",
       "  <thead>\n",
       "    <tr style=\"text-align: right;\">\n",
       "      <th></th>\n",
       "      <th>x</th>\n",
       "      <th>y</th>\n",
       "    </tr>\n",
       "  </thead>\n",
       "  <tbody>\n",
       "    <tr>\n",
       "      <th>count</th>\n",
       "      <td>100.000000</td>\n",
       "      <td>100.000000</td>\n",
       "    </tr>\n",
       "    <tr>\n",
       "      <th>mean</th>\n",
       "      <td>0.519583</td>\n",
       "      <td>5.103917</td>\n",
       "    </tr>\n",
       "    <tr>\n",
       "      <th>std</th>\n",
       "      <td>0.293722</td>\n",
       "      <td>0.058744</td>\n",
       "    </tr>\n",
       "    <tr>\n",
       "      <th>min</th>\n",
       "      <td>0.003634</td>\n",
       "      <td>5.000727</td>\n",
       "    </tr>\n",
       "    <tr>\n",
       "      <th>25%</th>\n",
       "      <td>0.251828</td>\n",
       "      <td>5.050366</td>\n",
       "    </tr>\n",
       "    <tr>\n",
       "      <th>50%</th>\n",
       "      <td>0.511767</td>\n",
       "      <td>5.102353</td>\n",
       "    </tr>\n",
       "    <tr>\n",
       "      <th>75%</th>\n",
       "      <td>0.765625</td>\n",
       "      <td>5.153125</td>\n",
       "    </tr>\n",
       "    <tr>\n",
       "      <th>max</th>\n",
       "      <td>0.997956</td>\n",
       "      <td>5.199591</td>\n",
       "    </tr>\n",
       "  </tbody>\n",
       "</table>\n",
       "</div>"
      ],
      "text/plain": [
       "                x           y\n",
       "count  100.000000  100.000000\n",
       "mean     0.519583    5.103917\n",
       "std      0.293722    0.058744\n",
       "min      0.003634    5.000727\n",
       "25%      0.251828    5.050366\n",
       "50%      0.511767    5.102353\n",
       "75%      0.765625    5.153125\n",
       "max      0.997956    5.199591"
      ]
     },
     "execution_count": 7,
     "metadata": {},
     "output_type": "execute_result"
    }
   ],
   "source": [
    "df.describe()"
   ]
  },
  {
   "cell_type": "markdown",
   "metadata": {},
   "source": [
    "This is not a very exciting chart, but you can clearly see this is just a straight line. We could have added some noise to the data but I am trying to make this lesson as simple as possible."
   ]
  },
  {
   "cell_type": "code",
   "execution_count": 8,
   "metadata": {},
   "outputs": [
    {
     "data": {
      "text/plain": [
       "<matplotlib.axes._subplots.AxesSubplot at 0x1097106d8>"
      ]
     },
     "execution_count": 8,
     "metadata": {},
     "output_type": "execute_result"
    },
    {
     "data": {
      "image/png": "[encoded data removed]",
      "text/plain": [
       "<matplotlib.figure.Figure at 0x1189c58d0>"
      ]
     },
     "metadata": {},
     "output_type": "display_data"
    }
   ],
   "source": [
    "df.plot.scatter(x='x',y='y',figsize=(15,5))\n",
    "# scatter:散点图，figsize指定宽度和高度"
   ]
  },
  {
   "cell_type": "markdown",
   "metadata": {
    "collapsed": true
   },
   "source": [
    "# Create Test Data\n",
    "This is the data that you are going to use to verify that your model actually works. The test data should be data that your model has not seen before. In other words your training data should be different than your test data."
   ]
  },
  {
   "cell_type": "code",
   "execution_count": 9,
   "metadata": {
    "collapsed": true
   },
   "outputs": [],
   "source": [
    "test_x = np.random.rand(100).astype(np.float32)"
   ]
  },
  {
   "cell_type": "markdown",
   "metadata": {},
   "source": [
    "# Model your Graph\n",
    "\n",
    "> IMPORTANT functions/parameters to play with  \n",
    "\n",
    "* ***loss*** - There are various functions you can choose to measure the ***error*** between ***train_y*** (your training data) and ***pred*** (your models predicted value)  \n",
    "* ***GradientDescentOptimizer(LEARNING_RATE)*** - Modify this number to see how your results change"
   ]
  },
  {
   "cell_type": "markdown",
   "metadata": {},
   "source": [
    "### Variables  \n",
    "\n",
    "In the previous lessons, you have just defined constants and placeholders. In this lesson you are introducing Variables to the mix.  \n",
    "\n",
    "When your model runs it will initialize your variables ***W*** and ***b***. On every training iteration it will adjust the values for variables ***W*** and ***b***. For this to occur, you need to define ***W*** and ***b*** as variables.  \n",
    "\n",
    "* ***Constants*** - Values created before you run our model that do not change.\n",
    "* ***Placeholders*** - Values that are fed into your model at run time.\n",
    "* ***Variables*** - Values that are modified at run time by your model.  \n",
    "* ***W*** - Weights for your output layer.  \n",
    "* ***b*** - Biases for your output layer.  "
   ]
  },
  {
   "cell_type": "code",
   "execution_count": 15,
   "metadata": {},
   "outputs": [],
   "source": [
    "# placeholders\n",
    "x = tf.placeholder(tf.float32,name='01_x')\n",
    "y = tf.placeholder(tf.float32,name='01_y')\n",
    "\n",
    "# variables\n",
    "# Note that np.random.rand() is used to initialize your variables\n",
    "# np.random.rand() 作用是初始化\n",
    "W = tf.Variable(np.random.rand())\n",
    "b = tf.Variable(np.random.rand())\n",
    "pred = tf.multiply(W,x) + b\n",
    "\n",
    "# minimize the mean square errors\n",
    "# as mentioned above there are other ways to measure the error between train_y and pred\n",
    "loss = tf.reduce_mean(tf.square(pred-y))\n",
    "\n",
    "# we pick out our optimizer and a learning rate\n",
    "optimizer = tf.train.GradientDescentOptimizer(0.7)\n",
    "\n",
    "# we train our model by minimize our loss function\n",
    "train = optimizer.minimize(loss)"
   ]
  },
  {
   "cell_type": "markdown",
   "metadata": {},
   "source": [
    "# Time to Train!\n",
    "\n",
    "> When working with Variables you must initialize them with some default values, ***tf.global_variables_initializer()*** does that for you.\n",
    "\n",
    "You are going to train your model 200 times and see if we can create a model that can accurately predict. Play around with the number of training rounds, the Learning Rate, and see how this changes your results."
   ]
  },
  {
   "cell_type": "code",
   "execution_count": 18,
   "metadata": {},
   "outputs": [
    {
     "name": "stdout",
     "output_type": "stream",
     "text": [
      "0 3.80942 6.99361\n",
      "10 1.11495 4.94692\n",
      "20 0.49453 4.88808\n",
      "30 0.305443 4.94725\n",
      "40 0.239171 4.97888\n",
      "50 0.214722 4.99188\n",
      "60 0.205553 4.99692\n",
      "70 0.202097 4.99883\n",
      "80 0.200792 4.99956\n",
      "90 0.200299 4.99983\n",
      "100 0.200113 4.99994\n",
      "110 0.200042 4.99998\n",
      "120 0.200016 4.99999\n",
      "130 0.200006 5.0\n",
      "140 0.200002 5.0\n",
      "150 0.200001 5.0\n",
      "160 0.200001 5.0\n",
      "170 0.200001 5.0\n",
      "180 0.200001 5.0\n",
      "190 0.200001 5.0\n",
      "Train complete,W = 0.200001  b = 5.0\n"
     ]
    }
   ],
   "source": [
    "# init the variables\n",
    "init = tf.global_variables_initializer()\n",
    "\n",
    "# run your graph\n",
    "with tf.Session() as sess:\n",
    "    sess.run(init)\n",
    "    \n",
    "    #fit the function\n",
    "    for step in range(200):\n",
    "        #get your data\n",
    "        train_data = {x:train_x, y:train_y}\n",
    "        \n",
    "        sess.run(train,feed_dict=train_data)\n",
    "        \n",
    "        if step%10 == 0:\n",
    "            print(step,sess.run(W),sess.run(b))\n",
    "            \n",
    "    # note that W and b match the line we are tying to model (y = w*x + b)\n",
    "    print(\"Train complete,W =\",sess.run(W),\" b =\",sess.run(b))\n",
    "    \n",
    "    #run your trained model on your test data\n",
    "    test_result = sess.run(pred,feed_dict={x:test_x})\n",
    "    \n",
    "    df_final = pd.DataFrame({'test_x':test_x,'pred':test_result})\n"
   ]
  },
  {
   "cell_type": "markdown",
   "metadata": {},
   "source": [
    "# Plot the Training Data vs the Test Data  \n",
    "\n",
    "As you can see, your NN model is doing very well. You were able to get a line that matches perfectly using data that was not part of the training data set.  "
   ]
  },
  {
   "cell_type": "code",
   "execution_count": 33,
   "metadata": {},
   "outputs": [
    {
     "data": {
      "text/plain": [
       "Text(0.5,0,'x')"
      ]
     },
     "execution_count": 33,
     "metadata": {},
     "output_type": "execute_result"
    },
    {
     "data": {
      "image/png": "[encoded data removed]",
      "text/plain": [
       "<matplotlib.figure.Figure at 0x11dc4f518>"
      ]
     },
     "metadata": {},
     "output_type": "display_data"
    }
   ],
   "source": [
    "fig, axes = plt.subplots(nrows=1, ncols=1, figsize=(15,5))\n",
    "\n",
    "# chart 1: show the line we are trying to model\n",
    "df.plot.scatter(x='x',y='y',color='red',ax=axes)\n",
    "\n",
    "# chart 2: show the line we trained model came up with\n",
    "# alpha表示透明度\n",
    "df_final.plot.scatter(x='test_x',y='pred',ax=axes, alpha=0.3)\n",
    "\n",
    "# add a litter sugar\n",
    "axes.set_title('target vs pred',fontsize=20)\n",
    "axes.set_ylabel('y',fontsize=15)\n",
    "axes.set_xlabel('x',fontsize=15)"
   ]
  },
  {
   "cell_type": "markdown",
   "metadata": {},
   "source": [
    "There was a lot of information I ommitted in this lesson but the main point was to get you used to the mechanics of getting a simple NN model working. Don't get stuck in this lesson, your questions will be answered in the next lessons."
   ]
  },
  {
   "cell_type": "code",
   "execution_count": null,
   "metadata": {
    "collapsed": true
   },
   "outputs": [],
   "source": []
  }
 ],
 "metadata": {
  "kernelspec": {
   "display_name": "Python [conda env:tf]",
   "language": "python",
   "name": "conda-env-tf-py"
  },
  "language_info": {
   "codemirror_mode": {
    "name": "ipython",
    "version": 3
   },
   "file_extension": ".py",
   "mimetype": "text/x-python",
   "name": "python",
   "nbconvert_exporter": "python",
   "pygments_lexer": "ipython3",
   "version": "3.6.3"
  },
  "toc": {
   "colors": {
    "hover_highlight": "#DAA520",
    "running_highlight": "#FF0000",
    "selected_highlight": "#FFD700"
   },
   "moveMenuLeft": true,
   "nav_menu": {
    "height": "32px",
    "width": "252px"
   },
   "navigate_menu": true,
   "number_sections": true,
   "sideBar": true,
   "threshold": 4,
   "toc_cell": false,
   "toc_section_display": "block",
   "toc_window_display": false
  }
 },
 "nbformat": 4,
 "nbformat_minor": 2
}
