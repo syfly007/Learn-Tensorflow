{
 "cells": [
  {
   "cell_type": "markdown",
   "metadata": {},
   "source": [
    "# Tunning Your Model"
   ]
  },
  {
   "cell_type": "markdown",
   "metadata": {},
   "source": [
    "As a Data Scientist you need to be able to tune your model to make sure it is predicting as accurately as possible and doing it as fast as possible. There are a couple of parameters that you will have the opportunity to tweak for the Gradient Descent Optimizer.\n",
    "\n",
    "> ***Learning Rate*** - Determines how fast your model will learn. The higher the number the faster it will learn.\n",
    "\n",
    "* If you make the LR ***too high***, your model might oscillate between the same two values but never hit the local minimum (or the answer)\n",
    "\n",
    "* If you make the LR ***too small***, you might need significant more iterations to get to the local minimum  \n",
    "\n",
    "* Typical LR range: [0.001 - 1]\n",
    "\n",
    "The goal is to choose the ***highest learning rate*** that will get you the local minimum with as ***few iterations*** as possible.\n",
    "\n",
    "> ***Iterations*** - Determines the number of iterations you are going to run your model for. You may also hear this referred to as an epoch.\n",
    "\n",
    "Consider plotting the error output against the number of iterations.\n",
    "* Make sure the error it is decreasing in a consistent manner and decreasing after every iteration\n",
    "* **A flat line** could mean you have found your answer\n",
    "\n",
    "How many iterations are recommended?\n",
    "- Depends on the problem, it could be a few, it could be many."
   ]
  },
  {
   "cell_type": "markdown",
   "metadata": {},
   "source": [
    "# Practice Practice Practice"
   ]
  },
  {
   "cell_type": "code",
   "execution_count": 1,
   "metadata": {
    "collapsed": true
   },
   "outputs": [],
   "source": [
    "# import libraries\n",
    "import tensorflow as tf\n",
    "import pandas as pd\n",
    "import numpy as np\n",
    "import sys\n",
    "import math\n",
    "%matplotlib inline"
   ]
  },
  {
   "cell_type": "code",
   "execution_count": 2,
   "metadata": {},
   "outputs": [
    {
     "name": "stdout",
     "output_type": "stream",
     "text": [
      "Python version 3.6.3 |Anaconda, Inc.| (default, Nov  3 2017, 12:34:11) \n",
      "[GCC 4.2.1 Compatible Clang 4.0.1 (tags/RELEASE_401/final)]\n",
      "Tensorflow version 1.1.0\n",
      "Pandas version 0.20.3\n",
      "Numpy version 1.12.1\n"
     ]
    }
   ],
   "source": [
    "print('Python version ' + sys.version)\n",
    "print('Tensorflow version ' + tf.VERSION)\n",
    "print('Pandas version ' + pd.__version__)\n",
    "print('Numpy version ' + np.__version__)"
   ]
  },
  {
   "cell_type": "markdown",
   "metadata": {},
   "source": [
    "# Create Test Data  \n",
    "\n",
    "    y = m * x + b  \n",
    "\n",
    "* We are going to call our ***x*** variable, ***train_x***  \n",
    "* We are going to call our ***y*** variable, ***train_y***"
   ]
  },
  {
   "cell_type": "code",
   "execution_count": 3,
   "metadata": {
    "collapsed": true
   },
   "outputs": [],
   "source": [
    "# let's generate 100 random samples\n",
    "train_x = np.random.rand(100).astype(np.float32)"
   ]
  },
  {
   "cell_type": "code",
   "execution_count": 4,
   "metadata": {
    "collapsed": true
   },
   "outputs": [],
   "source": [
    "train_y = 0.1 * train_x + 0.3"
   ]
  },
  {
   "cell_type": "markdown",
   "metadata": {},
   "source": [
    "# Pick a Large Learning Rate  \n",
    "\n",
    "In Lesson 4, we used a LR of 0.7"
   ]
  },
  {
   "cell_type": "code",
   "execution_count": 42,
   "metadata": {
    "collapsed": true
   },
   "outputs": [],
   "source": [
    "# placeholders,注意和train_x的区别\n",
    "x = tf.placeholder(tf.float32,name=\"01_x\")\n",
    "y = tf.placeholder(tf.float32,name=\"01_y\")\n",
    "\n",
    "# variables\n",
    "W = tf.Variable(np.random.rand())\n",
    "b = tf.Variable(np.random.rand())\n",
    "pred = W * train_x + b\n",
    "\n",
    "# minimize the mean square errors\n",
    "loss = tf.reduce_mean(tf.square(pred-y))\n",
    "optimizer = tf.train.GradientDescentOptimizer(.5)\n",
    "train = optimizer.minimize(loss)"
   ]
  },
  {
   "cell_type": "markdown",
   "metadata": {},
   "source": [
    "# How Good is Your Model?\n",
    "Set up the following variables to calculate the accuracy rate of your model. You will do that shortly."
   ]
  },
  {
   "cell_type": "code",
   "execution_count": 43,
   "metadata": {},
   "outputs": [],
   "source": [
    "# check accurate of model\n",
    "# tf.round作用是将大于等于0.5输出为1，其余输出为0\n",
    "correct_prediction = tf.equal(tf.round(pred),tf.round(train_y))\n",
    "accuracy = tf.reduce_mean(tf.cast(correct_prediction,tf.float32))"
   ]
  },
  {
   "cell_type": "markdown",
   "metadata": {},
   "source": [
    "# Keep the Number of Iterations at 200 "
   ]
  },
  {
   "cell_type": "code",
   "execution_count": 44,
   "metadata": {},
   "outputs": [
    {
     "name": "stdout",
     "output_type": "stream",
     "text": [
      "Accuracy on the Training Set: 1.0\n"
     ]
    }
   ],
   "source": [
    "# hold step and error values\n",
    "t = []\n",
    "\n",
    "# initial the variables\n",
    "init = tf.global_variables_initializer()\n",
    "\n",
    "# run your graph\n",
    "with tf.Session() as sess:\n",
    "    sess.run(init)\n",
    "    # get your data\n",
    "    train_data = {x:train_x,y:train_y}\n",
    "    \n",
    "    for step in range(6000):\n",
    "        # training in progress...\n",
    "        sess.run(train,feed_dict=(train_data))\n",
    "        \n",
    "        # capture the step and error for analysis\n",
    "        t.append((step,sess.run(loss,feed_dict=train_data)))\n",
    "        \n",
    "    # here is where you see how good of a Data Scientist you are        \n",
    "    print(\"Accuracy on the Training Set:\", accuracy.eval({x: train_x, y: train_y}) )"
   ]
  },
  {
   "cell_type": "markdown",
   "metadata": {},
   "source": [
    "As you can see, since we increased the learning rate, our model tries to learn too quickly and it actually jumps over the local minimum we are after."
   ]
  },
  {
   "cell_type": "markdown",
   "metadata": {},
   "source": [
    "# Plot Loss Function vs Iterations  \n",
    "\n",
    "> Plotting your data is going to give you a clear picture if you need your change your LR and/or the number of iterations.  \n",
    "\n",
    "As you can see it seems like the model gets worse over time."
   ]
  },
  {
   "cell_type": "code",
   "execution_count": 45,
   "metadata": {},
   "outputs": [
    {
     "data": {
      "image/png": "[encoded data removed]",
      "text/plain": [
       "<matplotlib.figure.Figure at 0x11dbc27b8>"
      ]
     },
     "metadata": {},
     "output_type": "display_data"
    }
   ],
   "source": [
    "pd.DataFrame(t, columns=['step', 'error']).set_index('step').plot(figsize=(20,5));"
   ]
  },
  {
   "cell_type": "markdown",
   "metadata": {},
   "source": [
    "# Change the LR to .001 \n",
    "\n",
    "> The error rate seems to be decreasing over time but you still don't have our answer and the chart does not see to be stabalizing."
   ]
  },
  {
   "cell_type": "markdown",
   "metadata": {},
   "source": [
    "# Change the Number of Iterations to 6,000  \n",
    "\n",
    "> As you can see, you are now really close to the exact answer and the graph is starting to flat line which is exactly what we want to see."
   ]
  },
  {
   "cell_type": "markdown",
   "metadata": {},
   "source": [
    "# Your Turn  \n",
    "\n",
    "* Try different Learning Rates like 0.9, 0.5, 0.2  \n",
    "\n",
    "> What is the best LR/Iteration combination you can come up with?"
   ]
  },
  {
   "cell_type": "code",
   "execution_count": 51,
   "metadata": {},
   "outputs": [],
   "source": [
    "def nn(LR=0.5,epoch=200):\n",
    "    # placeholders,注意和train_x的区别\n",
    "    x = tf.placeholder(tf.float32,name=\"01_x\")\n",
    "    y = tf.placeholder(tf.float32,name=\"01_y\")\n",
    "\n",
    "    # variables\n",
    "    W = tf.Variable(np.random.rand())\n",
    "    b = tf.Variable(np.random.rand())\n",
    "    pred = W * train_x + b\n",
    "\n",
    "    # minimize the mean square errors\n",
    "    loss = tf.reduce_mean(tf.square(pred-y))\n",
    "    optimizer = tf.train.GradientDescentOptimizer(LR)\n",
    "    train = optimizer.minimize(loss)\n",
    "\n",
    "    # check accurate of model\n",
    "    # tf.round作用是将大于等于0.5输出为1，其余输出为0\n",
    "    correct_prediction = tf.equal(tf.round(pred),tf.round(train_y))\n",
    "    accuracy = tf.reduce_mean(tf.cast(correct_prediction,tf.float32))\n",
    "\n",
    "    # hold step and error values\n",
    "    t = []\n",
    "\n",
    "    # initial the variables\n",
    "    init = tf.global_variables_initializer()\n",
    "\n",
    "    # run your graph\n",
    "    with tf.Session() as sess:\n",
    "        sess.run(init)\n",
    "        # get your data\n",
    "        train_data = {x:train_x,y:train_y}\n",
    "\n",
    "        for step in range(epoch):\n",
    "            # training in progress...\n",
    "            sess.run(train,feed_dict=(train_data))\n",
    "\n",
    "            # capture the step and error for analysis\n",
    "            t.append((step,sess.run(loss,feed_dict=train_data)))\n",
    "\n",
    "        # here is where you see how good of a Data Scientist you are        \n",
    "        print(\"Accuracy on the Training Set:\", accuracy.eval({x: train_x, y: train_y}) )\n",
    "\n",
    "    pd.DataFrame(t, columns=['step', 'error']).set_index('step').plot(figsize=(20,5));"
   ]
  },
  {
   "cell_type": "code",
   "execution_count": 52,
   "metadata": {},
   "outputs": [
    {
     "name": "stdout",
     "output_type": "stream",
     "text": [
      "Accuracy on the Training Set: 0.0\n"
     ]
    },
    {
     "data": {
      "image/png": "[encoded data removed]",
      "text/plain": [
       "<matplotlib.figure.Figure at 0x11e567828>"
      ]
     },
     "metadata": {},
     "output_type": "display_data"
    }
   ],
   "source": [
    "nn(0.9,200)"
   ]
  },
  {
   "cell_type": "code",
   "execution_count": 53,
   "metadata": {},
   "outputs": [
    {
     "name": "stdout",
     "output_type": "stream",
     "text": [
      "Accuracy on the Training Set: 1.0\n"
     ]
    },
    {
     "data": {
      "image/png": "[encoded data removed]",
      "text/plain": [
       "<matplotlib.figure.Figure at 0x11e925630>"
      ]
     },
     "metadata": {},
     "output_type": "display_data"
    }
   ],
   "source": [
    "nn(0.5,200)"
   ]
  },
  {
   "cell_type": "code",
   "execution_count": 56,
   "metadata": {},
   "outputs": [
    {
     "name": "stdout",
     "output_type": "stream",
     "text": [
      "Accuracy on the Training Set: 1.0\n"
     ]
    },
    {
     "data": {
      "image/png": "[encoded data removed]",
      "text/plain": [
       "<matplotlib.figure.Figure at 0x119def668>"
      ]
     },
     "metadata": {},
     "output_type": "display_data"
    }
   ],
   "source": [
    "nn(0.2,200)"
   ]
  },
  {
   "cell_type": "code",
   "execution_count": 60,
   "metadata": {},
   "outputs": [
    {
     "name": "stdout",
     "output_type": "stream",
     "text": [
      "Accuracy on the Training Set: 1.0\n"
     ]
    },
    {
     "data": {
      "image/png": "[encoded data removed]",
      "text/plain": [
       "<matplotlib.figure.Figure at 0x11ed6b908>"
      ]
     },
     "metadata": {},
     "output_type": "display_data"
    }
   ],
   "source": [
    "nn(0.001,2000)"
   ]
  },
  {
   "cell_type": "code",
   "execution_count": null,
   "metadata": {
    "collapsed": true
   },
   "outputs": [],
   "source": []
  }
 ],
 "metadata": {
  "kernelspec": {
   "display_name": "Python [conda env:tf]",
   "language": "python",
   "name": "conda-env-tf-py"
  },
  "language_info": {
   "codemirror_mode": {
    "name": "ipython",
    "version": 3
   },
   "file_extension": ".py",
   "mimetype": "text/x-python",
   "name": "python",
   "nbconvert_exporter": "python",
   "pygments_lexer": "ipython3",
   "version": "3.6.3"
  },
  "toc": {
   "colors": {
    "hover_highlight": "#DAA520",
    "running_highlight": "#FF0000",
    "selected_highlight": "#FFD700"
   },
   "moveMenuLeft": true,
   "nav_menu": {
    "height": "212px",
    "width": "252px"
   },
   "navigate_menu": true,
   "number_sections": true,
   "sideBar": true,
   "threshold": 4,
   "toc_cell": false,
   "toc_section_display": "block",
   "toc_window_display": false
  }
 },
 "nbformat": 4,
 "nbformat_minor": 2
}
