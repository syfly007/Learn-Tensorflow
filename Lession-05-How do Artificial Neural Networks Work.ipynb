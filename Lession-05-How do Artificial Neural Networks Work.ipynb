{
 "cells": [
  {
   "cell_type": "markdown",
   "metadata": {},
   "source": [
    "# How do Artificial Neural Networks Work?"
   ]
  },
  {
   "cell_type": "markdown",
   "metadata": {},
   "source": [
    "<!-- ---------------------------------------------------- -->\n",
    "  <div class=\"col-sm-10 col-md-10 col-lg-10\">\n",
    "\t<!-- logo -->  \n",
    "    <div class=\"img-responsive\">\n",
    "      <img src=\"https://bytebucket.org/hrojas/learn-tensorflow/raw/master/lessons/01_nn.jpg\" title=\"Tensorflow Tutorial | Hedaro\" alt=\"Tensorflow Tutorial | Hedaro\">    \n",
    "    </div>\n",
    "\t<!-- logo -->\t\n",
    "  </div>\n",
    "<!-- ---------------------------------------------------- -->"
   ]
  },
  {
   "cell_type": "markdown",
   "metadata": {},
   "source": [
    "The basic Neural Network has an INPUT, a HIDDEN, and an OUTPUT layer as shown in the figure above.  \n",
    "\n",
    "* ***INPUT*** - This is where you feed your model your data.  \n",
    "* ***HIDDEN*** - This is where all the \"magic\" happens.  \n",
    "* ***OUTPUT*** - This is where your model makes a prediction.\n"
   ]
  },
  {
   "cell_type": "markdown",
   "metadata": {},
   "source": [
    "## As data enters the model...\n",
    "They are multiplied by ***weights*** and then a ***bias*** gets added to that calculation. The result of this calculation will then be your ***OUTPUT***. So for example, if you had a model that predicts home prices based on the size of your home. Your ***INPUT*** will be the square footage of your house. Your model then will multiply this number by a Weight and then add it to a bias. The result of this calculation will be the home price predicted by your model. Pretty easy so far."
   ]
  },
  {
   "cell_type": "markdown",
   "metadata": {},
   "source": [
    "<!-- ---------------------------------------------------- -->\n",
    "  <div class=\"col-sm-10 col-md-10 col-lg-10\">\n",
    "\t<!-- logo -->  \n",
    "    <div class=\"img-responsive\">\n",
    "      <img src=\"https://bytebucket.org/hrojas/learn-tensorflow/raw/master/lessons/02_nn.jpg\" title=\"Tensorflow Tutorial | Hedaro\" alt=\"Tensorflow Tutorial | Hedaro\">    \n",
    "    </div>\n",
    "\t<!-- logo -->\t\n",
    "  </div>\n",
    "<!-- ---------------------------------------------------- -->"
   ]
  },
  {
   "cell_type": "markdown",
   "metadata": {},
   "source": [
    "# How Does a Neural Network Learn?"
   ]
  },
  {
   "cell_type": "markdown",
   "metadata": {},
   "source": [
    "You need to train your model in order for it to learn. Below are the ingredients you need to have in place to teach.  \n",
    "\n",
    "* Training data (which inlcudes the INPUT and OUTPUT values)  \n",
    "* Loss Function (this calculates how good or bad your model is making predictions)  \n",
    "\n",
    "Let's keep going with the home price example mentioned above. Suppose you gathered historical data from Zillow on home prices. You have two columns, one tells you the size of a house in  square footage, and the other column is the price the home last sold for. This is what we call your ***training data***. This is the data we are going to use to train our model with."
   ]
  },
  {
   "cell_type": "markdown",
   "metadata": {},
   "source": [
    "<!-- ---------------------------------------------------- -->\n",
    "  <div class=\"col-sm-10 col-md-10 col-lg-10\">\n",
    "\t<!-- logo -->  \n",
    "    <div class=\"img-responsive\">\n",
    "      <img src=\"https://bytebucket.org/hrojas/learn-tensorflow/raw/master/lessons/03_nn.jpg\" title=\"Tensorflow Tutorial | Hedaro\" alt=\"Tensorflow Tutorial | Hedaro\">    \n",
    "    </div>\n",
    "\t<!-- logo -->\t\n",
    "  </div>\n",
    "<!-- ---------------------------------------------------- -->"
   ]
  },
  {
   "cell_type": "markdown",
   "metadata": {},
   "source": [
    "After the model makes a prediction as shown above, we need a way to determine how accurate the prediction was. This is where our ***loss*** function comes into play. It will tell the model that it was wrong and it needs to correct itself.  \n",
    "\n",
    "> So how exactly are the Weights and Bias numbers calculated?  \n",
    "\n",
    "These numbers are initialized with some random values. After the first training iteration, the loss function will tell the model how far off it is from the correct output. The model will then adjust the values for ***W*** (weight) and ***b*** (bias) so that its prediction on iteration 2 is better than on iteration 1. This is also called ***backpropagation***.  \n",
    "\n",
    "> How does the model determine how much to adjust the W and b?  \n",
    "\n",
    "In the previous lessons, we have been using the Gradient Descent method. It is the Learning Rate that will determine how much of an adjustment to make on W and b. The larger the LR, the bigger the adjustment per iteration.  \n",
    "\n",
    "So after X number of iterations, your model has hopefully adjusted its Weights and bias numbers so that that the difference between its predicted values are very close to the actual values. After you have tuned your model, it is then ready to accept new data that is has ***NOT*** seeing before and give you an acurate prediction. Hope this makes sense."
   ]
  },
  {
   "cell_type": "markdown",
   "metadata": {},
   "source": [
    "# Let's go Back to Lesson 4  \n",
    "\n",
    "> I'm about to tie together the terms and ideas from above with the code you have already written. This will hopefully make something click in your head. "
   ]
  },
  {
   "cell_type": "markdown",
   "metadata": {},
   "source": [
    "## This was your test data  \n",
    "\n",
    "* test_x - was your INPUT  \n",
    "* test_y - was the data we compared against the OUTPUT of your model to see how well it was doing"
   ]
  },
  {
   "cell_type": "markdown",
   "metadata": {},
   "source": [
    "    # let's generate 100 random samples\n",
    "    test_x = np.random.rand(100).astype(np.float32)\n",
    "\n",
    "    # let's compute y_data using 0.1 for m and 0.3 for b\n",
    "    test_y = 0.1 * data_x + 0.3"
   ]
  },
  {
   "cell_type": "markdown",
   "metadata": {},
   "source": [
    "# This were the Weights and Bias Variables  \n",
    "\n",
    "This is the \"magic\" that was being calculated in our output layer. Note that the model you created in lesson 4 did ***NOT*** have a hidden later.  \n",
    "\n",
    "* W - This was our Weight variable  \n",
    "* b - This was our bias variable"
   ]
  },
  {
   "cell_type": "markdown",
   "metadata": {},
   "source": [
    "    # Model your graph\n",
    "    W = tf.Variable(np.random.rand())\n",
    "    b = tf.Variable(np.random.rand())\n",
    "    pred = tf.mul(W, x) + b"
   ]
  },
  {
   "cell_type": "markdown",
   "metadata": {},
   "source": [
    "# This is Were We Created the Loss Function and Picked Our Learning Rate  \n",
    "\n",
    "> This is were all the backpropagation occured and were your model started to learn\n",
    "\n",
    "    # How good or bad is our model doing?/评价模型的好坏\n",
    "    loss = tf.reduce_mean(tf.square(pred - y))\n",
    "    \n",
    "    # Pick your Learning Rate/设置学习率\n",
    "    optimizer = tf.train.GradientDescentOptimizer(0.07)\n",
    "    \n",
    "    # Pick the best W and b values so that we get the smallest prediction error/选取合适的W和b，使error最小\n",
    "    train = optimizer.minimize(loss)"
   ]
  },
  {
   "cell_type": "markdown",
   "metadata": {},
   "source": [
    "This concludes the lesson for today. There is a whole lot more to learn but hopefully this lesson gave you a good head start."
   ]
  },
  {
   "cell_type": "code",
   "execution_count": null,
   "metadata": {
    "collapsed": true
   },
   "outputs": [],
   "source": []
  }
 ],
 "metadata": {
  "kernelspec": {
   "display_name": "Python [conda env:tf]",
   "language": "python",
   "name": "conda-env-tf-py"
  },
  "language_info": {
   "codemirror_mode": {
    "name": "ipython",
    "version": 3
   },
   "file_extension": ".py",
   "mimetype": "text/x-python",
   "name": "python",
   "nbconvert_exporter": "python",
   "pygments_lexer": "ipython3",
   "version": "3.6.3"
  },
  "toc": {
   "colors": {
    "hover_highlight": "#DAA520",
    "running_highlight": "#FF0000",
    "selected_highlight": "#FFD700"
   },
   "moveMenuLeft": true,
   "nav_menu": {
    "height": "152px",
    "width": "252px"
   },
   "navigate_menu": true,
   "number_sections": true,
   "sideBar": true,
   "threshold": 4,
   "toc_cell": false,
   "toc_section_display": "block",
   "toc_window_display": false
  }
 },
 "nbformat": 4,
 "nbformat_minor": 2
}
