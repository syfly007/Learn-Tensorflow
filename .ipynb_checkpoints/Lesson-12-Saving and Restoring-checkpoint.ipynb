{
 "cells": [
  {
   "cell_type": "markdown",
   "metadata": {},
   "source": [
    "# Saving and Restoring\n",
    "\n",
    "In this lesson you are going to save and restore your models for additional training.\n",
    "\n",
    "> Tensorflow makes this [really easy](https://www.tensorflow.org/how_tos/variables/)\n",
    "\n",
    "#### Create Saver object\n",
    "* saver = tf.train.Saver()  \n",
    "\n",
    "#### Save Model\n",
    "* saver.save(sess, save_path)\n",
    "\n",
    "#### Restore Model\n",
    "* saver.restore(sess, save_path)"
   ]
  },
  {
   "cell_type": "code",
   "execution_count": 122,
   "metadata": {},
   "outputs": [
    {
     "name": "stdout",
     "output_type": "stream",
     "text": [
      "Python version 3.6.3 |Anaconda, Inc.| (default, Nov  3 2017, 12:34:11) \n",
      "[GCC 4.2.1 Compatible Clang 4.0.1 (tags/RELEASE_401/final)]\n",
      "Tensorflow version 1.1.0\n",
      "Pandas version 0.20.3\n",
      "Numpy version 1.14.0\n"
     ]
    }
   ],
   "source": [
    "# import libraries\n",
    "import tensorflow as tf\n",
    "import pandas as pd\n",
    "import numpy as np\n",
    "from sklearn import preprocessing\n",
    "import sys\n",
    "import datetime\n",
    "import matplotlib.pyplot as plt\n",
    "plt.style.use('ggplot')  # use this plot style\n",
    "%matplotlib inline\n",
    "\n",
    "print('Python version ' + sys.version)\n",
    "print('Tensorflow version ' + tf.VERSION)\n",
    "print('Pandas version ' + pd.__version__)\n",
    "print('Numpy version ' + np.__version__)"
   ]
  },
  {
   "cell_type": "markdown",
   "metadata": {
    "collapsed": true
   },
   "source": [
    "# Function to model\n",
    "\n",
    "    y = a * x^8 - b * x^6  \n",
    "\n",
    "\n",
    "> TIP: Recommended percentages  \n",
    "\n",
    "* Training - ***70%***\n",
    "* Validation - ***15%***\n",
    "* Test - ***15%***"
   ]
  },
  {
   "cell_type": "markdown",
   "metadata": {},
   "source": [
    "# Some Handy Functions  \n",
    "\n",
    "Since my model was performing terribly, I attempted to pre-process my data to see if this would help me out. "
   ]
  },
  {
   "cell_type": "code",
   "execution_count": 123,
   "metadata": {},
   "outputs": [],
   "source": [
    "def normalize(array):\n",
    "    u = array.mean()\n",
    "    s = array.std()\n",
    "    norm = (array - u)/s\n",
    "    return u,s,norm\n",
    "\n",
    "def min_max(array,min = 0, max = 1):\n",
    "    X_std = (array - array.min(axis=0))/(array.max(axis=0) - array.min(axis=0))\n",
    "    X_scaled = X_std * ( max - min ) + min\n",
    "    return X_scaled"
   ]
  },
  {
   "cell_type": "code",
   "execution_count": 124,
   "metadata": {},
   "outputs": [
    {
     "name": "stdout",
     "output_type": "stream",
     "text": [
      "Testing data points: (150, 1)\n",
      "Validation data points: (150, 1)\n",
      "Training data points: (9700, 1)\n"
     ]
    }
   ],
   "source": [
    "# Let's generate 10000 random samples\n",
    "pool = np.random.rand(10000,1).astype(np.float32)\n",
    "\n",
    "# Shuffle the samples\n",
    "np.random.shuffle(pool)\n",
    "\n",
    "# sample size of 15%\n",
    "sample = int(1000 * 0.15)\n",
    "\n",
    "# 15% test\n",
    "test_x = pool[0:sample]\n",
    "\n",
    "# 15% validation\n",
    "valid_x = pool[sample:sample*2]\n",
    "\n",
    "# 70% training\n",
    "train_x = pool[sample*2:]\n",
    "\n",
    "print('Testing data points: ' + str(test_x.shape))\n",
    "print('Validation data points: ' + str(valid_x.shape))\n",
    "print('Training data points: ' + str(train_x.shape))\n",
    "\n",
    "# Let's compute the ouput using 2 for a and 2 for b\n",
    "test_y = 2.0 * test_x**8 + 1.0 * test_x**6\n",
    "valid_y = 2.0 * valid_x**8 + 1.0 * valid_x**6\n",
    "train_y = 2.0 * train_x**8 + 1.0 * train_x**6\n",
    "\n",
    "# 缩放x和y，由于x已经很接近0～1范围，所以只缩放y\n",
    "test_y = min_max(test_y)\n",
    "valid_y = min_max(valid_y)\n",
    "train_y = min_max(train_y)\n",
    "\n",
    "# Normalize x and y (I choose to only normalize y since x seemed already to be close enough to mean=0, std=1)\n",
    "u_test_y,s_test_y,test_y = normalize(test_y)\n",
    "u_valid_y,s_valid_y,valid_y = normalize(valid_y)\n",
    "u_train_y,s_train_y,train_y = normalize(train_y)"
   ]
  },
  {
   "cell_type": "code",
   "execution_count": 125,
   "metadata": {},
   "outputs": [
    {
     "data": {
      "text/html": [
       "<div>\n",
       "<style>\n",
       "    .dataframe thead tr:only-child th {\n",
       "        text-align: right;\n",
       "    }\n",
       "\n",
       "    .dataframe thead th {\n",
       "        text-align: left;\n",
       "    }\n",
       "\n",
       "    .dataframe tbody tr th {\n",
       "        vertical-align: top;\n",
       "    }\n",
       "</style>\n",
       "<table border=\"1\" class=\"dataframe\">\n",
       "  <thead>\n",
       "    <tr style=\"text-align: right;\">\n",
       "      <th></th>\n",
       "      <th>train_x</th>\n",
       "      <th>train_y</th>\n",
       "    </tr>\n",
       "  </thead>\n",
       "  <tbody>\n",
       "    <tr>\n",
       "      <th>0</th>\n",
       "      <td>0.252278</td>\n",
       "      <td>-0.548535</td>\n",
       "    </tr>\n",
       "    <tr>\n",
       "      <th>1</th>\n",
       "      <td>0.634043</td>\n",
       "      <td>-0.372386</td>\n",
       "    </tr>\n",
       "    <tr>\n",
       "      <th>2</th>\n",
       "      <td>0.855143</td>\n",
       "      <td>0.901863</td>\n",
       "    </tr>\n",
       "    <tr>\n",
       "      <th>3</th>\n",
       "      <td>0.334658</td>\n",
       "      <td>-0.546382</td>\n",
       "    </tr>\n",
       "    <tr>\n",
       "      <th>4</th>\n",
       "      <td>0.830298</td>\n",
       "      <td>0.625287</td>\n",
       "    </tr>\n",
       "  </tbody>\n",
       "</table>\n",
       "</div>"
      ],
      "text/plain": [
       "    train_x   train_y\n",
       "0  0.252278 -0.548535\n",
       "1  0.634043 -0.372386\n",
       "2  0.855143  0.901863\n",
       "3  0.334658 -0.546382\n",
       "4  0.830298  0.625287"
      ]
     },
     "execution_count": 125,
     "metadata": {},
     "output_type": "execute_result"
    }
   ],
   "source": [
    "df = pd.DataFrame({'train_x':train_x[:,0],\n",
    "                   'train_y':train_y[:,0]})\n",
    "\n",
    "df_valid = pd.DataFrame({'valid_x':valid_x[:,0],\n",
    "                   'valid_y':valid_y[:,0]})\n",
    "\n",
    "df_test = pd.DataFrame({'test_x':test_x[:,0],\n",
    "                   'test_y':test_y[:,0]})\n",
    "df.head()"
   ]
  },
  {
   "cell_type": "code",
   "execution_count": 126,
   "metadata": {},
   "outputs": [
    {
     "data": {
      "text/html": [
       "<div>\n",
       "<style>\n",
       "    .dataframe thead tr:only-child th {\n",
       "        text-align: right;\n",
       "    }\n",
       "\n",
       "    .dataframe thead th {\n",
       "        text-align: left;\n",
       "    }\n",
       "\n",
       "    .dataframe tbody tr th {\n",
       "        vertical-align: top;\n",
       "    }\n",
       "</style>\n",
       "<table border=\"1\" class=\"dataframe\">\n",
       "  <thead>\n",
       "    <tr style=\"text-align: right;\">\n",
       "      <th></th>\n",
       "      <th>train_x</th>\n",
       "      <th>train_y</th>\n",
       "    </tr>\n",
       "  </thead>\n",
       "  <tbody>\n",
       "    <tr>\n",
       "      <th>count</th>\n",
       "      <td>9700.000000</td>\n",
       "      <td>9.700000e+03</td>\n",
       "    </tr>\n",
       "    <tr>\n",
       "      <th>mean</th>\n",
       "      <td>0.502780</td>\n",
       "      <td>3.618063e-08</td>\n",
       "    </tr>\n",
       "    <tr>\n",
       "      <th>std</th>\n",
       "      <td>0.287209</td>\n",
       "      <td>1.000051e+00</td>\n",
       "    </tr>\n",
       "    <tr>\n",
       "      <th>min</th>\n",
       "      <td>0.000123</td>\n",
       "      <td>-5.489728e-01</td>\n",
       "    </tr>\n",
       "    <tr>\n",
       "      <th>25%</th>\n",
       "      <td>0.255484</td>\n",
       "      <td>-5.484992e-01</td>\n",
       "    </tr>\n",
       "    <tr>\n",
       "      <th>50%</th>\n",
       "      <td>0.501191</td>\n",
       "      <td>-5.130967e-01</td>\n",
       "    </tr>\n",
       "    <tr>\n",
       "      <th>75%</th>\n",
       "      <td>0.751894</td>\n",
       "      <td>3.107238e-02</td>\n",
       "    </tr>\n",
       "    <tr>\n",
       "      <th>max</th>\n",
       "      <td>0.999951</td>\n",
       "      <td>3.969272e+00</td>\n",
       "    </tr>\n",
       "  </tbody>\n",
       "</table>\n",
       "</div>"
      ],
      "text/plain": [
       "           train_x       train_y\n",
       "count  9700.000000  9.700000e+03\n",
       "mean      0.502780  3.618063e-08\n",
       "std       0.287209  1.000051e+00\n",
       "min       0.000123 -5.489728e-01\n",
       "25%       0.255484 -5.484992e-01\n",
       "50%       0.501191 -5.130967e-01\n",
       "75%       0.751894  3.107238e-02\n",
       "max       0.999951  3.969272e+00"
      ]
     },
     "execution_count": 126,
     "metadata": {},
     "output_type": "execute_result"
    }
   ],
   "source": [
    "df.describe()"
   ]
  },
  {
   "cell_type": "code",
   "execution_count": 127,
   "metadata": {},
   "outputs": [
    {
     "data": {
      "text/plain": [
       "<matplotlib.axes._subplots.AxesSubplot at 0x123c0b128>"
      ]
     },
     "execution_count": 127,
     "metadata": {},
     "output_type": "execute_result"
    },
    {
     "data": {
      "image/png": "[encoded data removed]",
      "text/plain": [
       "<matplotlib.figure.Figure at 0x123949c88>"
      ]
     },
     "metadata": {},
     "output_type": "display_data"
    }
   ],
   "source": [
    "df.plot.scatter(x='train_x',y='train_y',figsize=(15,5))"
   ]
  },
  {
   "cell_type": "code",
   "execution_count": 128,
   "metadata": {},
   "outputs": [
    {
     "data": {
      "image/png": "[encoded data removed]",
      "text/plain": [
       "<matplotlib.figure.Figure at 0x123b694a8>"
      ]
     },
     "metadata": {},
     "output_type": "display_data"
    }
   ],
   "source": [
    "df_valid.plot.scatter(x='valid_x', y='valid_y', figsize=(15,5));"
   ]
  },
  {
   "cell_type": "code",
   "execution_count": 129,
   "metadata": {},
   "outputs": [
    {
     "data": {
      "image/png": "[encoded data removed]",
      "text/plain": [
       "<matplotlib.figure.Figure at 0x123b81908>"
      ]
     },
     "metadata": {},
     "output_type": "display_data"
    }
   ],
   "source": [
    "df_test.plot.scatter(x='test_x', y='test_y', figsize=(15,5));"
   ]
  },
  {
   "cell_type": "markdown",
   "metadata": {},
   "source": [
    "# Helper Functions  \n",
    "\n",
    "Make a function that will help you create layers easily"
   ]
  },
  {
   "cell_type": "code",
   "execution_count": 130,
   "metadata": {
    "collapsed": true
   },
   "outputs": [],
   "source": [
    "def add_layer(inputs, in_size, out_size, activation_function=None):\n",
    "    \n",
    "    # tf.random_normal([what is the size of your batches, size of output layer])\n",
    "    Weights = tf.Variable(tf.truncated_normal([in_size, out_size], mean=0.1, stddev=0.1))\n",
    "    \n",
    "    # tf.random_normal([size of output layer])\n",
    "    biases = tf.Variable(tf.truncated_normal([out_size], mean=0.1, stddev=0.1))\n",
    "    \n",
    "    # shape of pred = [size of your batches, size of output layer]\n",
    "    pred = tf.matmul(inputs, Weights) + biases\n",
    "\n",
    "    if activation_function is None:\n",
    "        outputs = pred\n",
    "    else:\n",
    "        outputs = activation_function(pred)\n",
    "    return outputs"
   ]
  },
  {
   "cell_type": "markdown",
   "metadata": {},
   "source": [
    "# Model your Graph\n",
    "\n",
    "Start to use W (for weight) and b (for bias) when setting up your variables. Aside from adding your ReLU activation function, it is a good idea to use Tensorflow's ***matrix multiplication function (matmul)*** as shown below.  \n",
    "\n",
    "> The ? in the shape output just means it can be of any shape."
   ]
  },
  {
   "cell_type": "markdown",
   "metadata": {},
   "source": [
    "# Pick your Batch Size"
   ]
  },
  {
   "cell_type": "code",
   "execution_count": 131,
   "metadata": {},
   "outputs": [
    {
     "name": "stdout",
     "output_type": "stream",
     "text": [
      "shape of x and y:\n",
      "(?, 1) (?, 1)\n"
     ]
    }
   ],
   "source": [
    "# larger batch sizes help you get to the local minimum faster at a cost of more cpu power\n",
    "# The strategy is to use batch_size when you cannot fit the entire dataset into memory\n",
    "# In practice, small to moderate mini-batches (10-500) are generally used\n",
    "batch_size = 100\n",
    "\n",
    "# you can adjust the number of neurons in the hidden layers here\n",
    "hidden_size = 10\n",
    "\n",
    "# placeholders\n",
    "# shape=[how many samples do you have, how many input neurons]\n",
    "x = tf.placeholder(tf.float32, shape=[None, 1], name=\"01_x\")\n",
    "y = tf.placeholder(tf.float32, shape=[None, 1], name=\"01_y\")\n",
    "\n",
    "print(\"shape of x and y:\")\n",
    "print(x.get_shape(),y.get_shape())"
   ]
  },
  {
   "cell_type": "markdown",
   "metadata": {},
   "source": [
    "# Add Your Drop Out Placeholder  \n",
    "\n",
    "We will be feeding in the percentage of neurons to keep on every epoch"
   ]
  },
  {
   "cell_type": "code",
   "execution_count": 132,
   "metadata": {
    "collapsed": true
   },
   "outputs": [],
   "source": [
    "# drop put\n",
    "keep_prob = tf.placeholder(tf.float32)"
   ]
  },
  {
   "cell_type": "code",
   "execution_count": 133,
   "metadata": {},
   "outputs": [
    {
     "name": "stdout",
     "output_type": "stream",
     "text": [
      "shape of hidden layers:\n",
      "(?, 10) (?, 10) (?, 10) (?, 10)\n"
     ]
    }
   ],
   "source": [
    "# create your hidden layers!\n",
    "h1 = add_layer(x, 1, hidden_size, tf.nn.relu)\n",
    "\n",
    "# here is where we shoot down some of the neurons\n",
    "h1_drop = tf.nn.dropout(h1, keep_prob)\n",
    "\n",
    "# add a second layer\n",
    "h2 = add_layer(h1_drop, hidden_size, hidden_size, tf.nn.relu)\n",
    "h2_drop = tf.nn.dropout(h2, keep_prob)\n",
    "\n",
    "# add a third layer\n",
    "h3 = add_layer(h2_drop, hidden_size, hidden_size, tf.nn.relu)\n",
    "h3_drop = tf.nn.dropout(h3, keep_prob)\n",
    "\n",
    "# add a fourth layer\n",
    "h4 = add_layer(h3_drop, hidden_size, hidden_size, tf.nn.relu)\n",
    "h4_drop = tf.nn.dropout(h4, keep_prob)\n",
    "\n",
    "print(\"shape of hidden layers:\")\n",
    "print(h1_drop.get_shape(), h2_drop.get_shape(), h3_drop.get_shape(), h4_drop.get_shape())"
   ]
  },
  {
   "cell_type": "code",
   "execution_count": 134,
   "metadata": {},
   "outputs": [
    {
     "name": "stdout",
     "output_type": "stream",
     "text": [
      "shape of output layer:\n",
      "(?, 1)\n"
     ]
    }
   ],
   "source": [
    "# Output Layers\n",
    "pred = add_layer(h4_drop, hidden_size, 1)\n",
    "\n",
    "print(\"shape of output layer:\")\n",
    "print(pred.get_shape())"
   ]
  },
  {
   "cell_type": "code",
   "execution_count": 135,
   "metadata": {},
   "outputs": [],
   "source": [
    "# minimize the mean squared errors.\n",
    "loss = tf.reduce_mean(tf.square(pred - y))\n",
    "\n",
    "# pick optimizer\n",
    "optimizer = tf.train.GradientDescentOptimizer(0.001)\n",
    "train = optimizer.minimize(loss)"
   ]
  },
  {
   "cell_type": "markdown",
   "metadata": {},
   "source": [
    "# Saving and Restoring Model"
   ]
  },
  {
   "cell_type": "code",
   "execution_count": 136,
   "metadata": {},
   "outputs": [],
   "source": [
    "saver = tf.train.Saver()\n",
    "\n",
    "save_path = './model_'+datetime.datetime.now().strftime(\"%Y-%m-%d\")"
   ]
  },
  {
   "cell_type": "markdown",
   "metadata": {},
   "source": [
    "# How Good is Your model?  \n",
    "\n",
    "Set up the following variables to calculate the accuracy rate of your model. You will do that shortly."
   ]
  },
  {
   "cell_type": "code",
   "execution_count": 137,
   "metadata": {
    "collapsed": true
   },
   "outputs": [],
   "source": [
    "# check accuracy of model\n",
    "correct_prediction = tf.equal(tf.round(pred), tf.round(y))\n",
    "accuracy = tf.reduce_mean(tf.cast(correct_prediction, tf.float32))"
   ]
  },
  {
   "cell_type": "code",
   "execution_count": 138,
   "metadata": {
    "collapsed": true
   },
   "outputs": [],
   "source": [
    "# Best validation accuracy seen so far.\n",
    "best_valid_acc = 0.0\n",
    "\n",
    "# Iteration-number for last improvement to validation accuracy.\n",
    "last_improvement = 0\n",
    "\n",
    "# Stop optimization if no improvement found in this many iterations.\n",
    "require_improvement = 15000"
   ]
  },
  {
   "cell_type": "code",
   "execution_count": 139,
   "metadata": {},
   "outputs": [
    {
     "name": "stdout",
     "output_type": "stream",
     "text": [
      "INFO:tensorflow:Restoring parameters from ./model_2018-02-02\n"
     ]
    },
    {
     "ename": "NotFoundError",
     "evalue": "Key Variable_69 not found in checkpoint\n\t [[Node: save_6/RestoreV2_66 = RestoreV2[dtypes=[DT_FLOAT], _device=\"/job:localhost/replica:0/task:0/cpu:0\"](_recv_save_6/Const_0, save_6/RestoreV2_66/tensor_names, save_6/RestoreV2_66/shape_and_slices)]]\n\nCaused by op 'save_6/RestoreV2_66', defined at:\n  File \"/Users/sunyufei/anaconda3/envs/tf/lib/python3.6/runpy.py\", line 193, in _run_module_as_main\n    \"__main__\", mod_spec)\n  File \"/Users/sunyufei/anaconda3/envs/tf/lib/python3.6/runpy.py\", line 85, in _run_code\n    exec(code, run_globals)\n  File \"/Users/sunyufei/anaconda3/envs/tf/lib/python3.6/site-packages/ipykernel/__main__.py\", line 3, in <module>\n    app.launch_new_instance()\n  File \"/Users/sunyufei/anaconda3/envs/tf/lib/python3.6/site-packages/traitlets/config/application.py\", line 658, in launch_instance\n    app.start()\n  File \"/Users/sunyufei/anaconda3/envs/tf/lib/python3.6/site-packages/ipykernel/kernelapp.py\", line 477, in start\n    ioloop.IOLoop.instance().start()\n  File \"/Users/sunyufei/anaconda3/envs/tf/lib/python3.6/site-packages/zmq/eventloop/ioloop.py\", line 177, in start\n    super(ZMQIOLoop, self).start()\n  File \"/Users/sunyufei/anaconda3/envs/tf/lib/python3.6/site-packages/tornado/ioloop.py\", line 888, in start\n    handler_func(fd_obj, events)\n  File \"/Users/sunyufei/anaconda3/envs/tf/lib/python3.6/site-packages/tornado/stack_context.py\", line 277, in null_wrapper\n    return fn(*args, **kwargs)\n  File \"/Users/sunyufei/anaconda3/envs/tf/lib/python3.6/site-packages/zmq/eventloop/zmqstream.py\", line 440, in _handle_events\n    self._handle_recv()\n  File \"/Users/sunyufei/anaconda3/envs/tf/lib/python3.6/site-packages/zmq/eventloop/zmqstream.py\", line 472, in _handle_recv\n    self._run_callback(callback, msg)\n  File \"/Users/sunyufei/anaconda3/envs/tf/lib/python3.6/site-packages/zmq/eventloop/zmqstream.py\", line 414, in _run_callback\n    callback(*args, **kwargs)\n  File \"/Users/sunyufei/anaconda3/envs/tf/lib/python3.6/site-packages/tornado/stack_context.py\", line 277, in null_wrapper\n    return fn(*args, **kwargs)\n  File \"/Users/sunyufei/anaconda3/envs/tf/lib/python3.6/site-packages/ipykernel/kernelbase.py\", line 283, in dispatcher\n    return self.dispatch_shell(stream, msg)\n  File \"/Users/sunyufei/anaconda3/envs/tf/lib/python3.6/site-packages/ipykernel/kernelbase.py\", line 235, in dispatch_shell\n    handler(stream, idents, msg)\n  File \"/Users/sunyufei/anaconda3/envs/tf/lib/python3.6/site-packages/ipykernel/kernelbase.py\", line 399, in execute_request\n    user_expressions, allow_stdin)\n  File \"/Users/sunyufei/anaconda3/envs/tf/lib/python3.6/site-packages/ipykernel/ipkernel.py\", line 196, in do_execute\n    res = shell.run_cell(code, store_history=store_history, silent=silent)\n  File \"/Users/sunyufei/anaconda3/envs/tf/lib/python3.6/site-packages/ipykernel/zmqshell.py\", line 533, in run_cell\n    return super(ZMQInteractiveShell, self).run_cell(*args, **kwargs)\n  File \"/Users/sunyufei/anaconda3/envs/tf/lib/python3.6/site-packages/IPython/core/interactiveshell.py\", line 2728, in run_cell\n    interactivity=interactivity, compiler=compiler, result=result)\n  File \"/Users/sunyufei/anaconda3/envs/tf/lib/python3.6/site-packages/IPython/core/interactiveshell.py\", line 2850, in run_ast_nodes\n    if self.run_code(code, result):\n  File \"/Users/sunyufei/anaconda3/envs/tf/lib/python3.6/site-packages/IPython/core/interactiveshell.py\", line 2910, in run_code\n    exec(code_obj, self.user_global_ns, self.user_ns)\n  File \"<ipython-input-136-8acc99a969e8>\", line 1, in <module>\n    saver = tf.train.Saver()\n  File \"/Users/sunyufei/anaconda3/envs/tf/lib/python3.6/site-packages/tensorflow/python/training/saver.py\", line 1056, in __init__\n    self.build()\n  File \"/Users/sunyufei/anaconda3/envs/tf/lib/python3.6/site-packages/tensorflow/python/training/saver.py\", line 1086, in build\n    restore_sequentially=self._restore_sequentially)\n  File \"/Users/sunyufei/anaconda3/envs/tf/lib/python3.6/site-packages/tensorflow/python/training/saver.py\", line 691, in build\n    restore_sequentially, reshape)\n  File \"/Users/sunyufei/anaconda3/envs/tf/lib/python3.6/site-packages/tensorflow/python/training/saver.py\", line 407, in _AddRestoreOps\n    tensors = self.restore_op(filename_tensor, saveable, preferred_shard)\n  File \"/Users/sunyufei/anaconda3/envs/tf/lib/python3.6/site-packages/tensorflow/python/training/saver.py\", line 247, in restore_op\n    [spec.tensor.dtype])[0])\n  File \"/Users/sunyufei/anaconda3/envs/tf/lib/python3.6/site-packages/tensorflow/python/ops/gen_io_ops.py\", line 669, in restore_v2\n    dtypes=dtypes, name=name)\n  File \"/Users/sunyufei/anaconda3/envs/tf/lib/python3.6/site-packages/tensorflow/python/framework/op_def_library.py\", line 768, in apply_op\n    op_def=op_def)\n  File \"/Users/sunyufei/anaconda3/envs/tf/lib/python3.6/site-packages/tensorflow/python/framework/ops.py\", line 2336, in create_op\n    original_op=self._default_original_op, op_def=op_def)\n  File \"/Users/sunyufei/anaconda3/envs/tf/lib/python3.6/site-packages/tensorflow/python/framework/ops.py\", line 1228, in __init__\n    self._traceback = _extract_stack()\n\nNotFoundError (see above for traceback): Key Variable_69 not found in checkpoint\n\t [[Node: save_6/RestoreV2_66 = RestoreV2[dtypes=[DT_FLOAT], _device=\"/job:localhost/replica:0/task:0/cpu:0\"](_recv_save_6/Const_0, save_6/RestoreV2_66/tensor_names, save_6/RestoreV2_66/shape_and_slices)]]\n",
     "output_type": "error",
     "traceback": [
      "\u001b[0;31m---------------------------------------------------------------------------\u001b[0m",
      "\u001b[0;31mNotFoundError\u001b[0m                             Traceback (most recent call last)",
      "\u001b[0;32m~/anaconda3/envs/tf/lib/python3.6/site-packages/tensorflow/python/client/session.py\u001b[0m in \u001b[0;36m_do_call\u001b[0;34m(self, fn, *args)\u001b[0m\n\u001b[1;32m   1038\u001b[0m     \u001b[0;32mtry\u001b[0m\u001b[0;34m:\u001b[0m\u001b[0;34m\u001b[0m\u001b[0m\n\u001b[0;32m-> 1039\u001b[0;31m       \u001b[0;32mreturn\u001b[0m \u001b[0mfn\u001b[0m\u001b[0;34m(\u001b[0m\u001b[0;34m*\u001b[0m\u001b[0margs\u001b[0m\u001b[0;34m)\u001b[0m\u001b[0;34m\u001b[0m\u001b[0m\n\u001b[0m\u001b[1;32m   1040\u001b[0m     \u001b[0;32mexcept\u001b[0m \u001b[0merrors\u001b[0m\u001b[0;34m.\u001b[0m\u001b[0mOpError\u001b[0m \u001b[0;32mas\u001b[0m \u001b[0me\u001b[0m\u001b[0;34m:\u001b[0m\u001b[0;34m\u001b[0m\u001b[0m\n",
      "\u001b[0;32m~/anaconda3/envs/tf/lib/python3.6/site-packages/tensorflow/python/client/session.py\u001b[0m in \u001b[0;36m_run_fn\u001b[0;34m(session, feed_dict, fetch_list, target_list, options, run_metadata)\u001b[0m\n\u001b[1;32m   1020\u001b[0m                                  \u001b[0mfeed_dict\u001b[0m\u001b[0;34m,\u001b[0m \u001b[0mfetch_list\u001b[0m\u001b[0;34m,\u001b[0m \u001b[0mtarget_list\u001b[0m\u001b[0;34m,\u001b[0m\u001b[0;34m\u001b[0m\u001b[0m\n\u001b[0;32m-> 1021\u001b[0;31m                                  status, run_metadata)\n\u001b[0m\u001b[1;32m   1022\u001b[0m \u001b[0;34m\u001b[0m\u001b[0m\n",
      "\u001b[0;32m~/anaconda3/envs/tf/lib/python3.6/contextlib.py\u001b[0m in \u001b[0;36m__exit__\u001b[0;34m(self, type, value, traceback)\u001b[0m\n\u001b[1;32m     87\u001b[0m             \u001b[0;32mtry\u001b[0m\u001b[0;34m:\u001b[0m\u001b[0;34m\u001b[0m\u001b[0m\n\u001b[0;32m---> 88\u001b[0;31m                 \u001b[0mnext\u001b[0m\u001b[0;34m(\u001b[0m\u001b[0mself\u001b[0m\u001b[0;34m.\u001b[0m\u001b[0mgen\u001b[0m\u001b[0;34m)\u001b[0m\u001b[0;34m\u001b[0m\u001b[0m\n\u001b[0m\u001b[1;32m     89\u001b[0m             \u001b[0;32mexcept\u001b[0m \u001b[0mStopIteration\u001b[0m\u001b[0;34m:\u001b[0m\u001b[0;34m\u001b[0m\u001b[0m\n",
      "\u001b[0;32m~/anaconda3/envs/tf/lib/python3.6/site-packages/tensorflow/python/framework/errors_impl.py\u001b[0m in \u001b[0;36mraise_exception_on_not_ok_status\u001b[0;34m()\u001b[0m\n\u001b[1;32m    465\u001b[0m           \u001b[0mcompat\u001b[0m\u001b[0;34m.\u001b[0m\u001b[0mas_text\u001b[0m\u001b[0;34m(\u001b[0m\u001b[0mpywrap_tensorflow\u001b[0m\u001b[0;34m.\u001b[0m\u001b[0mTF_Message\u001b[0m\u001b[0;34m(\u001b[0m\u001b[0mstatus\u001b[0m\u001b[0;34m)\u001b[0m\u001b[0;34m)\u001b[0m\u001b[0;34m,\u001b[0m\u001b[0;34m\u001b[0m\u001b[0m\n\u001b[0;32m--> 466\u001b[0;31m           pywrap_tensorflow.TF_GetCode(status))\n\u001b[0m\u001b[1;32m    467\u001b[0m   \u001b[0;32mfinally\u001b[0m\u001b[0;34m:\u001b[0m\u001b[0;34m\u001b[0m\u001b[0m\n",
      "\u001b[0;31mNotFoundError\u001b[0m: Key Variable_69 not found in checkpoint\n\t [[Node: save_6/RestoreV2_66 = RestoreV2[dtypes=[DT_FLOAT], _device=\"/job:localhost/replica:0/task:0/cpu:0\"](_recv_save_6/Const_0, save_6/RestoreV2_66/tensor_names, save_6/RestoreV2_66/shape_and_slices)]]",
      "\nDuring handling of the above exception, another exception occurred:\n",
      "\u001b[0;31mNotFoundError\u001b[0m                             Traceback (most recent call last)",
      "\u001b[0;32m<ipython-input-139-6e1041baef15>\u001b[0m in \u001b[0;36m<module>\u001b[0;34m()\u001b[0m\n\u001b[1;32m      9\u001b[0m \u001b[0;34m\u001b[0m\u001b[0m\n\u001b[1;32m     10\u001b[0m     \u001b[0;31m# restore model (no need to initialize variables if restorint model)\u001b[0m\u001b[0;34m\u001b[0m\u001b[0;34m\u001b[0m\u001b[0m\n\u001b[0;32m---> 11\u001b[0;31m     \u001b[0msaver\u001b[0m\u001b[0;34m.\u001b[0m\u001b[0mrestore\u001b[0m\u001b[0;34m(\u001b[0m\u001b[0msess\u001b[0m\u001b[0;34m,\u001b[0m \u001b[0msave_path\u001b[0m\u001b[0;34m=\u001b[0m\u001b[0msave_path\u001b[0m\u001b[0;34m)\u001b[0m\u001b[0;34m\u001b[0m\u001b[0m\n\u001b[0m\u001b[1;32m     12\u001b[0m \u001b[0;34m\u001b[0m\u001b[0m\n\u001b[1;32m     13\u001b[0m     \u001b[0;31m# initialize variables\u001b[0m\u001b[0;34m\u001b[0m\u001b[0;34m\u001b[0m\u001b[0m\n",
      "\u001b[0;32m~/anaconda3/envs/tf/lib/python3.6/site-packages/tensorflow/python/training/saver.py\u001b[0m in \u001b[0;36mrestore\u001b[0;34m(self, sess, save_path)\u001b[0m\n\u001b[1;32m   1455\u001b[0m     \u001b[0mlogging\u001b[0m\u001b[0;34m.\u001b[0m\u001b[0minfo\u001b[0m\u001b[0;34m(\u001b[0m\u001b[0;34m\"Restoring parameters from %s\"\u001b[0m\u001b[0;34m,\u001b[0m \u001b[0msave_path\u001b[0m\u001b[0;34m)\u001b[0m\u001b[0;34m\u001b[0m\u001b[0m\n\u001b[1;32m   1456\u001b[0m     sess.run(self.saver_def.restore_op_name,\n\u001b[0;32m-> 1457\u001b[0;31m              {self.saver_def.filename_tensor_name: save_path})\n\u001b[0m\u001b[1;32m   1458\u001b[0m \u001b[0;34m\u001b[0m\u001b[0m\n\u001b[1;32m   1459\u001b[0m   \u001b[0;34m@\u001b[0m\u001b[0mstaticmethod\u001b[0m\u001b[0;34m\u001b[0m\u001b[0m\n",
      "\u001b[0;32m~/anaconda3/envs/tf/lib/python3.6/site-packages/tensorflow/python/client/session.py\u001b[0m in \u001b[0;36mrun\u001b[0;34m(self, fetches, feed_dict, options, run_metadata)\u001b[0m\n\u001b[1;32m    776\u001b[0m     \u001b[0;32mtry\u001b[0m\u001b[0;34m:\u001b[0m\u001b[0;34m\u001b[0m\u001b[0m\n\u001b[1;32m    777\u001b[0m       result = self._run(None, fetches, feed_dict, options_ptr,\n\u001b[0;32m--> 778\u001b[0;31m                          run_metadata_ptr)\n\u001b[0m\u001b[1;32m    779\u001b[0m       \u001b[0;32mif\u001b[0m \u001b[0mrun_metadata\u001b[0m\u001b[0;34m:\u001b[0m\u001b[0;34m\u001b[0m\u001b[0m\n\u001b[1;32m    780\u001b[0m         \u001b[0mproto_data\u001b[0m \u001b[0;34m=\u001b[0m \u001b[0mtf_session\u001b[0m\u001b[0;34m.\u001b[0m\u001b[0mTF_GetBuffer\u001b[0m\u001b[0;34m(\u001b[0m\u001b[0mrun_metadata_ptr\u001b[0m\u001b[0;34m)\u001b[0m\u001b[0;34m\u001b[0m\u001b[0m\n",
      "\u001b[0;32m~/anaconda3/envs/tf/lib/python3.6/site-packages/tensorflow/python/client/session.py\u001b[0m in \u001b[0;36m_run\u001b[0;34m(self, handle, fetches, feed_dict, options, run_metadata)\u001b[0m\n\u001b[1;32m    980\u001b[0m     \u001b[0;32mif\u001b[0m \u001b[0mfinal_fetches\u001b[0m \u001b[0;32mor\u001b[0m \u001b[0mfinal_targets\u001b[0m\u001b[0;34m:\u001b[0m\u001b[0;34m\u001b[0m\u001b[0m\n\u001b[1;32m    981\u001b[0m       results = self._do_run(handle, final_targets, final_fetches,\n\u001b[0;32m--> 982\u001b[0;31m                              feed_dict_string, options, run_metadata)\n\u001b[0m\u001b[1;32m    983\u001b[0m     \u001b[0;32melse\u001b[0m\u001b[0;34m:\u001b[0m\u001b[0;34m\u001b[0m\u001b[0m\n\u001b[1;32m    984\u001b[0m       \u001b[0mresults\u001b[0m \u001b[0;34m=\u001b[0m \u001b[0;34m[\u001b[0m\u001b[0;34m]\u001b[0m\u001b[0;34m\u001b[0m\u001b[0m\n",
      "\u001b[0;32m~/anaconda3/envs/tf/lib/python3.6/site-packages/tensorflow/python/client/session.py\u001b[0m in \u001b[0;36m_do_run\u001b[0;34m(self, handle, target_list, fetch_list, feed_dict, options, run_metadata)\u001b[0m\n\u001b[1;32m   1030\u001b[0m     \u001b[0;32mif\u001b[0m \u001b[0mhandle\u001b[0m \u001b[0;32mis\u001b[0m \u001b[0;32mNone\u001b[0m\u001b[0;34m:\u001b[0m\u001b[0;34m\u001b[0m\u001b[0m\n\u001b[1;32m   1031\u001b[0m       return self._do_call(_run_fn, self._session, feed_dict, fetch_list,\n\u001b[0;32m-> 1032\u001b[0;31m                            target_list, options, run_metadata)\n\u001b[0m\u001b[1;32m   1033\u001b[0m     \u001b[0;32melse\u001b[0m\u001b[0;34m:\u001b[0m\u001b[0;34m\u001b[0m\u001b[0m\n\u001b[1;32m   1034\u001b[0m       return self._do_call(_prun_fn, self._session, handle, feed_dict,\n",
      "\u001b[0;32m~/anaconda3/envs/tf/lib/python3.6/site-packages/tensorflow/python/client/session.py\u001b[0m in \u001b[0;36m_do_call\u001b[0;34m(self, fn, *args)\u001b[0m\n\u001b[1;32m   1050\u001b[0m         \u001b[0;32mexcept\u001b[0m \u001b[0mKeyError\u001b[0m\u001b[0;34m:\u001b[0m\u001b[0;34m\u001b[0m\u001b[0m\n\u001b[1;32m   1051\u001b[0m           \u001b[0;32mpass\u001b[0m\u001b[0;34m\u001b[0m\u001b[0m\n\u001b[0;32m-> 1052\u001b[0;31m       \u001b[0;32mraise\u001b[0m \u001b[0mtype\u001b[0m\u001b[0;34m(\u001b[0m\u001b[0me\u001b[0m\u001b[0;34m)\u001b[0m\u001b[0;34m(\u001b[0m\u001b[0mnode_def\u001b[0m\u001b[0;34m,\u001b[0m \u001b[0mop\u001b[0m\u001b[0;34m,\u001b[0m \u001b[0mmessage\u001b[0m\u001b[0;34m)\u001b[0m\u001b[0;34m\u001b[0m\u001b[0m\n\u001b[0m\u001b[1;32m   1053\u001b[0m \u001b[0;34m\u001b[0m\u001b[0m\n\u001b[1;32m   1054\u001b[0m   \u001b[0;32mdef\u001b[0m \u001b[0m_extend_graph\u001b[0m\u001b[0;34m(\u001b[0m\u001b[0mself\u001b[0m\u001b[0;34m)\u001b[0m\u001b[0;34m:\u001b[0m\u001b[0;34m\u001b[0m\u001b[0m\n",
      "\u001b[0;31mNotFoundError\u001b[0m: Key Variable_69 not found in checkpoint\n\t [[Node: save_6/RestoreV2_66 = RestoreV2[dtypes=[DT_FLOAT], _device=\"/job:localhost/replica:0/task:0/cpu:0\"](_recv_save_6/Const_0, save_6/RestoreV2_66/tensor_names, save_6/RestoreV2_66/shape_and_slices)]]\n\nCaused by op 'save_6/RestoreV2_66', defined at:\n  File \"/Users/sunyufei/anaconda3/envs/tf/lib/python3.6/runpy.py\", line 193, in _run_module_as_main\n    \"__main__\", mod_spec)\n  File \"/Users/sunyufei/anaconda3/envs/tf/lib/python3.6/runpy.py\", line 85, in _run_code\n    exec(code, run_globals)\n  File \"/Users/sunyufei/anaconda3/envs/tf/lib/python3.6/site-packages/ipykernel/__main__.py\", line 3, in <module>\n    app.launch_new_instance()\n  File \"/Users/sunyufei/anaconda3/envs/tf/lib/python3.6/site-packages/traitlets/config/application.py\", line 658, in launch_instance\n    app.start()\n  File \"/Users/sunyufei/anaconda3/envs/tf/lib/python3.6/site-packages/ipykernel/kernelapp.py\", line 477, in start\n    ioloop.IOLoop.instance().start()\n  File \"/Users/sunyufei/anaconda3/envs/tf/lib/python3.6/site-packages/zmq/eventloop/ioloop.py\", line 177, in start\n    super(ZMQIOLoop, self).start()\n  File \"/Users/sunyufei/anaconda3/envs/tf/lib/python3.6/site-packages/tornado/ioloop.py\", line 888, in start\n    handler_func(fd_obj, events)\n  File \"/Users/sunyufei/anaconda3/envs/tf/lib/python3.6/site-packages/tornado/stack_context.py\", line 277, in null_wrapper\n    return fn(*args, **kwargs)\n  File \"/Users/sunyufei/anaconda3/envs/tf/lib/python3.6/site-packages/zmq/eventloop/zmqstream.py\", line 440, in _handle_events\n    self._handle_recv()\n  File \"/Users/sunyufei/anaconda3/envs/tf/lib/python3.6/site-packages/zmq/eventloop/zmqstream.py\", line 472, in _handle_recv\n    self._run_callback(callback, msg)\n  File \"/Users/sunyufei/anaconda3/envs/tf/lib/python3.6/site-packages/zmq/eventloop/zmqstream.py\", line 414, in _run_callback\n    callback(*args, **kwargs)\n  File \"/Users/sunyufei/anaconda3/envs/tf/lib/python3.6/site-packages/tornado/stack_context.py\", line 277, in null_wrapper\n    return fn(*args, **kwargs)\n  File \"/Users/sunyufei/anaconda3/envs/tf/lib/python3.6/site-packages/ipykernel/kernelbase.py\", line 283, in dispatcher\n    return self.dispatch_shell(stream, msg)\n  File \"/Users/sunyufei/anaconda3/envs/tf/lib/python3.6/site-packages/ipykernel/kernelbase.py\", line 235, in dispatch_shell\n    handler(stream, idents, msg)\n  File \"/Users/sunyufei/anaconda3/envs/tf/lib/python3.6/site-packages/ipykernel/kernelbase.py\", line 399, in execute_request\n    user_expressions, allow_stdin)\n  File \"/Users/sunyufei/anaconda3/envs/tf/lib/python3.6/site-packages/ipykernel/ipkernel.py\", line 196, in do_execute\n    res = shell.run_cell(code, store_history=store_history, silent=silent)\n  File \"/Users/sunyufei/anaconda3/envs/tf/lib/python3.6/site-packages/ipykernel/zmqshell.py\", line 533, in run_cell\n    return super(ZMQInteractiveShell, self).run_cell(*args, **kwargs)\n  File \"/Users/sunyufei/anaconda3/envs/tf/lib/python3.6/site-packages/IPython/core/interactiveshell.py\", line 2728, in run_cell\n    interactivity=interactivity, compiler=compiler, result=result)\n  File \"/Users/sunyufei/anaconda3/envs/tf/lib/python3.6/site-packages/IPython/core/interactiveshell.py\", line 2850, in run_ast_nodes\n    if self.run_code(code, result):\n  File \"/Users/sunyufei/anaconda3/envs/tf/lib/python3.6/site-packages/IPython/core/interactiveshell.py\", line 2910, in run_code\n    exec(code_obj, self.user_global_ns, self.user_ns)\n  File \"<ipython-input-136-8acc99a969e8>\", line 1, in <module>\n    saver = tf.train.Saver()\n  File \"/Users/sunyufei/anaconda3/envs/tf/lib/python3.6/site-packages/tensorflow/python/training/saver.py\", line 1056, in __init__\n    self.build()\n  File \"/Users/sunyufei/anaconda3/envs/tf/lib/python3.6/site-packages/tensorflow/python/training/saver.py\", line 1086, in build\n    restore_sequentially=self._restore_sequentially)\n  File \"/Users/sunyufei/anaconda3/envs/tf/lib/python3.6/site-packages/tensorflow/python/training/saver.py\", line 691, in build\n    restore_sequentially, reshape)\n  File \"/Users/sunyufei/anaconda3/envs/tf/lib/python3.6/site-packages/tensorflow/python/training/saver.py\", line 407, in _AddRestoreOps\n    tensors = self.restore_op(filename_tensor, saveable, preferred_shard)\n  File \"/Users/sunyufei/anaconda3/envs/tf/lib/python3.6/site-packages/tensorflow/python/training/saver.py\", line 247, in restore_op\n    [spec.tensor.dtype])[0])\n  File \"/Users/sunyufei/anaconda3/envs/tf/lib/python3.6/site-packages/tensorflow/python/ops/gen_io_ops.py\", line 669, in restore_v2\n    dtypes=dtypes, name=name)\n  File \"/Users/sunyufei/anaconda3/envs/tf/lib/python3.6/site-packages/tensorflow/python/framework/op_def_library.py\", line 768, in apply_op\n    op_def=op_def)\n  File \"/Users/sunyufei/anaconda3/envs/tf/lib/python3.6/site-packages/tensorflow/python/framework/ops.py\", line 2336, in create_op\n    original_op=self._default_original_op, op_def=op_def)\n  File \"/Users/sunyufei/anaconda3/envs/tf/lib/python3.6/site-packages/tensorflow/python/framework/ops.py\", line 1228, in __init__\n    self._traceback = _extract_stack()\n\nNotFoundError (see above for traceback): Key Variable_69 not found in checkpoint\n\t [[Node: save_6/RestoreV2_66 = RestoreV2[dtypes=[DT_FLOAT], _device=\"/job:localhost/replica:0/task:0/cpu:0\"](_recv_save_6/Const_0, save_6/RestoreV2_66/tensor_names, save_6/RestoreV2_66/shape_and_slices)]]\n"
     ]
    }
   ],
   "source": [
    "# initialize the variables\n",
    "init = tf.global_variables_initializer()\n",
    "\n",
    "# hold step and error values\n",
    "t = []\n",
    "\n",
    "# Run your graph\n",
    "with tf.Session() as sess:\n",
    "    \n",
    "    # restore model (no need to initialize variables if restorint model)\n",
    "    saver.restore(sess, save_path=save_path)    \n",
    "    \n",
    "    # initialize variables\n",
    "    sess.run(init)\n",
    "\n",
    "    # Fit the function.\n",
    "    for step in range(60000):\n",
    "        \n",
    "        # pull batches at random\n",
    "        i = np.random.permutation(train_x.shape[0])[:batch_size]\n",
    "\n",
    "        # get your data\n",
    "        train_data = {x:train_x[i,:], y:train_y[i,:], keep_prob: 0.98}\n",
    "        valid_data = {x:valid_x, y:valid_y, keep_prob: 1.0}\n",
    "        test_data = {x:test_x, y:test_y, keep_prob: 1.0}\n",
    "        \n",
    "        # training in progress...\n",
    "        train_loss, train_pred = sess.run([loss, train], feed_dict=train_data)        \n",
    "        \n",
    "        # print every n iterations\n",
    "        if step%1000==0:\n",
    "            # capture the step and error for analysis\n",
    "            valid_loss = sess.run(loss, feed_dict=valid_data) \n",
    "            t.append((step, train_loss, valid_loss))    \n",
    "            \n",
    "            # get snapshot of current training and validation accuracy       \n",
    "            train_acc = accuracy.eval(train_data)\n",
    "            valid_acc = accuracy.eval(valid_data)           \n",
    "\n",
    "            # If validation accuracy is an improvement over best-known.\n",
    "            if valid_acc > best_valid_acc:\n",
    "                # Update the best-known validation accuracy.\n",
    "                best_valid_acc = valid_acc\n",
    "                \n",
    "                # Set the iteration for the last improvement to current.\n",
    "                last_improvement = step\n",
    "                \n",
    "                # Save model to disk\n",
    "                saver.save(sess, save_path=save_path)                \n",
    "\n",
    "                # Flag when ever an improvement is found\n",
    "                improved_str = '*'\n",
    "            else:\n",
    "                # An empty string to be printed below.\n",
    "                # Shows that no improvement was found.\n",
    "                improved_str = ''   \n",
    "                \n",
    "            print(\"step %d,train_acc:%f,valid_acc:%f,train_loss:%f,valid_loss:%f %s\" % (step,train_acc,valid_acc,train_loss,valid_loss,improved_str))             \n",
    "                \n",
    "            # If no improvement found in the required number of iterations.\n",
    "            if step - last_improvement > require_improvement:\n",
    "                print(\"No improvement found in a while, stopping optimization.\")\n",
    "\n",
    "                # Break out from the for-loop.\n",
    "                break                \n",
    "            \n",
    "            \n",
    "    # here is where you see how good of a Data Scientist you are        \n",
    "    print(\"Accuracy on the Training Set:\", accuracy.eval(train_data) )\n",
    "    print(\"Accuracy on the Validation Set:\", accuracy.eval(valid_data) ) \n",
    "    print(\"Accuracy on the Test Set:\", accuracy.eval(test_data) )\n",
    "    \n",
    "    # capture predictions on test data \n",
    "    test_results = sess.run(pred, feed_dict={x:test_x, keep_prob: 1.0})  \n",
    "    df_final = pd.DataFrame({'test_x':test_x[:,0],\n",
    "                             'pred':test_results[:,0]})\n",
    "    \n",
    "    # capture training and validation loss\n",
    "    df_loss = pd.DataFrame(t, columns=['step', 'train_loss', 'valid_loss'])"
   ]
  },
  {
   "cell_type": "code",
   "execution_count": null,
   "metadata": {
    "collapsed": true
   },
   "outputs": [],
   "source": []
  }
 ],
 "metadata": {
  "kernelspec": {
   "display_name": "Python [conda env:tf]",
   "language": "python",
   "name": "conda-env-tf-py"
  },
  "language_info": {
   "codemirror_mode": {
    "name": "ipython",
    "version": 3
   },
   "file_extension": ".py",
   "mimetype": "text/x-python",
   "name": "python",
   "nbconvert_exporter": "python",
   "pygments_lexer": "ipython3",
   "version": "3.6.3"
  },
  "toc": {
   "nav_menu": {},
   "number_sections": true,
   "sideBar": true,
   "skip_h1_title": false,
   "title_cell": "Table of Contents",
   "title_sidebar": "Contents",
   "toc_cell": false,
   "toc_position": {},
   "toc_section_display": true,
   "toc_window_display": false
  }
 },
 "nbformat": 4,
 "nbformat_minor": 2
}
