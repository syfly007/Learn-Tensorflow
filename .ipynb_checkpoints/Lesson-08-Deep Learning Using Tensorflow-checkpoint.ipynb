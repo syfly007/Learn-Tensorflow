{
 "cells": [
  {
   "cell_type": "markdown",
   "metadata": {},
   "source": [
    "# Deep Learning Using Tensorflow"
   ]
  },
  {
   "cell_type": "markdown",
   "metadata": {},
   "source": [
    "In this lesson you are going to try to create a model that supases the one you created in Lesson 07 using a ***Deep Learning*** NN. \n",
    "\n",
    "> What is deep learning? \n",
    "\n",
    "This is just a term to describe neural networks that are composed of more than one hidden layer. The good news is that it is pretty easy to go from one to many hidden layers and your predictions should also improve."
   ]
  },
  {
   "cell_type": "markdown",
   "metadata": {},
   "source": [
    "# Let's Get to Work!"
   ]
  },
  {
   "cell_type": "code",
   "execution_count": 1,
   "metadata": {
    "collapsed": true
   },
   "outputs": [],
   "source": [
    "# import libraries\n",
    "import tensorflow as tf\n",
    "import pandas as pd\n",
    "import numpy as np\n",
    "import sys\n",
    "import datetime\n",
    "import matplotlib.pyplot as plt\n",
    "plt.style.use('ggplot') # use this plot style\n",
    "%matplotlib inline"
   ]
  },
  {
   "cell_type": "code",
   "execution_count": 2,
   "metadata": {},
   "outputs": [
    {
     "name": "stdout",
     "output_type": "stream",
     "text": [
      "Python version 3.6.3 |Anaconda, Inc.| (default, Nov  3 2017, 12:34:11) \n",
      "[GCC 4.2.1 Compatible Clang 4.0.1 (tags/RELEASE_401/final)]\n",
      "Tensorflow version 1.1.0\n",
      "Pandas version 0.20.3\n",
      "Numpy version 1.12.1\n"
     ]
    }
   ],
   "source": [
    "print('Python version ' + sys.version)\n",
    "print('Tensorflow version ' + tf.VERSION)\n",
    "print('Pandas version ' + pd.__version__)\n",
    "print('Numpy version ' + np.__version__)"
   ]
  },
  {
   "cell_type": "markdown",
   "metadata": {},
   "source": [
    "# Function to Model\n",
    "\n",
    "    y = a * x ^ 2 + b * x + c"
   ]
  },
  {
   "cell_type": "code",
   "execution_count": 3,
   "metadata": {},
   "outputs": [
    {
     "name": "stdout",
     "output_type": "stream",
     "text": [
      "test data shape: (150, 1)\n",
      "train data shape: (850, 1)\n"
     ]
    }
   ],
   "source": [
    "# Let's generate 1000 random samples\n",
    "pool = np.random.rand(1000,1).astype(np.float32)\n",
    "\n",
    "# shuffle pool\n",
    "np.random.shuffle(pool)\n",
    "\n",
    "# 15% test samples\n",
    "samples = int(1000 * 0.15)\n",
    "\n",
    "# 15% test data\n",
    "test_x = pool[:samples]\n",
    "\n",
    "# 85% training data\n",
    "train_x = pool[samples:]\n",
    "\n",
    "print(\"test data shape:\",str(test_x.shape))\n",
    "print(\"train data shape:\",str(train_x.shape))\n",
    "\n",
    "test_y = 2.0*test_x**2 + 3.0*test_x + 5\n",
    "train_y = 2.0*train_x**2 + 3.0*train_x + 5"
   ]
  },
  {
   "cell_type": "code",
   "execution_count": 4,
   "metadata": {},
   "outputs": [
    {
     "data": {
      "text/html": [
       "<div>\n",
       "<style>\n",
       "    .dataframe thead tr:only-child th {\n",
       "        text-align: right;\n",
       "    }\n",
       "\n",
       "    .dataframe thead th {\n",
       "        text-align: left;\n",
       "    }\n",
       "\n",
       "    .dataframe tbody tr th {\n",
       "        vertical-align: top;\n",
       "    }\n",
       "</style>\n",
       "<table border=\"1\" class=\"dataframe\">\n",
       "  <thead>\n",
       "    <tr style=\"text-align: right;\">\n",
       "      <th></th>\n",
       "      <th>x</th>\n",
       "      <th>y</th>\n",
       "    </tr>\n",
       "  </thead>\n",
       "  <tbody>\n",
       "    <tr>\n",
       "      <th>0</th>\n",
       "      <td>0.226431</td>\n",
       "      <td>5.781836</td>\n",
       "    </tr>\n",
       "    <tr>\n",
       "      <th>1</th>\n",
       "      <td>0.674324</td>\n",
       "      <td>7.932400</td>\n",
       "    </tr>\n",
       "    <tr>\n",
       "      <th>2</th>\n",
       "      <td>0.130809</td>\n",
       "      <td>5.426648</td>\n",
       "    </tr>\n",
       "    <tr>\n",
       "      <th>3</th>\n",
       "      <td>0.179674</td>\n",
       "      <td>5.603586</td>\n",
       "    </tr>\n",
       "    <tr>\n",
       "      <th>4</th>\n",
       "      <td>0.276682</td>\n",
       "      <td>5.983150</td>\n",
       "    </tr>\n",
       "  </tbody>\n",
       "</table>\n",
       "</div>"
      ],
      "text/plain": [
       "          x         y\n",
       "0  0.226431  5.781836\n",
       "1  0.674324  7.932400\n",
       "2  0.130809  5.426648\n",
       "3  0.179674  5.603586\n",
       "4  0.276682  5.983150"
      ]
     },
     "execution_count": 4,
     "metadata": {},
     "output_type": "execute_result"
    }
   ],
   "source": [
    "df = pd.DataFrame({\n",
    "    'x':train_x[:,0],\n",
    "    'y':train_y[:,0]\n",
    "})\n",
    "df.head()"
   ]
  },
  {
   "cell_type": "code",
   "execution_count": 5,
   "metadata": {},
   "outputs": [
    {
     "data": {
      "text/html": [
       "<div>\n",
       "<style>\n",
       "    .dataframe thead tr:only-child th {\n",
       "        text-align: right;\n",
       "    }\n",
       "\n",
       "    .dataframe thead th {\n",
       "        text-align: left;\n",
       "    }\n",
       "\n",
       "    .dataframe tbody tr th {\n",
       "        vertical-align: top;\n",
       "    }\n",
       "</style>\n",
       "<table border=\"1\" class=\"dataframe\">\n",
       "  <thead>\n",
       "    <tr style=\"text-align: right;\">\n",
       "      <th></th>\n",
       "      <th>x</th>\n",
       "      <th>y</th>\n",
       "    </tr>\n",
       "  </thead>\n",
       "  <tbody>\n",
       "    <tr>\n",
       "      <th>count</th>\n",
       "      <td>850.000000</td>\n",
       "      <td>850.000000</td>\n",
       "    </tr>\n",
       "    <tr>\n",
       "      <th>mean</th>\n",
       "      <td>0.493182</td>\n",
       "      <td>7.135524</td>\n",
       "    </tr>\n",
       "    <tr>\n",
       "      <th>std</th>\n",
       "      <td>0.291308</td>\n",
       "      <td>1.460904</td>\n",
       "    </tr>\n",
       "    <tr>\n",
       "      <th>min</th>\n",
       "      <td>0.000391</td>\n",
       "      <td>5.001173</td>\n",
       "    </tr>\n",
       "    <tr>\n",
       "      <th>25%</th>\n",
       "      <td>0.237610</td>\n",
       "      <td>5.825749</td>\n",
       "    </tr>\n",
       "    <tr>\n",
       "      <th>50%</th>\n",
       "      <td>0.487362</td>\n",
       "      <td>6.937129</td>\n",
       "    </tr>\n",
       "    <tr>\n",
       "      <th>75%</th>\n",
       "      <td>0.746092</td>\n",
       "      <td>8.351583</td>\n",
       "    </tr>\n",
       "    <tr>\n",
       "      <th>max</th>\n",
       "      <td>0.998432</td>\n",
       "      <td>9.989031</td>\n",
       "    </tr>\n",
       "  </tbody>\n",
       "</table>\n",
       "</div>"
      ],
      "text/plain": [
       "                x           y\n",
       "count  850.000000  850.000000\n",
       "mean     0.493182    7.135524\n",
       "std      0.291308    1.460904\n",
       "min      0.000391    5.001173\n",
       "25%      0.237610    5.825749\n",
       "50%      0.487362    6.937129\n",
       "75%      0.746092    8.351583\n",
       "max      0.998432    9.989031"
      ]
     },
     "execution_count": 5,
     "metadata": {},
     "output_type": "execute_result"
    }
   ],
   "source": [
    "df.describe()"
   ]
  },
  {
   "cell_type": "code",
   "execution_count": 6,
   "metadata": {},
   "outputs": [
    {
     "data": {
      "text/plain": [
       "<matplotlib.axes._subplots.AxesSubplot at 0x120f9a278>"
      ]
     },
     "execution_count": 6,
     "metadata": {},
     "output_type": "execute_result"
    },
    {
     "data": {
      "image/png": "[encoded data removed]",
      "text/plain": [
       "<matplotlib.figure.Figure at 0x120f57c18>"
      ]
     },
     "metadata": {},
     "output_type": "display_data"
    }
   ],
   "source": [
    "df.plot.scatter(x='x',y='y',figsize=(15,5))"
   ]
  },
  {
   "cell_type": "markdown",
   "metadata": {},
   "source": [
    "# Helper Functions\n",
    "Let's make a function to create  layer easily!"
   ]
  },
  {
   "cell_type": "code",
   "execution_count": 7,
   "metadata": {
    "collapsed": true
   },
   "outputs": [],
   "source": [
    "def add_layer(inputs,input_size,output_size,activate_function=None):\n",
    "    # tf.truncated_normal([size of batches,size of output layer])\n",
    "    Weights = tf.Variable(tf.truncated_normal([input_size,output_size],mean=0.1,stddev=0.1))\n",
    "    # tf.truncated_normal([size of output layer])\n",
    "    biases = tf.Variable(tf.truncated_normal([output_size],mean=0.1,stddev=0.1))\n",
    "    # compute pred\n",
    "    pred = tf.matmul(inputs,Weights) + biases\n",
    "    \n",
    "    output = pred\n",
    "    if activate_function is not None:\n",
    "        output = activate_function(pred)\n",
    "    return output"
   ]
  },
  {
   "cell_type": "markdown",
   "metadata": {},
   "source": [
    "# Model Your Graph\n",
    "Start to use W (for weight) and b (for bias) when setting up your variables. Aside from adding your ReLU activation function, it is a good idea to use Tensorflow's ***matrix multiplication function (matmul)*** as shown below.  \n",
    "\n",
    "> The ? in the shape output just means it can be of any shape.\n",
    "\n",
    "For the shape parameter, you can think of it like this...  \n",
    "\n",
    "> shape = [how many data points do you have, how many features does each data point have]  \n",
    "\n",
    "For this lesson since we are doing a simple regression, we only have one feature (x). We use the ***None*** keyword so that we are not restricted on the number of samples to feed our model. This will become more important when you learn about training using batches on a future lesson."
   ]
  },
  {
   "cell_type": "code",
   "execution_count": 8,
   "metadata": {},
   "outputs": [
    {
     "name": "stdout",
     "output_type": "stream",
     "text": [
      "shape of x,y (?, 1) (?, 1)\n"
     ]
    }
   ],
   "source": [
    "# number of neurons\n",
    "hidden_size = 100\n",
    "\n",
    "# placeholders\n",
    "# shape= [how many samples do you have, how many input neurons]\n",
    "x = tf.placeholder(tf.float32,shape=[None,1],name='01_x')\n",
    "y = tf.placeholder(tf.float32,shape=[None,1],name='01_y')\n",
    "\n",
    "print('shape of x,y',x.get_shape(),y.get_shape())"
   ]
  },
  {
   "cell_type": "markdown",
   "metadata": {},
   "source": [
    "Note that the input of one layer becomes the input of the next layer."
   ]
  },
  {
   "cell_type": "code",
   "execution_count": 9,
   "metadata": {},
   "outputs": [
    {
     "name": "stdout",
     "output_type": "stream",
     "text": [
      "shape of h1,h2  (?, 100) (?, 100)\n"
     ]
    }
   ],
   "source": [
    "# create your hidden layers\n",
    "h1 = add_layer(x,1,hidden_size,tf.nn.relu)\n",
    "h2 = add_layer(h1,hidden_size,hidden_size,tf.nn.relu)\n",
    "\n",
    "print('shape of h1,h2 ',h1.get_shape(),h2.get_shape())"
   ]
  },
  {
   "cell_type": "code",
   "execution_count": 10,
   "metadata": {},
   "outputs": [
    {
     "name": "stdout",
     "output_type": "stream",
     "text": [
      "shape of output layer: (?, 1)\n"
     ]
    }
   ],
   "source": [
    "# output layer\n",
    "pred = add_layer(h2,hidden_size,1)\n",
    "\n",
    "print('shape of output layer:',pred.get_shape())"
   ]
  },
  {
   "cell_type": "code",
   "execution_count": 11,
   "metadata": {
    "collapsed": true
   },
   "outputs": [],
   "source": [
    "# minimize the square error\n",
    "loss = tf.reduce_mean(tf.square(pred-y))\n",
    "\n",
    "# pick out the optimizer\n",
    "optimizer = tf.train.GradientDescentOptimizer(0.003)\n",
    "train = optimizer.minimize(loss)"
   ]
  },
  {
   "cell_type": "markdown",
   "metadata": {},
   "source": [
    "# How Good is Your Model?\n",
    "Set up the following variables to calculate the accuracy rate of your model. You will do that shortly."
   ]
  },
  {
   "cell_type": "code",
   "execution_count": 12,
   "metadata": {
    "collapsed": true
   },
   "outputs": [],
   "source": [
    "# check correct of model\n",
    "correct_prediction = tf.equal(tf.round(pred),tf.round(y))\n",
    "accuracy = tf.reduce_mean(tf.cast(correct_prediction,tf.float32))"
   ]
  },
  {
   "cell_type": "markdown",
   "metadata": {},
   "source": [
    "# Training Time!\n",
    "The best score I was able to obtain was a ~98% accuracy using a LR of 0.003 and iterating 3,000 times. As you can see adding additional layers made a big difference."
   ]
  },
  {
   "cell_type": "code",
   "execution_count": 15,
   "metadata": {},
   "outputs": [
    {
     "name": "stdout",
     "output_type": "stream",
     "text": [
      "step,loss,accuracy: 0 122.171 0.0\n",
      "step,loss,accuracy: 200 0.000988595 0.972941\n",
      "step,loss,accuracy: 400 0.000682367 0.972941\n",
      "step,loss,accuracy: 600 0.000544932 0.976471\n",
      "step,loss,accuracy: 800 0.000462285 0.978824\n",
      "step,loss,accuracy: 1000 0.000402983 0.98\n",
      "step,loss,accuracy: 1200 0.000356487 0.984706\n",
      "step,loss,accuracy: 1400 0.000318306 0.987059\n",
      "step,loss,accuracy: 1600 0.000286516 0.987059\n",
      "step,loss,accuracy: 1800 0.000259462 0.987059\n",
      "step,loss,accuracy: 2000 0.000236031 0.987059\n",
      "step,loss,accuracy: 2200 0.000215795 0.987059\n",
      "step,loss,accuracy: 2400 0.000198206 0.987059\n",
      "step,loss,accuracy: 2600 0.000182838 0.989412\n",
      "step,loss,accuracy: 2800 0.000169353 0.989412\n",
      "train accuracy: 0.989412\n",
      "test accuracy: 0.993333\n"
     ]
    }
   ],
   "source": [
    "init = tf.global_variables_initializer()\n",
    "\n",
    "t = []\n",
    "\n",
    "with tf.Session() as sess:\n",
    "    sess.run(init)\n",
    "    \n",
    "    train_data = {x:train_x,y:train_y}\n",
    "    test_data = {x:test_x,y:test_y}\n",
    "    \n",
    "    for step in range(3000):\n",
    "        \n",
    "        train_loss,train_pred = sess.run([loss,train],feed_dict=train_data)\n",
    "        \n",
    "        if step % 200 == 0:\n",
    "            t.append((step,train_loss))\n",
    "            print('step,loss,accuracy:',step,train_loss,accuracy.eval(train_data))\n",
    "            \n",
    "    print('train accuracy:',accuracy.eval(train_data))\n",
    "    print('test accuracy:',accuracy.eval(test_data))\n",
    "    \n",
    "    test_result = sess.run(pred,feed_dict=test_data)\n",
    "    df_final = pd.DataFrame({\n",
    "        'test_x':test_x[:,0],\n",
    "        'pred':test_result[:,0]\n",
    "    })\n",
    "    \n",
    "    df_loss = pd.DataFrame(t,columns=['step','train_loss'])"
   ]
  },
  {
   "cell_type": "code",
   "execution_count": 16,
   "metadata": {},
   "outputs": [
    {
     "data": {
      "image/png": "[encoded data removed]",
      "text/plain": [
       "<matplotlib.figure.Figure at 0x124281588>"
      ]
     },
     "metadata": {},
     "output_type": "display_data"
    }
   ],
   "source": [
    "fig, axes = plt.subplots(nrows=1, ncols=1, figsize=(15, 5))\n",
    "\n",
    "# Chart 1 - Shows the line we are trying to model\n",
    "df.plot.scatter(x='x', y='y', ax=axes, color='red')\n",
    "\n",
    "# Chart 2 - Shows the line our trained model came up with\n",
    "df_final.plot.scatter(x='test_x', y='pred', ax=axes, alpha=0.3)\n",
    "\n",
    "# add a little sugar\n",
    "axes.set_title('target vs pred', fontsize=20)\n",
    "axes.set_ylabel('y', fontsize=15)\n",
    "axes.set_xlabel('x', fontsize=15)\n",
    "axes.legend([\"target\", \"pred\"], loc='best');"
   ]
  },
  {
   "cell_type": "code",
   "execution_count": 17,
   "metadata": {},
   "outputs": [
    {
     "data": {
      "image/png": "[encoded data removed]",
      "text/plain": [
       "<matplotlib.figure.Figure at 0x1245cb710>"
      ]
     },
     "metadata": {},
     "output_type": "display_data"
    }
   ],
   "source": [
    "df_loss.set_index('step').plot(logy=True, figsize=(15,5));"
   ]
  },
  {
   "cell_type": "markdown",
   "metadata": {},
   "source": [
    "# Your Turn  \n",
    "\n",
    "> Try different sizes of neurons, learning rates, and iterations. You will notice that changing any one of these parameters will require you to change another one. Try to get a feel of this model and how it is affected by tweaking it. If you are bold enough, try to add even more layers and see what happens. In the next lesson we are going to talk about Validation."
   ]
  },
  {
   "cell_type": "code",
   "execution_count": 21,
   "metadata": {
    "collapsed": true
   },
   "outputs": [],
   "source": [
    "def deep_nn(hidden_size = 100,epoch=3000,lr=0.003):\n",
    "\n",
    "    # placeholders\n",
    "    # shape= [how many samples do you have, how many input neurons]\n",
    "    x = tf.placeholder(tf.float32,shape=[None,1],name='01_x')\n",
    "    y = tf.placeholder(tf.float32,shape=[None,1],name='01_y')\n",
    "\n",
    "    # create your hidden layers\n",
    "    h1 = add_layer(x,1,hidden_size,tf.nn.relu)\n",
    "    h2 = add_layer(h1,hidden_size,hidden_size,tf.nn.relu)\n",
    "\n",
    "    pred = add_layer(h2,hidden_size,1)\n",
    "\n",
    "    # minimize the square error\n",
    "    loss = tf.reduce_mean(tf.square(pred-y))\n",
    "\n",
    "    # pick out the optimizer\n",
    "    optimizer = tf.train.GradientDescentOptimizer(lr)\n",
    "    train = optimizer.minimize(loss)\n",
    "\n",
    "    # check correct of model\n",
    "    correct_prediction = tf.equal(tf.round(pred),tf.round(y))\n",
    "    accuracy = tf.reduce_mean(tf.cast(correct_prediction,tf.float32))\n",
    "\n",
    "    init = tf.global_variables_initializer()\n",
    "\n",
    "    t = []\n",
    "\n",
    "    with tf.Session() as sess:\n",
    "        sess.run(init)\n",
    "\n",
    "        train_data = {x:train_x,y:train_y}\n",
    "        test_data = {x:test_x,y:test_y}\n",
    "\n",
    "        for step in range(epoch):\n",
    "\n",
    "            train_loss,train_pred = sess.run([loss,train],feed_dict=train_data)\n",
    "\n",
    "            if step % 200 == 0:\n",
    "                t.append((step,train_loss))\n",
    "                print('step,loss,accuracy:',step,train_loss,accuracy.eval(train_data))\n",
    "\n",
    "        print('train accuracy:',accuracy.eval(train_data))\n",
    "        print('test accuracy:',accuracy.eval(test_data))\n",
    "\n",
    "        test_result = sess.run(pred,feed_dict=test_data)\n",
    "        df_final = pd.DataFrame({\n",
    "            'test_x':test_x[:,0],\n",
    "            'pred':test_result[:,0]\n",
    "        })\n",
    "\n",
    "        df_loss = pd.DataFrame(t,columns=['step','train_loss'])\n",
    "\n",
    "    fig, axes = plt.subplots(nrows=1, ncols=1, figsize=(15, 5))\n",
    "\n",
    "    # Chart 1 - Shows the line we are trying to model\n",
    "    df.plot.scatter(x='x', y='y', ax=axes, color='red')\n",
    "\n",
    "    # Chart 2 - Shows the line our trained model came up with\n",
    "    df_final.plot.scatter(x='test_x', y='pred', ax=axes, alpha=0.3)\n",
    "\n",
    "    # add a little sugar\n",
    "    axes.set_title('target vs pred', fontsize=20)\n",
    "    axes.set_ylabel('y', fontsize=15)\n",
    "    axes.set_xlabel('x', fontsize=15)\n",
    "    axes.legend([\"target\", \"pred\"], loc='best');\n",
    "\n",
    "    df_loss.set_index('step').plot(logy=True, figsize=(15,5));"
   ]
  },
  {
   "cell_type": "code",
   "execution_count": 26,
   "metadata": {},
   "outputs": [
    {
     "name": "stdout",
     "output_type": "stream",
     "text": [
      "step,loss,accuracy: 0 8.89144 0.144706\n",
      "step,loss,accuracy: 200 0.01843 0.890588\n",
      "step,loss,accuracy: 400 0.0164437 0.9\n",
      "step,loss,accuracy: 600 0.015384 0.908235\n",
      "step,loss,accuracy: 800 0.0148238 0.909412\n",
      "step,loss,accuracy: 1000 0.0143891 0.910588\n",
      "step,loss,accuracy: 1200 0.013978 0.911765\n",
      "step,loss,accuracy: 1400 0.0135734 0.912941\n",
      "step,loss,accuracy: 1600 0.0131703 0.915294\n",
      "step,loss,accuracy: 1800 0.0127677 0.916471\n",
      "step,loss,accuracy: 2000 0.0123657 0.918824\n",
      "step,loss,accuracy: 2200 0.0119648 0.922353\n",
      "step,loss,accuracy: 2400 0.0115654 0.924706\n",
      "step,loss,accuracy: 2600 0.011168 0.924706\n",
      "step,loss,accuracy: 2800 0.0107731 0.925882\n",
      "train accuracy: 0.927059\n",
      "test accuracy: 0.946667\n"
     ]
    },
    {
     "data": {
      "image/png": "[encoded data removed]",
      "text/plain": [
       "<matplotlib.figure.Figure at 0x125ef9a20>"
      ]
     },
     "metadata": {},
     "output_type": "display_data"
    },
    {
     "data": {
      "image/png": "[encoded data removed]",
      "text/plain": [
       "<matplotlib.figure.Figure at 0x125d3dac8>"
      ]
     },
     "metadata": {},
     "output_type": "display_data"
    }
   ],
   "source": [
    "deep_nn(hidden_size = 50,epoch=3000,lr=0.005)"
   ]
  },
  {
   "cell_type": "code",
   "execution_count": null,
   "metadata": {
    "collapsed": true
   },
   "outputs": [],
   "source": []
  }
 ],
 "metadata": {
  "kernelspec": {
   "display_name": "Python [conda env:tf]",
   "language": "python",
   "name": "conda-env-tf-py"
  },
  "language_info": {
   "codemirror_mode": {
    "name": "ipython",
    "version": 3
   },
   "file_extension": ".py",
   "mimetype": "text/x-python",
   "name": "python",
   "nbconvert_exporter": "python",
   "pygments_lexer": "ipython3",
   "version": "3.6.3"
  },
  "toc": {
   "colors": {
    "hover_highlight": "#DAA520",
    "running_highlight": "#FF0000",
    "selected_highlight": "#FFD700"
   },
   "moveMenuLeft": true,
   "nav_menu": {
    "height": "213px",
    "width": "251px"
   },
   "navigate_menu": true,
   "number_sections": true,
   "sideBar": true,
   "threshold": 4,
   "toc_cell": false,
   "toc_section_display": "block",
   "toc_window_display": false
  }
 },
 "nbformat": 4,
 "nbformat_minor": 2
}
