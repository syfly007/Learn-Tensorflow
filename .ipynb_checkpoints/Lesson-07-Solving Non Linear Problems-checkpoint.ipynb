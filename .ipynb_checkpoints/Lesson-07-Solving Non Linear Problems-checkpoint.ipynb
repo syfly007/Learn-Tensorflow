{
 "cells": [
  {
   "cell_type": "markdown",
   "metadata": {
    "collapsed": true
   },
   "source": [
    "# Solving Non Linear Problems"
   ]
  },
  {
   "cell_type": "markdown",
   "metadata": {},
   "source": [
    "In lesson 04, you were able to figure out how to solve a basic Linear Regression problem with a simple NN. In this lesson, I am going to introduce you to ***Activation functions***. You are also going to create a NN with a hidden layer."
   ]
  },
  {
   "cell_type": "markdown",
   "metadata": {},
   "source": [
    "> What is the purpose of an activation Function?  \n",
    "\n",
    "Activation Functions allow your NN to model non linear problems. All of your NNs in the previous lessons have NOT had an activation function and will not do well with non linear datasets.  "
   ]
  },
  {
   "cell_type": "markdown",
   "metadata": {},
   "source": [
    "> What are some of the common activation functions?  \n",
    "\n",
    "* Sigmoid  \n",
    "* Tanh  \n",
    "* ReLU (most popular)  "
   ]
  },
  {
   "cell_type": "markdown",
   "metadata": {},
   "source": [
    "# Let's Get to Work! "
   ]
  },
  {
   "cell_type": "code",
   "execution_count": 1,
   "metadata": {
    "collapsed": true
   },
   "outputs": [],
   "source": [
    "# import libraries\n",
    "import tensorflow as tf\n",
    "import pandas as pd\n",
    "import numpy as np\n",
    "import sys\n",
    "import datetime\n",
    "import matplotlib.pyplot as plt\n",
    "plt.style.use('ggplot') # use this plot style\n",
    "%matplotlib inline"
   ]
  },
  {
   "cell_type": "code",
   "execution_count": 2,
   "metadata": {},
   "outputs": [
    {
     "name": "stdout",
     "output_type": "stream",
     "text": [
      "Python version 3.6.3 |Anaconda, Inc.| (default, Nov  3 2017, 12:34:11) \n",
      "[GCC 4.2.1 Compatible Clang 4.0.1 (tags/RELEASE_401/final)]\n",
      "Tensorflow version 1.1.0\n",
      "Pandas version 0.20.3\n",
      "Numpy version 1.12.1\n"
     ]
    }
   ],
   "source": [
    "print('Python version ' + sys.version)\n",
    "print('Tensorflow version ' + tf.VERSION)\n",
    "print('Pandas version ' + pd.__version__)\n",
    "print('Numpy version ' + np.__version__)"
   ]
  },
  {
   "cell_type": "markdown",
   "metadata": {},
   "source": [
    "# Function to model\n",
    "\n",
    "    y = a * x^2 + b * x + c"
   ]
  },
  {
   "cell_type": "code",
   "execution_count": 3,
   "metadata": {},
   "outputs": [
    {
     "name": "stdout",
     "output_type": "stream",
     "text": [
      "Test sample size: (150, 1)\n",
      "Training sample size: (850, 1)\n"
     ]
    }
   ],
   "source": [
    "# let's generate 1000 random sample\n",
    "pool = np.random.rand(1000,1).astype(np.float32)\n",
    "\n",
    "# Shuffle samples\n",
    "np.random.shuffle(pool)\n",
    "\n",
    "# sample size of 15%\n",
    "sample = int(1000 * 0.15)\n",
    "\n",
    "# 15% test\n",
    "test_x = pool[0:sample]\n",
    "\n",
    "# 85% train\n",
    "train_x = pool[sample:]\n",
    "\n",
    "print(\"Test sample size:\",test_x.shape)\n",
    "print(\"Training sample size:\",train_x.shape)\n",
    "\n",
    "test_y = 2.0 * test_x**2 + 3.0 * test_x + 5\n",
    "train_y = 2.0 * train_x**2 + 3.0 * train_x + 5"
   ]
  },
  {
   "cell_type": "code",
   "execution_count": 4,
   "metadata": {},
   "outputs": [
    {
     "data": {
      "text/html": [
       "<div>\n",
       "<style>\n",
       "    .dataframe thead tr:only-child th {\n",
       "        text-align: right;\n",
       "    }\n",
       "\n",
       "    .dataframe thead th {\n",
       "        text-align: left;\n",
       "    }\n",
       "\n",
       "    .dataframe tbody tr th {\n",
       "        vertical-align: top;\n",
       "    }\n",
       "</style>\n",
       "<table border=\"1\" class=\"dataframe\">\n",
       "  <thead>\n",
       "    <tr style=\"text-align: right;\">\n",
       "      <th></th>\n",
       "      <th>x</th>\n",
       "      <th>y</th>\n",
       "    </tr>\n",
       "  </thead>\n",
       "  <tbody>\n",
       "    <tr>\n",
       "      <th>0</th>\n",
       "      <td>0.680756</td>\n",
       "      <td>7.969127</td>\n",
       "    </tr>\n",
       "    <tr>\n",
       "      <th>1</th>\n",
       "      <td>0.996621</td>\n",
       "      <td>9.976369</td>\n",
       "    </tr>\n",
       "    <tr>\n",
       "      <th>2</th>\n",
       "      <td>0.272934</td>\n",
       "      <td>5.967790</td>\n",
       "    </tr>\n",
       "    <tr>\n",
       "      <th>3</th>\n",
       "      <td>0.870633</td>\n",
       "      <td>9.127904</td>\n",
       "    </tr>\n",
       "    <tr>\n",
       "      <th>4</th>\n",
       "      <td>0.989352</td>\n",
       "      <td>9.925688</td>\n",
       "    </tr>\n",
       "  </tbody>\n",
       "</table>\n",
       "</div>"
      ],
      "text/plain": [
       "          x         y\n",
       "0  0.680756  7.969127\n",
       "1  0.996621  9.976369\n",
       "2  0.272934  5.967790\n",
       "3  0.870633  9.127904\n",
       "4  0.989352  9.925688"
      ]
     },
     "execution_count": 4,
     "metadata": {},
     "output_type": "execute_result"
    }
   ],
   "source": [
    "df = pd.DataFrame({\n",
    "    'x':train_x[:,0],\n",
    "    'y':train_y[:,0]\n",
    "})\n",
    "df.head()"
   ]
  },
  {
   "cell_type": "code",
   "execution_count": 5,
   "metadata": {},
   "outputs": [
    {
     "data": {
      "text/html": [
       "<div>\n",
       "<style>\n",
       "    .dataframe thead tr:only-child th {\n",
       "        text-align: right;\n",
       "    }\n",
       "\n",
       "    .dataframe thead th {\n",
       "        text-align: left;\n",
       "    }\n",
       "\n",
       "    .dataframe tbody tr th {\n",
       "        vertical-align: top;\n",
       "    }\n",
       "</style>\n",
       "<table border=\"1\" class=\"dataframe\">\n",
       "  <thead>\n",
       "    <tr style=\"text-align: right;\">\n",
       "      <th></th>\n",
       "      <th>x</th>\n",
       "      <th>y</th>\n",
       "    </tr>\n",
       "  </thead>\n",
       "  <tbody>\n",
       "    <tr>\n",
       "      <th>count</th>\n",
       "      <td>850.000000</td>\n",
       "      <td>850.000000</td>\n",
       "    </tr>\n",
       "    <tr>\n",
       "      <th>mean</th>\n",
       "      <td>0.488712</td>\n",
       "      <td>7.107802</td>\n",
       "    </tr>\n",
       "    <tr>\n",
       "      <th>std</th>\n",
       "      <td>0.286515</td>\n",
       "      <td>1.440690</td>\n",
       "    </tr>\n",
       "    <tr>\n",
       "      <th>min</th>\n",
       "      <td>0.001570</td>\n",
       "      <td>5.004716</td>\n",
       "    </tr>\n",
       "    <tr>\n",
       "      <th>25%</th>\n",
       "      <td>0.237953</td>\n",
       "      <td>5.827101</td>\n",
       "    </tr>\n",
       "    <tr>\n",
       "      <th>50%</th>\n",
       "      <td>0.477152</td>\n",
       "      <td>6.886806</td>\n",
       "    </tr>\n",
       "    <tr>\n",
       "      <th>75%</th>\n",
       "      <td>0.726525</td>\n",
       "      <td>8.235250</td>\n",
       "    </tr>\n",
       "    <tr>\n",
       "      <th>max</th>\n",
       "      <td>0.998487</td>\n",
       "      <td>9.989411</td>\n",
       "    </tr>\n",
       "  </tbody>\n",
       "</table>\n",
       "</div>"
      ],
      "text/plain": [
       "                x           y\n",
       "count  850.000000  850.000000\n",
       "mean     0.488712    7.107802\n",
       "std      0.286515    1.440690\n",
       "min      0.001570    5.004716\n",
       "25%      0.237953    5.827101\n",
       "50%      0.477152    6.886806\n",
       "75%      0.726525    8.235250\n",
       "max      0.998487    9.989411"
      ]
     },
     "execution_count": 5,
     "metadata": {},
     "output_type": "execute_result"
    }
   ],
   "source": [
    "df.describe()"
   ]
  },
  {
   "cell_type": "code",
   "execution_count": 6,
   "metadata": {},
   "outputs": [
    {
     "data": {
      "text/plain": [
       "<matplotlib.axes._subplots.AxesSubplot at 0x1150a9240>"
      ]
     },
     "execution_count": 6,
     "metadata": {},
     "output_type": "execute_result"
    },
    {
     "data": {
      "image/png": "[encoded data removed]",
      "text/plain": [
       "<matplotlib.figure.Figure at 0x115063b00>"
      ]
     },
     "metadata": {},
     "output_type": "display_data"
    }
   ],
   "source": [
    "df.plot.scatter(x='x',y='y',figsize=[15,5])"
   ]
  },
  {
   "cell_type": "markdown",
   "metadata": {},
   "source": [
    "# Model your Graph\n",
    "\n",
    "Start to use W (for weight) and b (for bias) when setting up your variables. Aside from adding your ReLU activation function, it is a good idea to use Tensorflow's ***matrix multiplication function (matmul)*** as shown below.  \n",
    "\n",
    "> The ? in the shape output just means it can be of any shape."
   ]
  },
  {
   "cell_type": "markdown",
   "metadata": {},
   "source": [
    "For the shape parameter, you can think of it like this...  \n",
    "\n",
    "> shape = [how many data points do you have, how many features does each data point have]  \n",
    "\n",
    "For this lesson since we are doing a simple regression, we only have one feature (x). We use the ***None*** keyword so that we are not restricted on the number of samples to feed our model. This will become more important when you learn about training using batches on a future lesson."
   ]
  },
  {
   "cell_type": "code",
   "execution_count": 7,
   "metadata": {},
   "outputs": [
    {
     "name": "stdout",
     "output_type": "stream",
     "text": [
      "shape of x and y\n",
      "(?, 1) (?, 1)\n"
     ]
    }
   ],
   "source": [
    "# you can adjust the number of neurons in the hidden layer\n",
    "hidden_size = 1\n",
    "\n",
    "# placeholders\n",
    "# shape[how many sample you have, how many input neorons]\n",
    "x = tf.placeholder(tf.float32,shape=[None,1],name='01_x')\n",
    "y = tf.placeholder(tf.float32,shape=[None,1],name='01_y')\n",
    "\n",
    "print('shape of x and y')\n",
    "print(x.get_shape(),y.get_shape())"
   ]
  },
  {
   "cell_type": "code",
   "execution_count": 8,
   "metadata": {},
   "outputs": [
    {
     "name": "stdout",
     "output_type": "stream",
     "text": [
      "shape of hidden layer\n",
      "(?, 1)\n"
     ]
    }
   ],
   "source": [
    "# create your first hidden layer\n",
    "# tf.truncated_normal([how many samples do you have, size of output layer])\n",
    "W1 = tf.Variable(tf.truncated_normal([1,hidden_size],mean=0.1,stddev=0.1),name='w1')\n",
    "\n",
    "# tf.truncated_normal([size of output layer])\n",
    "b1 = tf.Variable(tf.truncated_normal([hidden_size],mean=0.1,stddev=0.1),name='b1')\n",
    "\n",
    "# tf.truncated_normal([size of samples, size of output layer])\n",
    "h1 = tf.nn.relu(tf.matmul(x,W1) + b1,name='h1')\n",
    "\n",
    "print('shape of hidden layer')\n",
    "print(h1.shape)"
   ]
  },
  {
   "cell_type": "code",
   "execution_count": 9,
   "metadata": {},
   "outputs": [
    {
     "name": "stdout",
     "output_type": "stream",
     "text": [
      "shape of output layer\n",
      "(?, 1)\n"
     ]
    }
   ],
   "source": [
    "# output layer\n",
    "W = tf.Variable(tf.truncated_normal([hidden_size,1],mean=0.1,stddev=0.1),name='w')\n",
    "b = tf.Variable(tf.truncated_normal([1],mean=0.1,stddev=0.1),name='b')\n",
    "\n",
    "# note that the input comes from our hidden layer\n",
    "pred = tf.nn.relu(tf.matmul(h1,W)+b)\n",
    "\n",
    "print('shape of output layer')\n",
    "print(pred.shape)"
   ]
  },
  {
   "cell_type": "code",
   "execution_count": 10,
   "metadata": {
    "collapsed": true
   },
   "outputs": [],
   "source": [
    "# minimize the square mean error\n",
    "loss = tf.reduce_mean(tf.square(pred-y))\n",
    "\n",
    "# pick optimizer\n",
    "optimizer = tf.train.GradientDescentOptimizer(0.09)\n",
    "train = optimizer.minimize(loss)"
   ]
  },
  {
   "cell_type": "markdown",
   "metadata": {},
   "source": [
    "# How Good is Your model?  \n",
    "\n",
    "Set up the following variables to calculate the accuracy rate of your model. You will do that shortly."
   ]
  },
  {
   "cell_type": "code",
   "execution_count": 11,
   "metadata": {
    "collapsed": true
   },
   "outputs": [],
   "source": [
    "# check accuracy of model\n",
    "correct_prediction = tf.equal(tf.round(pred),tf.round(y))\n",
    "accuracy = tf.reduce_mean(tf.cast(correct_prediction,tf.float32))"
   ]
  },
  {
   "cell_type": "markdown",
   "metadata": {},
   "source": [
    "# Training Time!  \n",
    "\n",
    "The best score I was able to obtain was a ***~90% accuracy*** using a LR of 0.09 and iterating 250 times. I tried different learning rates and iterations but I was having a hard time getting past the 89 mark."
   ]
  },
  {
   "cell_type": "code",
   "execution_count": 19,
   "metadata": {},
   "outputs": [
    {
     "name": "stdout",
     "output_type": "stream",
     "text": [
      "step:0, loss:50.936832, accuracy:0.000000, \n",
      "step:50, loss:0.026037, accuracy:0.858824, \n",
      "step:100, loss:0.022932, accuracy:0.869412, \n",
      "step:150, loss:0.022932, accuracy:0.869412, \n",
      "step:200, loss:0.022932, accuracy:0.869412, \n",
      "train accuracy:0.869412\n",
      "test accuracy:0.886667\n"
     ]
    }
   ],
   "source": [
    "# initial variables\n",
    "init = tf.global_variables_initializer()\n",
    "\n",
    "# record step and error loss\n",
    "t = []\n",
    "\n",
    "with tf.Session() as sess:\n",
    "    \n",
    "    sess.run(init)\n",
    "    \n",
    "    # get data\n",
    "    train_data = {x:train_x,y:train_y}\n",
    "    test_data = {x:test_x,y:test_y}\n",
    "        \n",
    "    for step in range(250):\n",
    "        \n",
    "        # train data in process\n",
    "        train_loss,train_pred = sess.run([loss,train],feed_dict=train_data)\n",
    "        \n",
    "        if step % 50 == 0:\n",
    "            # capture step and loss for analysis\n",
    "            t.append((step,train_loss))\n",
    "            \n",
    "            print(\"step:%d, loss:%f, accuracy:%f, \"%(step,train_loss,accuracy.eval(train_data)))\n",
    "            \n",
    "    print(\"train accuracy:%f\"%(accuracy.eval(train_data)))\n",
    "    print(\"test accuracy:%f\"%(accuracy.eval(test_data)))\n",
    "    \n",
    "    # capture prediction on test data\n",
    "    test_result = sess.run(pred,feed_dict={x:test_x})\n",
    "    df_final = pd.DataFrame({\n",
    "        'test_x':test_x[:,0],\n",
    "        'pred':test_result[:,0]\n",
    "    })\n",
    "    \n",
    "    # capture training and validation loss\n",
    "    df_loss = pd.DataFrame(t,columns=['step','train_loss'])"
   ]
  },
  {
   "cell_type": "code",
   "execution_count": 20,
   "metadata": {},
   "outputs": [
    {
     "data": {
      "text/plain": [
       "<matplotlib.legend.Legend at 0x11994b160>"
      ]
     },
     "execution_count": 20,
     "metadata": {},
     "output_type": "execute_result"
    },
    {
     "data": {
      "image/png": "[encoded data removed]",
      "text/plain": [
       "<matplotlib.figure.Figure at 0x118d80358>"
      ]
     },
     "metadata": {},
     "output_type": "display_data"
    }
   ],
   "source": [
    "fig, axes = plt.subplots(nrows=1,ncols=1,figsize=(15,5))\n",
    "\n",
    "# chart 1: show the line we try to model\n",
    "df.plot.scatter(x='x',y='y',ax=axes,color='red')\n",
    "\n",
    "# chart 2: show the line model came up\n",
    "df_final.plot.scatter(x='test_x',y='pred',ax=axes,alpha=0.5)\n",
    "\n",
    "axes.set_title('target vs pred',fontsize=20)\n",
    "axes.set_xlabel('x',fontsize=15)\n",
    "axes.set_ylabel('y',fontsize=15)\n",
    "axes.legend(['target','pred'],loc='best')"
   ]
  },
  {
   "cell_type": "code",
   "execution_count": 21,
   "metadata": {},
   "outputs": [
    {
     "data": {
      "text/plain": [
       "<matplotlib.axes._subplots.AxesSubplot at 0x118d80278>"
      ]
     },
     "execution_count": 21,
     "metadata": {},
     "output_type": "execute_result"
    },
    {
     "data": {
      "image/png": "[encoded data removed]",
      "text/plain": [
       "<matplotlib.figure.Figure at 0x11971d6d8>"
      ]
     },
     "metadata": {},
     "output_type": "display_data"
    }
   ],
   "source": [
    "df_loss.set_index('step').plot(logy=True,figsize=(15,5))"
   ]
  },
  {
   "cell_type": "markdown",
   "metadata": {},
   "source": [
    "# Your Turn  \n",
    "\n",
    "> Try to increase size of your  hidden layer and see how that affects your model. Note that changing the size of your hidden layer may require you to change the Learning Rate and the number of iterations as well. I have also found that making the hidden layer very very large might not always make things better."
   ]
  },
  {
   "cell_type": "code",
   "execution_count": null,
   "metadata": {
    "collapsed": true
   },
   "outputs": [],
   "source": [
    "def nn_hidden(hidden=1,epoch=250)\n",
    "    # you can adjust the number of neurons in the hidden layer\n",
    "    hidden_size = hidden\n",
    "\n",
    "    # placeholders\n",
    "    # shape[how many sample you have, how many input neorons]\n",
    "    x = tf.placeholder(tf.float32,shape=[None,1],name='01_x')\n",
    "    y = tf.placeholder(tf.float32,shape=[None,1],name='01_y')\n",
    "\n",
    "    # create your first hidden layer\n",
    "    # tf.truncated_normal([how many samples do you have, size of output layer])\n",
    "    W1 = tf.Variable(tf.truncated_normal([1,hidden_size],mean=0.1,stddev=0.1),name='w1')\n",
    "\n",
    "    # tf.truncated_normal([size of output layer])\n",
    "    b1 = tf.Variable(tf.truncated_normal([hidden_size],mean=0.1,stddev=0.1),name='b1')\n",
    "\n",
    "    # tf.truncated_normal([size of samples, size of output layer])\n",
    "    h1 = tf.nn.relu(tf.matmul(x,W1) + b1,name='h1')\n",
    "\n",
    "    # output layer\n",
    "    W = tf.Variable(tf.truncated_normal([hidden_size,1],mean=0.1,stddev=0.1),name='w')\n",
    "    b = tf.Variable(tf.truncated_normal([1],mean=0.1,stddev=0.1),name='b')\n",
    "\n",
    "    # note that the input comes from our hidden layer\n",
    "    pred = tf.nn.relu(tf.matmul(h1,W)+b)\n",
    "\n",
    "    # minimize the square mean error\n",
    "    loss = tf.reduce_mean(tf.square(pred-y))\n",
    "\n",
    "    # pick optimizer\n",
    "    optimizer = tf.train.GradientDescentOptimizer(0.09)\n",
    "    train = optimizer.minimize(loss)\n",
    "\n",
    "    # check accuracy of model\n",
    "    correct_prediction = tf.equal(tf.round(pred),tf.round(y))\n",
    "    accuracy = tf.reduce_mean(tf.cast(correct_prediction,tf.float32))\n",
    "\n",
    "    # initial variables\n",
    "    init = tf.global_variables_initializer()\n",
    "\n",
    "    # record step and error loss\n",
    "    t = []\n",
    "\n",
    "    with tf.Session() as sess:\n",
    "\n",
    "        sess.run(init)\n",
    "\n",
    "        # get data\n",
    "        train_data = {x:train_x,y:train_y}\n",
    "        test_data = {x:test_x,y:test_y}\n",
    "\n",
    "        for step in range(250):\n",
    "\n",
    "            # train data in process\n",
    "            train_loss,train_pred = sess.run([loss,train],feed_dict=train_data)\n",
    "\n",
    "            if step % 50 == 0:\n",
    "                # capture step and loss for analysis\n",
    "                t.append((step,train_loss))\n",
    "\n",
    "                print(\"step:%d, loss:%f, accuracy:%f, \"%(step,train_loss,accuracy.eval(train_data)))\n",
    "\n",
    "        print(\"train accuracy:%f\"%(accuracy.eval(train_data)))\n",
    "        print(\"test accuracy:%f\"%(accuracy.eval(test_data)))\n",
    "\n",
    "        # capture prediction on test data\n",
    "        test_result = sess.run(pred,feed_dict={x:test_x})\n",
    "        df_final = pd.DataFrame({\n",
    "            'test_x':test_x[:,0],\n",
    "            'pred':test_result[:,0]\n",
    "        })\n",
    "\n",
    "        # capture training and validation loss\n",
    "        df_loss = pd.DataFrame(t,columns=['step','train_loss'])\n",
    "\n",
    "\n",
    "    fig, axes = plt.subplots(nrows=1,ncols=1,figsize=(15,5))\n",
    "\n",
    "    # chart 1: show the line we try to model\n",
    "    df.plot.scatter(x='x',y='y',ax=axes,color='red')\n",
    "\n",
    "    # chart 2: show the line model came up\n",
    "    df_final.plot.scatter(x='test_x',y='pred',ax=axes,alpha=0.5)\n",
    "\n",
    "    axes.set_title('target vs pred',fontsize=20)\n",
    "    axes.set_xlabel('x',fontsize=15)\n",
    "    axes.set_ylabel('y',fontsize=15)\n",
    "    axes.legend(['target','pred'],loc='best')\n",
    "\n",
    "    df_loss.set_index('step').plot(logy=True,figsize=(15,5))"
   ]
  }
 ],
 "metadata": {
  "kernelspec": {
   "display_name": "Python [conda env:tf]",
   "language": "python",
   "name": "conda-env-tf-py"
  },
  "language_info": {
   "codemirror_mode": {
    "name": "ipython",
    "version": 3
   },
   "file_extension": ".py",
   "mimetype": "text/x-python",
   "name": "python",
   "nbconvert_exporter": "python",
   "pygments_lexer": "ipython3",
   "version": "3.6.3"
  },
  "toc": {
   "colors": {
    "hover_highlight": "#DAA520",
    "running_highlight": "#FF0000",
    "selected_highlight": "#FFD700"
   },
   "moveMenuLeft": true,
   "nav_menu": {
    "height": "12px",
    "width": "252px"
   },
   "navigate_menu": true,
   "number_sections": true,
   "sideBar": true,
   "threshold": 4,
   "toc_cell": false,
   "toc_section_display": "block",
   "toc_window_display": false
  }
 },
 "nbformat": 4,
 "nbformat_minor": 2
}
