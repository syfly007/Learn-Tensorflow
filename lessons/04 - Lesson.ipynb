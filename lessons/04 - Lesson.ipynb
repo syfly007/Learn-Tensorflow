{
 "cells": [
  {
   "cell_type": "markdown",
   "metadata": {},
   "source": [
    "<!-- ---------------------------------------------------- -->\n",
    "  <div class=\"col-sm-3 col-md-3 col-lg-3\">\n",
    "\t<!-- logo -->  \n",
    "    <div class=\"img-responsive\">\n",
    "      <img src=\"https://dl.dropboxusercontent.com/u/37919918/hedaro/pandas-ipython-tutorials-hedaro.jpg\" title=\"Tensorflow Tutorial | Hedaro\" alt=\"Tensorflow Tutorial | Hedaro\">    \n",
    "    </div>\n",
    "\t<!-- logo -->\t\n",
    "  </div>\n",
    "<!-- ---------------------------------------------------- --> \n",
    "  <div class=\"col-sm-6 col-md-6 col-lg-6\">\n",
    "\t<!-- Tensorflow Tutorial -->  \n",
    "\t  <center>\n",
    "\t    <br>\n",
    "        <h1>Tensorflow</h1>\n",
    "        <p><center>04 - Lesson</center></p>\n",
    "\t  </center>\t\n",
    "    <!-- Tensorflow Tutorial -->\t\n",
    "  </div>\n",
    "<!-- ---------------------------------------------------- -->"
   ]
  },
  {
   "cell_type": "markdown",
   "metadata": {},
   "source": [
    "> Your very first Neural Network model using Tensorflow! You are going to learn how to model a simple line ***y = m * x + b** and use it to predict the values of ***y*** given ***x*** values."
   ]
  },
  {
   "cell_type": "code",
   "execution_count": 1,
   "metadata": {
    "collapsed": true
   },
   "outputs": [],
   "source": [
    "# import libraries\n",
    "import tensorflow as tf\n",
    "import pandas as pd\n",
    "import numpy as np\n",
    "import matplotlib.pyplot as plt\n",
    "plt.style.use('ggplot') # use this plot style\n",
    "import sys\n",
    "%matplotlib inline"
   ]
  },
  {
   "cell_type": "code",
   "execution_count": 2,
   "metadata": {},
   "outputs": [
    {
     "name": "stdout",
     "output_type": "stream",
     "text": [
      "Python version 3.5.1 |Anaconda custom (64-bit)| (default, Feb 16 2016, 09:49:46) [MSC v.1900 64 bit (AMD64)]\n",
      "Tensorflow version 0.12.0-rc0\n",
      "Pandas version 0.19.0\n",
      "Numpy version 1.11.0\n"
     ]
    }
   ],
   "source": [
    "print('Python version ' + sys.version)\n",
    "print('Tensorflow version ' + tf.VERSION)\n",
    "print('Pandas version ' + pd.__version__)\n",
    "print('Numpy version ' + np.__version__)"
   ]
  },
  {
   "cell_type": "markdown",
   "metadata": {},
   "source": [
    "# Create Training Data  \n",
    "\n",
    "    y = m * x + b  \n",
    "\n",
    "* We are going to call our ***x*** variable, ***train_x***  \n",
    "* We are going to call our ***y*** variable, ***train_y***\n"
   ]
  },
  {
   "cell_type": "code",
   "execution_count": 3,
   "metadata": {
    "collapsed": true
   },
   "outputs": [],
   "source": [
    "# let's generate 100 random samples\n",
    "train_x = np.random.rand(100).astype(np.float32)"
   ]
  },
  {
   "cell_type": "code",
   "execution_count": 4,
   "metadata": {
    "collapsed": true
   },
   "outputs": [],
   "source": [
    "# let's compute train_y using 0.1 for m and 0.3 for b\n",
    "train_y = 0.1 * train_x + 0.3"
   ]
  },
  {
   "cell_type": "markdown",
   "metadata": {},
   "source": [
    "Let us pause for a second....  \n",
    "\n",
    "What have you done thus far? You have simply created your ***training data*** that you are going to use to train your model. You will shortly be feeding in ***train_x*** to your model and ask it to predict what ***train_y*** should be. Your model needs to figure out what the values for ***m*** and ***b*** need to be in order be correct in its prediction. You already know the answer (m=0.1, b=0.3) but your job is to train your model to come up with the correct answer."
   ]
  },
  {
   "cell_type": "markdown",
   "metadata": {},
   "source": [
    "> Plot the Data so you know what you are working with"
   ]
  },
  {
   "cell_type": "code",
   "execution_count": 5,
   "metadata": {},
   "outputs": [
    {
     "data": {
      "text/html": [
       "<div>\n",
       "<table border=\"1\" class=\"dataframe\">\n",
       "  <thead>\n",
       "    <tr style=\"text-align: right;\">\n",
       "      <th></th>\n",
       "      <th>x</th>\n",
       "      <th>y</th>\n",
       "    </tr>\n",
       "  </thead>\n",
       "  <tbody>\n",
       "    <tr>\n",
       "      <th>0</th>\n",
       "      <td>0.528838</td>\n",
       "      <td>0.352884</td>\n",
       "    </tr>\n",
       "    <tr>\n",
       "      <th>1</th>\n",
       "      <td>0.838198</td>\n",
       "      <td>0.383820</td>\n",
       "    </tr>\n",
       "    <tr>\n",
       "      <th>2</th>\n",
       "      <td>0.980512</td>\n",
       "      <td>0.398051</td>\n",
       "    </tr>\n",
       "    <tr>\n",
       "      <th>3</th>\n",
       "      <td>0.166963</td>\n",
       "      <td>0.316696</td>\n",
       "    </tr>\n",
       "    <tr>\n",
       "      <th>4</th>\n",
       "      <td>0.323328</td>\n",
       "      <td>0.332333</td>\n",
       "    </tr>\n",
       "  </tbody>\n",
       "</table>\n",
       "</div>"
      ],
      "text/plain": [
       "          x         y\n",
       "0  0.528838  0.352884\n",
       "1  0.838198  0.383820\n",
       "2  0.980512  0.398051\n",
       "3  0.166963  0.316696\n",
       "4  0.323328  0.332333"
      ]
     },
     "execution_count": 5,
     "metadata": {},
     "output_type": "execute_result"
    }
   ],
   "source": [
    "df = pd.DataFrame({'x':train_x,\n",
    "                   'y':train_y})\n",
    "df.head()"
   ]
  },
  {
   "cell_type": "code",
   "execution_count": 6,
   "metadata": {},
   "outputs": [
    {
     "data": {
      "text/html": [
       "<div>\n",
       "<table border=\"1\" class=\"dataframe\">\n",
       "  <thead>\n",
       "    <tr style=\"text-align: right;\">\n",
       "      <th></th>\n",
       "      <th>x</th>\n",
       "      <th>y</th>\n",
       "    </tr>\n",
       "  </thead>\n",
       "  <tbody>\n",
       "    <tr>\n",
       "      <th>count</th>\n",
       "      <td>100.000000</td>\n",
       "      <td>100.000000</td>\n",
       "    </tr>\n",
       "    <tr>\n",
       "      <th>mean</th>\n",
       "      <td>0.463669</td>\n",
       "      <td>0.346367</td>\n",
       "    </tr>\n",
       "    <tr>\n",
       "      <th>std</th>\n",
       "      <td>0.303015</td>\n",
       "      <td>0.030301</td>\n",
       "    </tr>\n",
       "    <tr>\n",
       "      <th>min</th>\n",
       "      <td>0.003953</td>\n",
       "      <td>0.300395</td>\n",
       "    </tr>\n",
       "    <tr>\n",
       "      <th>25%</th>\n",
       "      <td>0.175461</td>\n",
       "      <td>0.317546</td>\n",
       "    </tr>\n",
       "    <tr>\n",
       "      <th>50%</th>\n",
       "      <td>0.395604</td>\n",
       "      <td>0.339560</td>\n",
       "    </tr>\n",
       "    <tr>\n",
       "      <th>75%</th>\n",
       "      <td>0.754374</td>\n",
       "      <td>0.375437</td>\n",
       "    </tr>\n",
       "    <tr>\n",
       "      <th>max</th>\n",
       "      <td>0.996693</td>\n",
       "      <td>0.399669</td>\n",
       "    </tr>\n",
       "  </tbody>\n",
       "</table>\n",
       "</div>"
      ],
      "text/plain": [
       "                x           y\n",
       "count  100.000000  100.000000\n",
       "mean     0.463669    0.346367\n",
       "std      0.303015    0.030301\n",
       "min      0.003953    0.300395\n",
       "25%      0.175461    0.317546\n",
       "50%      0.395604    0.339560\n",
       "75%      0.754374    0.375437\n",
       "max      0.996693    0.399669"
      ]
     },
     "execution_count": 6,
     "metadata": {},
     "output_type": "execute_result"
    }
   ],
   "source": [
    "df.describe()"
   ]
  },
  {
   "cell_type": "markdown",
   "metadata": {},
   "source": [
    "This is not a very exciting chart, but you can clearly see this is just a straight line. We could have added some noise to the data but I am trying to make this lesson as simple as possible."
   ]
  },
  {
   "cell_type": "code",
   "execution_count": 7,
   "metadata": {},
   "outputs": [
    {
     "data": {
      "image/png": "[encoded data removed]",
      "text/plain": [
       "<matplotlib.figure.Figure at 0xa860c18>"
      ]
     },
     "metadata": {},
     "output_type": "display_data"
    }
   ],
   "source": [
    "df.plot.scatter(x='x', y='y', figsize=(15,5));"
   ]
  },
  {
   "cell_type": "markdown",
   "metadata": {},
   "source": [
    "# Create Test Data  \n",
    "\n",
    "This is the data that you are going to use to verify that your model actually works. The test data should be data that your model has not seen before. In other words your training data should be different than your test data."
   ]
  },
  {
   "cell_type": "code",
   "execution_count": 8,
   "metadata": {
    "collapsed": true
   },
   "outputs": [],
   "source": [
    "# this is the data we are going to use to make sure our model is generating good predictions\n",
    "test_x = np.random.rand(100).astype(np.float32)"
   ]
  },
  {
   "cell_type": "markdown",
   "metadata": {},
   "source": [
    "# Model your Graph\n",
    "\n",
    "> IMPORTANT functions/parameters to play with  \n",
    "\n",
    "* ***loss*** - There are various functions you can choose to measure the ***error*** between ***train_y*** (your training data) and ***pred*** (your models predicted value)  \n",
    "* ***GradientDescentOptimizer(LEARNING_RATE)*** - Modify this number to see how your results change"
   ]
  },
  {
   "cell_type": "markdown",
   "metadata": {},
   "source": [
    "### Variables  \n",
    "\n",
    "In the previous lessons, you have just defined constants and placeholders. In this lesson you are introducing Variables to the mix.  \n",
    "\n",
    "When your model runs it will initialize your variables ***W*** and ***b***. On every training iteration it will adjust the values for variables ***W*** and ***b***. For this to occur, you need to define ***W*** and ***b*** as variables.  \n",
    "\n",
    "* ***Constants*** - Values created before you run our model that do not change.\n",
    "* ***Placeholders*** - Values that are fed into your model at run time.\n",
    "* ***Variables*** - Values that are modified at run time by your model.  \n",
    "* ***W*** - Weights for your output layer.  \n",
    "* ***b*** - Biases for your output layer.  "
   ]
  },
  {
   "cell_type": "code",
   "execution_count": 9,
   "metadata": {
    "collapsed": true
   },
   "outputs": [],
   "source": [
    "# placeholders\n",
    "x = tf.placeholder(tf.float32, name=\"01_x\")\n",
    "y = tf.placeholder(tf.float32, name=\"01_y\")\n",
    "\n",
    "# variables\n",
    "# Note that np.random.rand() is used to initialize your variables\n",
    "W = tf.Variable(np.random.rand())\n",
    "b = tf.Variable(np.random.rand())\n",
    "pred = tf.mul(W, x) + b\n",
    "\n",
    "# minimize the mean squared errors\n",
    "# as mentioned above there are other ways to measure the error between train_y and pred\n",
    "loss = tf.reduce_mean(tf.square(pred - y))\n",
    "\n",
    "# we pick our optimizer and a learning rate\n",
    "optimizer = tf.train.GradientDescentOptimizer(0.7)\n",
    "\n",
    "# we train our model by minimizing our loss function\n",
    "train = optimizer.minimize(loss)"
   ]
  },
  {
   "cell_type": "markdown",
   "metadata": {},
   "source": [
    "# Time to Train!\n",
    "\n",
    "> When working with Variables you must initialize them with some default values, ***tf.global_variables_initializer()*** does that for you.\n",
    "\n",
    "You are going to train your model 200 times and see if we can create a model that can accurately predict. Play around with the number of training rounds, the Learning Rate, and see how this changes your results."
   ]
  },
  {
   "cell_type": "code",
   "execution_count": 10,
   "metadata": {},
   "outputs": [
    {
     "name": "stdout",
     "output_type": "stream",
     "text": [
      "181 0.1 0.3\n",
      "182 0.1 0.3\n",
      "183 0.1 0.3\n",
      "184 0.1 0.3\n",
      "185 0.1 0.3\n",
      "186 0.1 0.3\n",
      "187 0.1 0.3\n",
      "188 0.1 0.3\n",
      "189 0.1 0.3\n",
      "190 0.1 0.3\n",
      "191 0.1 0.3\n",
      "192 0.1 0.3\n",
      "193 0.1 0.3\n",
      "194 0.1 0.3\n",
      "195 0.1 0.3\n",
      "196 0.1 0.3\n",
      "197 0.1 0.3\n",
      "198 0.1 0.3\n",
      "199 0.1 0.3\n",
      "Training completed: W= 0.1 b= 0.3\n"
     ]
    }
   ],
   "source": [
    "# initialize the variables\n",
    "init = tf.global_variables_initializer()\n",
    "\n",
    "# run your graph\n",
    "with tf.Session() as sess:\n",
    "    sess.run(init)\n",
    "\n",
    "    # fit the function.\n",
    "    for step in range(200):\n",
    "        # get your data\n",
    "        train_data = {x:train_x, y:train_y}\n",
    "        \n",
    "        # training in progress...\n",
    "        sess.run(train, feed_dict=train_data)        \n",
    "        \n",
    "        # print the last 20 results\n",
    "        if step > 180:\n",
    "            print(step, sess.run(W), sess.run(b))\n",
    "            \n",
    "    # note that W and b mach the line we are tying to model (y = 0.1x + 0.3)\n",
    "    print(\"Training completed:\", \"W=\", sess.run(W), \"b=\", sess.run(b))\n",
    "    \n",
    "    # run your trained model on the test data set\n",
    "    test_results = sess.run(pred, feed_dict={x: test_x})\n",
    "    \n",
    "    # capture the predicted results so you can plot them\n",
    "    df_final = pd.DataFrame({'test_x':test_x,\n",
    "                             'pred':test_results})"
   ]
  },
  {
   "cell_type": "markdown",
   "metadata": {},
   "source": [
    "# Plot the Training Data vs the Test Data  \n",
    "\n",
    "As you can see, your NN model is doing very well. You were able to get a line that matches perfectly using data that was not part of the training data set.  "
   ]
  },
  {
   "cell_type": "code",
   "execution_count": 11,
   "metadata": {},
   "outputs": [
    {
     "data": {
      "image/png": "[encoded data removed]",
      "text/plain": [
       "<matplotlib.figure.Figure at 0xae42dd8>"
      ]
     },
     "metadata": {},
     "output_type": "display_data"
    }
   ],
   "source": [
    "fig, axes = plt.subplots(nrows=1, ncols=1, figsize=(15, 5))\n",
    "\n",
    "# Chart 1 - Shows the line we are trying to model\n",
    "df.plot.scatter(x='x', y='y', ax=axes, color='red')\n",
    "\n",
    "# Chart 2 - Shows the line our trained model came up with\n",
    "df_final.plot.scatter(x='test_x', y='pred', ax=axes, alpha=0.3)\n",
    "\n",
    "# add a little sugar\n",
    "axes.set_title('target vs pred', fontsize=20)\n",
    "axes.set_ylabel('y', fontsize=15)\n",
    "axes.set_xlabel('x', fontsize=15);"
   ]
  },
  {
   "cell_type": "markdown",
   "metadata": {},
   "source": [
    "There was a lot of information I ommitted in this lesson but the main point was to get you used to the mechanics of getting a simple NN model working. Don't get stuck in this lesson, your questions will be answered in the next lessons."
   ]
  },
  {
   "cell_type": "markdown",
   "metadata": {},
   "source": [
    "<p class=\"text-muted\">This tutorial was created by <a href=\"http://www.hedaro.com\" target=\"_blank\"><strong>HEDARO</strong></a></p>"
   ]
  }
 ],
 "metadata": {
  "anaconda-cloud": {},
  "kernelspec": {
   "display_name": "Python [default]",
   "language": "python",
   "name": "python3"
  },
  "language_info": {
   "codemirror_mode": {
    "name": "ipython",
    "version": 3
   },
   "file_extension": ".py",
   "mimetype": "text/x-python",
   "name": "python",
   "nbconvert_exporter": "python",
   "pygments_lexer": "ipython3",
   "version": "3.6.3"
  },
  "toc": {
   "colors": {
    "hover_highlight": "#DAA520",
    "running_highlight": "#FF0000",
    "selected_highlight": "#FFD700"
   },
   "moveMenuLeft": true,
   "nav_menu": {
    "height": "152px",
    "width": "252px"
   },
   "navigate_menu": true,
   "number_sections": true,
   "sideBar": true,
   "threshold": 4,
   "toc_cell": false,
   "toc_section_display": "block",
   "toc_window_display": false
  }
 },
 "nbformat": 4,
 "nbformat_minor": 1
}
