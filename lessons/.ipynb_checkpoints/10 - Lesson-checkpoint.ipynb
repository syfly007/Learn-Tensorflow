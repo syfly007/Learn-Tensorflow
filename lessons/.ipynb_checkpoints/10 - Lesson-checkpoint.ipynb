{
 "cells": [
  {
   "cell_type": "markdown",
   "metadata": {},
   "source": [
    "<!-- ---------------------------------------------------- -->\n",
    "  <div class=\"col-sm-3 col-md-3 col-lg-3\">\n",
    "\t<!-- logo -->  \n",
    "    <div class=\"img-responsive\">\n",
    "      <img src=\"https://dl.dropboxusercontent.com/u/37919918/hedaro/pandas-ipython-tutorials-hedaro.jpg\" title=\"Tensorflow Tutorial | Hedaro\" alt=\"Tensorflow Tutorial | Hedaro\">    \n",
    "    </div>\n",
    "\t<!-- logo -->\t\n",
    "  </div>\n",
    "<!-- ---------------------------------------------------- --> \n",
    "  <div class=\"col-sm-6 col-md-6 col-lg-6\">\n",
    "\t<!-- Tensorflow Tutorial -->  \n",
    "\t  <center>\n",
    "\t    <br>\n",
    "        <h1>Tensorflow</h1>\n",
    "        <p><center>10 - Lesson</center></p>\n",
    "\t  </center>\t\n",
    "    <!-- Tensorflow Tutorial -->\t\n",
    "  </div>\n",
    "<!-- ---------------------------------------------------- -->"
   ]
  },
  {
   "cell_type": "markdown",
   "metadata": {},
   "source": [
    "# Overfitting - Part 2"
   ]
  },
  {
   "cell_type": "markdown",
   "metadata": {},
   "source": [
    "In this lesson you are going to learn about ***Drop Out*** and how it helps the problem of overfitting. "
   ]
  },
  {
   "cell_type": "markdown",
   "metadata": {},
   "source": [
    "> What is Drop Out? \n",
    "\n",
    "This is a technique that will help your model generalize and prevent overfitting. So how does it work? Well, all you are going to do is while training, you are going to literally ***shoot down*** a percentage of your Neurons. On every iteration you are going to shoot down ***at random*** a percentage of your neurons. This will prevent your model from getting too cozy with your data and ultimately help you overcome any overfitting issues.  \n",
    "\n",
    "Keep reading and you will see how easy it is to implement this technique."
   ]
  },
  {
   "cell_type": "markdown",
   "metadata": {},
   "source": [
    "# Let's Get to Work!"
   ]
  },
  {
   "cell_type": "code",
   "execution_count": 1,
   "metadata": {
    "collapsed": true
   },
   "outputs": [],
   "source": [
    "# import libraries\n",
    "import tensorflow as tf\n",
    "import pandas as pd\n",
    "import numpy as np\n",
    "import sys\n",
    "import datetime\n",
    "import matplotlib.pyplot as plt\n",
    "plt.style.use('ggplot') # use this plot style\n",
    "%matplotlib inline"
   ]
  },
  {
   "cell_type": "code",
   "execution_count": 2,
   "metadata": {},
   "outputs": [
    {
     "name": "stdout",
     "output_type": "stream",
     "text": [
      "Python version 3.5.1 |Anaconda custom (64-bit)| (default, Feb 16 2016, 09:49:46) [MSC v.1900 64 bit (AMD64)]\n",
      "Tensorflow version 0.12.0-rc0\n",
      "Pandas version 0.19.0\n",
      "Numpy version 1.11.0\n"
     ]
    }
   ],
   "source": [
    "print('Python version ' + sys.version)\n",
    "print('Tensorflow version ' + tf.VERSION)\n",
    "print('Pandas version ' + pd.__version__)\n",
    "print('Numpy version ' + np.__version__)"
   ]
  },
  {
   "cell_type": "markdown",
   "metadata": {},
   "source": [
    "# Function to model\n",
    "\n",
    "    y = a * x^4 + b  \n",
    "\n",
    "\n",
    "> TIP: Recommended percentages  \n",
    "\n",
    "* Training - ***70%***\n",
    "* Validation - ***15%***\n",
    "* Test - ***15%***"
   ]
  },
  {
   "cell_type": "code",
   "execution_count": 3,
   "metadata": {},
   "outputs": [
    {
     "name": "stdout",
     "output_type": "stream",
     "text": [
      "Testing data points: (150, 1)\n",
      "Validation data points: (150, 1)\n",
      "Training data points: (700, 1)\n"
     ]
    }
   ],
   "source": [
    "# Let's generate 1000 random samples\n",
    "pool = np.random.rand(1000,1).astype(np.float32)\n",
    "\n",
    "# Shuffle the samples\n",
    "np.random.shuffle(pool)\n",
    "\n",
    "# sample size of 15%\n",
    "sample = int(1000 * 0.15)\n",
    "\n",
    "# 15% test\n",
    "test_x = pool[0:sample]\n",
    "\n",
    "# 15% validation\n",
    "valid_x = pool[sample:sample*2]\n",
    "\n",
    "# 70% training\n",
    "train_x = pool[sample*2:]\n",
    "\n",
    "print('Testing data points: ' + str(test_x.shape))\n",
    "print('Validation data points: ' + str(valid_x.shape))\n",
    "print('Training data points: ' + str(train_x.shape))\n",
    "\n",
    "# Let's compute the ouput using 2 for a, 5 for b\n",
    "test_y = 2.0 * test_x**4 + 5\n",
    "valid_y = 2.0 * valid_x**4 + 5\n",
    "train_y = 2.0 * train_x**4 + 5"
   ]
  },
  {
   "cell_type": "code",
   "execution_count": 4,
   "metadata": {},
   "outputs": [
    {
     "data": {
      "text/html": [
       "<div>\n",
       "<table border=\"1\" class=\"dataframe\">\n",
       "  <thead>\n",
       "    <tr style=\"text-align: right;\">\n",
       "      <th></th>\n",
       "      <th>x</th>\n",
       "      <th>y</th>\n",
       "    </tr>\n",
       "  </thead>\n",
       "  <tbody>\n",
       "    <tr>\n",
       "      <th>0</th>\n",
       "      <td>0.277916</td>\n",
       "      <td>5.011931</td>\n",
       "    </tr>\n",
       "    <tr>\n",
       "      <th>1</th>\n",
       "      <td>0.850299</td>\n",
       "      <td>6.045484</td>\n",
       "    </tr>\n",
       "    <tr>\n",
       "      <th>2</th>\n",
       "      <td>0.744988</td>\n",
       "      <td>5.616065</td>\n",
       "    </tr>\n",
       "    <tr>\n",
       "      <th>3</th>\n",
       "      <td>0.750673</td>\n",
       "      <td>5.635088</td>\n",
       "    </tr>\n",
       "    <tr>\n",
       "      <th>4</th>\n",
       "      <td>0.639758</td>\n",
       "      <td>5.335038</td>\n",
       "    </tr>\n",
       "  </tbody>\n",
       "</table>\n",
       "</div>"
      ],
      "text/plain": [
       "          x         y\n",
       "0  0.277916  5.011931\n",
       "1  0.850299  6.045484\n",
       "2  0.744988  5.616065\n",
       "3  0.750673  5.635088\n",
       "4  0.639758  5.335038"
      ]
     },
     "execution_count": 4,
     "metadata": {},
     "output_type": "execute_result"
    }
   ],
   "source": [
    "df = pd.DataFrame({'x':train_x[:,0],\n",
    "                   'y':train_y[:,0]})\n",
    "df.head()"
   ]
  },
  {
   "cell_type": "code",
   "execution_count": 5,
   "metadata": {},
   "outputs": [
    {
     "data": {
      "text/html": [
       "<div>\n",
       "<table border=\"1\" class=\"dataframe\">\n",
       "  <thead>\n",
       "    <tr style=\"text-align: right;\">\n",
       "      <th></th>\n",
       "      <th>x</th>\n",
       "      <th>y</th>\n",
       "    </tr>\n",
       "  </thead>\n",
       "  <tbody>\n",
       "    <tr>\n",
       "      <th>count</th>\n",
       "      <td>700.000000</td>\n",
       "      <td>700.000000</td>\n",
       "    </tr>\n",
       "    <tr>\n",
       "      <th>mean</th>\n",
       "      <td>0.514211</td>\n",
       "      <td>5.412032</td>\n",
       "    </tr>\n",
       "    <tr>\n",
       "      <th>std</th>\n",
       "      <td>0.282943</td>\n",
       "      <td>0.530214</td>\n",
       "    </tr>\n",
       "    <tr>\n",
       "      <th>min</th>\n",
       "      <td>0.000243</td>\n",
       "      <td>5.000000</td>\n",
       "    </tr>\n",
       "    <tr>\n",
       "      <th>25%</th>\n",
       "      <td>0.268031</td>\n",
       "      <td>5.010322</td>\n",
       "    </tr>\n",
       "    <tr>\n",
       "      <th>50%</th>\n",
       "      <td>0.525482</td>\n",
       "      <td>5.152497</td>\n",
       "    </tr>\n",
       "    <tr>\n",
       "      <th>75%</th>\n",
       "      <td>0.759363</td>\n",
       "      <td>5.665013</td>\n",
       "    </tr>\n",
       "    <tr>\n",
       "      <th>max</th>\n",
       "      <td>0.999421</td>\n",
       "      <td>6.995372</td>\n",
       "    </tr>\n",
       "  </tbody>\n",
       "</table>\n",
       "</div>"
      ],
      "text/plain": [
       "                x           y\n",
       "count  700.000000  700.000000\n",
       "mean     0.514211    5.412032\n",
       "std      0.282943    0.530214\n",
       "min      0.000243    5.000000\n",
       "25%      0.268031    5.010322\n",
       "50%      0.525482    5.152497\n",
       "75%      0.759363    5.665013\n",
       "max      0.999421    6.995372"
      ]
     },
     "execution_count": 5,
     "metadata": {},
     "output_type": "execute_result"
    }
   ],
   "source": [
    "df.describe()"
   ]
  },
  {
   "cell_type": "code",
   "execution_count": 6,
   "metadata": {},
   "outputs": [
    {
     "data": {
      "image/png": "[encoded data removed]",
      "text/plain": [
       "<matplotlib.figure.Figure at 0xa83fcc0>"
      ]
     },
     "metadata": {},
     "output_type": "display_data"
    }
   ],
   "source": [
    "df.plot.scatter(x='x', y='y', figsize=(15,5));"
   ]
  },
  {
   "cell_type": "markdown",
   "metadata": {},
   "source": [
    "# Helper Functions  \n",
    "\n",
    "Make a function that will help you create layers easily"
   ]
  },
  {
   "cell_type": "code",
   "execution_count": 7,
   "metadata": {
    "collapsed": true
   },
   "outputs": [],
   "source": [
    "def add_layer(inputs, in_size, out_size, activation_function=None):\n",
    "    \n",
    "    # tf.random_normal([what is the size of your batches, size of output layer])\n",
    "    Weights = tf.Variable(tf.truncated_normal([in_size, out_size], mean=0.1, stddev=0.1))\n",
    "    \n",
    "    # tf.random_normal([size of output layer])\n",
    "    biases = tf.Variable(tf.truncated_normal([out_size], mean=0.1, stddev=0.1))\n",
    "    \n",
    "    # shape of pred = [size of your batches, size of output layer]\n",
    "    pred = tf.matmul(inputs, Weights) + biases\n",
    "\n",
    "    if activation_function is None:\n",
    "        outputs = pred\n",
    "    else:\n",
    "        outputs = activation_function(pred)\n",
    "    return outputs"
   ]
  },
  {
   "cell_type": "markdown",
   "metadata": {},
   "source": [
    "# Model your Graph\n",
    "\n",
    "Start to use W (for weight) and b (for bias) when setting up your variables. Aside from adding your ReLU activation function, it is a good idea to use Tensorflow's ***matrix multiplication function (matmul)*** as shown below.  \n",
    "\n",
    "> The ? in the shape output just means it can be of any shape."
   ]
  },
  {
   "cell_type": "markdown",
   "metadata": {},
   "source": [
    "For the shape parameter, you can think of it like this...  \n",
    "\n",
    "> shape = [how many data points do you have, how many features does each data point have]  \n",
    "\n",
    "For this lesson since we are doing a simple regression, we only have one feature (x). We use the ***None*** keyword so that we are not restricted on the number of samples to feed our model. This will become more important when you learn about training using batches on a future lesson."
   ]
  },
  {
   "cell_type": "code",
   "execution_count": 8,
   "metadata": {},
   "outputs": [
    {
     "name": "stdout",
     "output_type": "stream",
     "text": [
      "shape of x and y:\n",
      "(?, 1) (?, 1)\n"
     ]
    }
   ],
   "source": [
    "# you can adjust the number of neurons in the hidden layers here\n",
    "hidden_size = 10\n",
    "\n",
    "# placeholders\n",
    "# shape=[how many samples do you have, how many input neurons]\n",
    "x = tf.placeholder(tf.float32, shape=[None, 1], name=\"01_x\")\n",
    "y = tf.placeholder(tf.float32, shape=[None, 1], name=\"01_y\")\n",
    "\n",
    "print(\"shape of x and y:\")\n",
    "print(x.get_shape(),y.get_shape())"
   ]
  },
  {
   "cell_type": "markdown",
   "metadata": {},
   "source": [
    "# Add Your Drop Out Placeholder  \n",
    "\n",
    "We will be feeding in the percentage of neurons to keep on every epoch"
   ]
  },
  {
   "cell_type": "code",
   "execution_count": 9,
   "metadata": {
    "collapsed": true
   },
   "outputs": [],
   "source": [
    "# drop out\n",
    "keep_prob = tf.placeholder(tf.float32)"
   ]
  },
  {
   "cell_type": "markdown",
   "metadata": {},
   "source": [
    "Note that the input of one layer becomes the input of the next layer."
   ]
  },
  {
   "cell_type": "code",
   "execution_count": 10,
   "metadata": {},
   "outputs": [
    {
     "name": "stdout",
     "output_type": "stream",
     "text": [
      "shape of hidden layers:\n",
      "(?, 10) (?, 10) (?, 10) (?, 10)\n"
     ]
    }
   ],
   "source": [
    "# create your hidden layers!\n",
    "h1 = add_layer(x, 1, hidden_size, tf.nn.relu)\n",
    "\n",
    "# here is where we shoot down some of the neurons\n",
    "h1_drop = tf.nn.dropout(h1, keep_prob)\n",
    "\n",
    "# add a second layer\n",
    "h2 = add_layer(h1_drop, hidden_size, hidden_size, tf.nn.relu)\n",
    "h2_drop = tf.nn.dropout(h2, keep_prob)\n",
    "\n",
    "# add a third layer\n",
    "h3 = add_layer(h2_drop, hidden_size, hidden_size, tf.nn.relu)\n",
    "h3_drop = tf.nn.dropout(h3, keep_prob)\n",
    "\n",
    "# add a fourth layer\n",
    "h4 = add_layer(h3_drop, hidden_size, hidden_size, tf.nn.relu)\n",
    "h4_drop = tf.nn.dropout(h4, keep_prob)\n",
    "\n",
    "print(\"shape of hidden layers:\")\n",
    "print(h1_drop.get_shape(), h2_drop.get_shape(), h3_drop.get_shape(), h4_drop.get_shape())"
   ]
  },
  {
   "cell_type": "code",
   "execution_count": 11,
   "metadata": {},
   "outputs": [
    {
     "name": "stdout",
     "output_type": "stream",
     "text": [
      "shape of output layer:\n",
      "(?, 1)\n"
     ]
    }
   ],
   "source": [
    "# Output Layers\n",
    "pred = add_layer(h4_drop, hidden_size, 1)\n",
    "\n",
    "print(\"shape of output layer:\")\n",
    "print(pred.get_shape())"
   ]
  },
  {
   "cell_type": "code",
   "execution_count": 12,
   "metadata": {
    "collapsed": true
   },
   "outputs": [],
   "source": [
    "# minimize the mean squared errors.\n",
    "loss = tf.reduce_mean(tf.square(pred - y))\n",
    "\n",
    "# pick optimizer\n",
    "optimizer = tf.train.GradientDescentOptimizer(0.01)\n",
    "train = optimizer.minimize(loss)"
   ]
  },
  {
   "cell_type": "markdown",
   "metadata": {},
   "source": [
    "# How Good is Your model?  \n",
    "\n",
    "Set up the following variables to calculate the accuracy rate of your model. You will do that shortly."
   ]
  },
  {
   "cell_type": "code",
   "execution_count": 13,
   "metadata": {
    "collapsed": true
   },
   "outputs": [],
   "source": [
    "# check accuracy of model\n",
    "correct_prediction = tf.equal(tf.round(pred), tf.round(y))\n",
    "accuracy = tf.reduce_mean(tf.cast(correct_prediction, tf.float32))"
   ]
  },
  {
   "cell_type": "markdown",
   "metadata": {},
   "source": [
    "# Set Up Your Early Stoppage Variables  \n",
    "\n",
    "Code borrowed from this great [Tensorflow Jupyter Notebook](https://github.com/Hvass-Labs/TensorFlow-Tutorials/blob/master/04_Save_Restore.ipynb)."
   ]
  },
  {
   "cell_type": "code",
   "execution_count": 14,
   "metadata": {
    "collapsed": true
   },
   "outputs": [],
   "source": [
    "# Best validation accuracy seen so far.\n",
    "best_valid_acc = 0.0\n",
    "\n",
    "# Iteration-number for last improvement to validation accuracy.\n",
    "last_improvement = 0\n",
    "\n",
    "# Stop optimization if no improvement found in this many iterations.\n",
    "require_improvement = 1500"
   ]
  },
  {
   "cell_type": "markdown",
   "metadata": {},
   "source": [
    "# Training Time!  \n",
    "\n",
    "Notice how we pass in our Drop Out percentage below.\n",
    "\n",
    "* ***keep_prob of 1.0*** means we are not going to shoot down any of our neurons. This is handy since we would not want to do this to our Validation or Test sets."
   ]
  },
  {
   "cell_type": "code",
   "execution_count": 15,
   "metadata": {},
   "outputs": [
    {
     "name": "stdout",
     "output_type": "stream",
     "text": [
      "Training loss at step 0: 22.021866 \n",
      "Validation 16.066334\n",
      "Training loss at step 100: 0.226587 *\n",
      "Validation 0.069365\n",
      "Training loss at step 200: 0.230825 *\n",
      "Validation 0.069963\n",
      "Training loss at step 300: 0.214508 \n",
      "Validation 0.068721\n",
      "Training loss at step 400: 0.263160 \n",
      "Validation 0.067941\n",
      "Training loss at step 500: 0.216182 \n",
      "Validation 0.068156\n",
      "Training loss at step 600: 0.191902 \n",
      "Validation 0.068224\n",
      "Training loss at step 700: 0.199810 \n",
      "Validation 0.068060\n",
      "Training loss at step 800: 0.186926 \n",
      "Validation 0.068247\n",
      "Training loss at step 900: 0.174795 \n",
      "Validation 0.068134\n",
      "Training loss at step 1000: 0.174818 \n",
      "Validation 0.068273\n",
      "Training loss at step 1100: 0.165233 \n",
      "Validation 0.068123\n",
      "Training loss at step 1200: 0.160242 \n",
      "Validation 0.064995\n",
      "Training loss at step 1300: 0.139545 \n",
      "Validation 0.059115\n",
      "Training loss at step 1400: 0.161141 \n",
      "Validation 0.056825\n",
      "Training loss at step 1500: 0.140487 \n",
      "Validation 0.055171\n",
      "Training loss at step 1600: 0.126061 \n",
      "Validation 0.050796\n",
      "Training loss at step 1700: 0.122908 \n",
      "Validation 0.042352\n",
      "Training loss at step 1800: 0.098600 *\n",
      "Validation 0.035082\n",
      "Training loss at step 1900: 0.102557 *\n",
      "Validation 0.026878\n",
      "Training loss at step 2000: 0.088191 *\n",
      "Validation 0.020376\n",
      "Training loss at step 2100: 0.089116 *\n",
      "Validation 0.015061\n",
      "Training loss at step 2200: 0.070579 *\n",
      "Validation 0.011380\n",
      "Training loss at step 2300: 0.067470 *\n",
      "Validation 0.008556\n",
      "Training loss at step 2400: 0.066721 *\n",
      "Validation 0.006749\n",
      "Training loss at step 2500: 0.056150 *\n",
      "Validation 0.005794\n",
      "Training loss at step 2600: 0.071035 *\n",
      "Validation 0.004586\n",
      "Training loss at step 2700: 0.062030 *\n",
      "Validation 0.003829\n",
      "Training loss at step 2800: 0.055772 *\n",
      "Validation 0.003224\n",
      "Training loss at step 2900: 0.063225 \n",
      "Validation 0.002700\n",
      "Training loss at step 3000: 0.054979 \n",
      "Validation 0.002494\n",
      "Training loss at step 3100: 0.057061 \n",
      "Validation 0.002265\n",
      "Training loss at step 3200: 0.049995 *\n",
      "Validation 0.001760\n",
      "Training loss at step 3300: 0.049652 \n",
      "Validation 0.001851\n",
      "Training loss at step 3400: 0.042552 \n",
      "Validation 0.001784\n",
      "Training loss at step 3500: 0.051730 \n",
      "Validation 0.001640\n",
      "Training loss at step 3600: 0.045550 \n",
      "Validation 0.001239\n",
      "Training loss at step 3700: 0.053862 \n",
      "Validation 0.001314\n",
      "Training loss at step 3800: 0.042645 \n",
      "Validation 0.001305\n",
      "Training loss at step 3900: 0.047567 \n",
      "Validation 0.000907\n",
      "Training loss at step 4000: 0.040443 \n",
      "Validation 0.001296\n",
      "Training loss at step 4100: 0.042049 \n",
      "Validation 0.001107\n",
      "Training loss at step 4200: 0.046952 \n",
      "Validation 0.000997\n",
      "Training loss at step 4300: 0.040871 \n",
      "Validation 0.001238\n",
      "Training loss at step 4400: 0.039199 \n",
      "Validation 0.001149\n",
      "Training loss at step 4500: 0.043638 \n",
      "Validation 0.000661\n",
      "Training loss at step 4600: 0.031260 \n",
      "Validation 0.001100\n",
      "Training loss at step 4700: 0.044857 \n",
      "Validation 0.000827\n",
      "Training loss at step 4800: 0.044116 \n",
      "Validation 0.000598\n",
      "No improvement found in a while, stopping optimization.\n",
      "Accuracy on the Training Set: 0.894286\n",
      "Accuracy on the Validation Set: 1.0\n",
      "Accuracy on the Test Set: 0.993333\n"
     ]
    }
   ],
   "source": [
    "# initialize the variables\n",
    "init = tf.global_variables_initializer()\n",
    "\n",
    "# hold step and error values\n",
    "t = []\n",
    "\n",
    "# Run your graph\n",
    "with tf.Session() as sess:\n",
    "    \n",
    "    # initialize variables\n",
    "    sess.run(init)\n",
    "\n",
    "    # Fit the function.\n",
    "    for step in range(6000):\n",
    "\n",
    "        # get your data\n",
    "        train_data = {x:train_x, y:train_y, keep_prob: 0.975}\n",
    "        valid_data = {x:valid_x, y:valid_y, keep_prob: 1.0}\n",
    "        test_data = {x:test_x, y:test_y, keep_prob: 1.0}\n",
    "        \n",
    "        # training in progress...\n",
    "        train_loss, train_pred = sess.run([loss, train], feed_dict=train_data)        \n",
    "        \n",
    "        # print every n iterations\n",
    "        if step%100==0:\n",
    "           \n",
    "            # capture the step and error for analysis\n",
    "            valid_loss = sess.run(loss, feed_dict=valid_data) \n",
    "            t.append((step, train_loss, valid_loss))    \n",
    "            \n",
    "            # get snapshot of current training and validation accuracy       \n",
    "            train_acc = accuracy.eval(train_data)\n",
    "            valid_acc = accuracy.eval(valid_data)           \n",
    "\n",
    "            # If validation accuracy is an improvement over best-known.\n",
    "            if valid_acc > best_valid_acc:\n",
    "                # Update the best-known validation accuracy.\n",
    "                best_valid_acc = valid_acc\n",
    "                \n",
    "                # Set the iteration for the last improvement to current.\n",
    "                last_improvement = step\n",
    "\n",
    "                # Flag when ever an improvement is found\n",
    "                improved_str = '*'\n",
    "            else:\n",
    "                # An empty string to be printed below.\n",
    "                # Shows that no improvement was found.\n",
    "                improved_str = ''   \n",
    "                \n",
    "            print(\"Training loss at step %d: %f %s\" % (step, train_loss, improved_str))        \n",
    "            print(\"Validation %f\" % (valid_loss))            \n",
    "                \n",
    "            # If no improvement found in the required number of iterations.\n",
    "            if step - last_improvement > require_improvement:\n",
    "                print(\"No improvement found in a while, stopping optimization.\")\n",
    "\n",
    "                # Break out from the for-loop.\n",
    "                break                \n",
    "            \n",
    "            \n",
    "    # here is where you see how good of a Data Scientist you are        \n",
    "    print(\"Accuracy on the Training Set:\", accuracy.eval(train_data) )\n",
    "    print(\"Accuracy on the Validation Set:\", accuracy.eval(valid_data) ) \n",
    "    print(\"Accuracy on the Test Set:\", accuracy.eval(test_data) )\n",
    "    \n",
    "    # capture predictions on test data \n",
    "    test_results = sess.run(pred, feed_dict={x:test_x, keep_prob: 1.0})  \n",
    "    df_final = pd.DataFrame({'test_x':test_x[:,0],\n",
    "                             'pred':test_results[:,0]})\n",
    "    \n",
    "    # capture training and validation loss\n",
    "    df_loss = pd.DataFrame(t, columns=['step', 'train_loss', 'valid_loss'])"
   ]
  },
  {
   "cell_type": "code",
   "execution_count": 16,
   "metadata": {},
   "outputs": [
    {
     "data": {
      "image/png": "[encoded data removed]",
      "text/plain": [
       "<matplotlib.figure.Figure at 0xa881748>"
      ]
     },
     "metadata": {},
     "output_type": "display_data"
    }
   ],
   "source": [
    "fig, axes = plt.subplots(nrows=1, ncols=1, figsize=(15, 5))\n",
    "\n",
    "# Chart 1 - Shows the line we are trying to model\n",
    "df.plot.scatter(x='x', y='y', ax=axes, color='red')\n",
    "\n",
    "# Chart 2 - Shows the line our trained model came up with\n",
    "df_final.plot.scatter(x='test_x', y='pred', ax=axes, alpha=0.3)\n",
    "\n",
    "# add a little sugar\n",
    "axes.set_title('target vs pred', fontsize=20)\n",
    "axes.set_ylabel('y', fontsize=15)\n",
    "axes.set_xlabel('x', fontsize=15)\n",
    "axes.legend([\"target\", \"pred\"], loc='best');"
   ]
  },
  {
   "cell_type": "markdown",
   "metadata": {},
   "source": [
    "# Check for Overfitting  \n",
    "\n",
    "If the ***valid_loss*** is increasing and your ***train_loss*** is decreasing then you have a problem. Since you have implemented early stopping, your model will not over train and prevents this issue from getting out of control."
   ]
  },
  {
   "cell_type": "code",
   "execution_count": 17,
   "metadata": {},
   "outputs": [
    {
     "data": {
      "image/png": "[encoded data removed]",
      "text/plain": [
       "<matplotlib.figure.Figure at 0xa9ddba8>"
      ]
     },
     "metadata": {},
     "output_type": "display_data"
    }
   ],
   "source": [
    "df_loss.set_index('step').plot(logy=True, figsize=(15,5));"
   ]
  },
  {
   "cell_type": "markdown",
   "metadata": {},
   "source": [
    "# Your Turn  \n",
    "\n",
    "> I reduced the number of neurons but increased the number of hidden layers. Try different combinations of layers and neurons and see how your model behaves."
   ]
  },
  {
   "cell_type": "markdown",
   "metadata": {},
   "source": [
    "<p class=\"text-muted\">This tutorial was created by <a href=\"http://www.hedaro.com\" target=\"_blank\"><strong>HEDARO</strong></a></p>"
   ]
  }
 ],
 "metadata": {
  "anaconda-cloud": {},
  "kernelspec": {
   "display_name": "Python [default]",
   "language": "python",
   "name": "python3"
  },
  "language_info": {
   "codemirror_mode": {
    "name": "ipython",
    "version": 3
   },
   "file_extension": ".py",
   "mimetype": "text/x-python",
   "name": "python",
   "nbconvert_exporter": "python",
   "pygments_lexer": "ipython3",
   "version": "3.6.3"
  },
  "toc": {
   "nav_menu": {},
   "number_sections": true,
   "sideBar": true,
   "skip_h1_title": false,
   "title_cell": "Table of Contents",
   "title_sidebar": "Contents",
   "toc_cell": false,
   "toc_position": {},
   "toc_section_display": true,
   "toc_window_display": false
  }
 },
 "nbformat": 4,
 "nbformat_minor": 1
}
