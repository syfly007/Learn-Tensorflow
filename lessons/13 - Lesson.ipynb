{
 "cells": [
  {
   "cell_type": "markdown",
   "metadata": {},
   "source": [
    "<!-- ---------------------------------------------------- -->\n",
    "  <div class=\"col-sm-3 col-md-3 col-lg-3\">\n",
    "\t<!-- logo -->  \n",
    "    <div class=\"img-responsive\">\n",
    "      <img src=\"https://dl.dropboxusercontent.com/u/37919918/hedaro/pandas-ipython-tutorials-hedaro.jpg\" title=\"Tensorflow Tutorial | Hedaro\" alt=\"Tensorflow Tutorial | Hedaro\">    \n",
    "    </div>\n",
    "\t<!-- logo -->\t\n",
    "  </div>\n",
    "<!-- ---------------------------------------------------- --> \n",
    "  <div class=\"col-sm-6 col-md-6 col-lg-6\">\n",
    "\t<!-- Tensorflow Tutorial -->  \n",
    "\t  <center>\n",
    "\t    <br>\n",
    "        <h1>Tensorflow</h1>\n",
    "        <p><center>13 - Lesson</center></p>\n",
    "\t  </center>\t\n",
    "    <!-- Tensorflow Tutorial -->\t\n",
    "  </div>\n",
    "<!-- ---------------------------------------------------- -->"
   ]
  },
  {
   "cell_type": "markdown",
   "metadata": {},
   "source": [
    "# Tips and Tricks  "
   ]
  },
  {
   "cell_type": "markdown",
   "metadata": {},
   "source": [
    "#### Choice of initial Weights and Bias\n",
    "1) Initialize W and b to random values between -0.5 and 0.5, if the inputs are normalized to -1 and 1  \n",
    "2) Do not use zero or make them all the same  \n",
    "3) do not make them with a mean of zero  \n",
    "4) male sure they all have the same variances  \n",
    "\n",
    "#### Activation Functions\n",
    "1) Binary Sigmoid - range [0, 1]  \n",
    "2) Bipolar Sigmoid - range [-1, 1]  \n",
    "3) Tanh - range [-1, 1]  \n",
    "4) The range of the Activation function should match closely to the range of the output  \n",
    "\n",
    "#### How long to train?\n",
    "1) Have a training (70%), validation (15%), and a test (15%) set  \n",
    "2) Continue training if both the training and validation set errors continue to decrease  \n",
    "3) Once the error of the validaion set starts to increase, you are overfitting on the training set. Stop training!  \n",
    "4) Make sure that each set represents the same range of values  \n",
    "\n",
    "#### How many training records should you have?\n",
    "* P = W / e  \n",
    "* Training records = Number of weights or nodes divided by the learning Rate  \n",
    " \n",
    "#### Input Data:\n",
    "1) Make sure all input data is of the same scale  \n",
    "2) Normalized = (x - mean) / StdDev  \n",
    "3) Normalize the input and the output  \n",
    "4) If your training/validation set falls outside the test/out of sample set, your model will not perform well and this just means you need more data. You need to train your model on all possible data ranges (this is not always possible)  \n",
    "5) Make sure all input has the same mean and stdev  \n",
    "\n",
    "#### Validation:\n",
    "1) Take 1/5 for validation  \n",
    "2) Validation error estimates the out of sample error and prevents overfitting by early stoppage  "
   ]
  },
  {
   "cell_type": "markdown",
   "metadata": {},
   "source": [
    "<p class=\"text-muted\">This tutorial was created by <a href=\"http://www.hedaro.com\" target=\"_blank\"><strong>HEDARO</strong></a></p>"
   ]
  }
 ],
 "metadata": {
  "anaconda-cloud": {},
  "kernelspec": {
   "display_name": "Python [default]",
   "language": "python",
   "name": "python3"
  },
  "language_info": {
   "codemirror_mode": {
    "name": "ipython",
    "version": 3
   },
   "file_extension": ".py",
   "mimetype": "text/x-python",
   "name": "python",
   "nbconvert_exporter": "python",
   "pygments_lexer": "ipython3",
   "version": "3.5.1"
  }
 },
 "nbformat": 4,
 "nbformat_minor": 0
}
