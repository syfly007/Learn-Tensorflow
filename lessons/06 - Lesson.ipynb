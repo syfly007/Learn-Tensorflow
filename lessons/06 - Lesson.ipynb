{
 "cells": [
  {
   "cell_type": "markdown",
   "metadata": {},
   "source": [
    "<!-- ---------------------------------------------------- -->\n",
    "  <div class=\"col-sm-3 col-md-3 col-lg-3\">\n",
    "\t<!-- logo -->  \n",
    "    <div class=\"img-responsive\">\n",
    "      <img src=\"https://dl.dropboxusercontent.com/u/37919918/hedaro/pandas-ipython-tutorials-hedaro.jpg\" title=\"Tensorflow Tutorial | Hedaro\" alt=\"Tensorflow Tutorial | Hedaro\">    \n",
    "    </div>\n",
    "\t<!-- logo -->\t\n",
    "  </div>\n",
    "<!-- ---------------------------------------------------- --> \n",
    "  <div class=\"col-sm-6 col-md-6 col-lg-6\">\n",
    "\t<!-- Tensorflow Tutorial -->  \n",
    "\t  <center>\n",
    "\t    <br>\n",
    "        <h1>Tensorflow</h1>\n",
    "        <p><center>06 - Lesson</center></p>\n",
    "\t  </center>\t\n",
    "    <!-- Tensorflow Tutorial -->\t\n",
    "  </div>\n",
    "<!-- ---------------------------------------------------- -->"
   ]
  },
  {
   "cell_type": "markdown",
   "metadata": {},
   "source": [
    "# Tunning Your Model"
   ]
  },
  {
   "cell_type": "markdown",
   "metadata": {},
   "source": [
    "As a Data Scientist you need to be able to tune your model to make sure it is predicting as accurately as possible and doing it as fast as possible. There are a couple of parameters that you will have the opportunity to tweak for the Gradient Descent Optimizer.\n",
    "\n",
    "> ***Learning Rate*** - Determines how fast your model will learn. The higher the number the faster it will learn.\n",
    "\n",
    "* If you make the LR ***too high***, your model might osilate between the same two values but never hit the local minimum (or the answer)\n",
    "\n",
    "* If you make the LR ***too small***, you might need significant more iterations to get to the local minimum  \n",
    "\n",
    "* Typical LR range: [0.001 - 1]\n",
    "\n",
    "The goal is to choose the ***highest learning rate*** that will get you the local minimum with as ***few iterations*** as possible.\n",
    "\n",
    "> ***Iterations*** - Determines the number of iterations you are going to run your model for. You may also hear this referred to as an epoch.\n",
    "\n",
    "Consider plotting the error output against the number of iterations.\n",
    "* Make sure the error it is decreasing in a consistent manner and decreasing after every iteration\n",
    "* A flat line could mean you have found your answer\n",
    "\n",
    "How many iterations are recommended?\n",
    "- Depends on the problem, it could be a few, it could be many."
   ]
  },
  {
   "cell_type": "markdown",
   "metadata": {},
   "source": [
    "# Practice Practice Practice"
   ]
  },
  {
   "cell_type": "code",
   "execution_count": 1,
   "metadata": {
    "collapsed": true
   },
   "outputs": [],
   "source": [
    "# import libraries\n",
    "import tensorflow as tf\n",
    "import pandas as pd\n",
    "import numpy as np\n",
    "import sys\n",
    "import math\n",
    "%matplotlib inline"
   ]
  },
  {
   "cell_type": "code",
   "execution_count": 2,
   "metadata": {
    "collapsed": false
   },
   "outputs": [
    {
     "name": "stdout",
     "output_type": "stream",
     "text": [
      "Python version 3.5.1 |Anaconda custom (64-bit)| (default, Feb 16 2016, 09:49:46) [MSC v.1900 64 bit (AMD64)]\n",
      "Tensorflow version 0.12.0-rc0\n",
      "Pandas version 0.19.0\n",
      "Numpy version 1.11.0\n"
     ]
    }
   ],
   "source": [
    "print('Python version ' + sys.version)\n",
    "print('Tensorflow version ' + tf.VERSION)\n",
    "print('Pandas version ' + pd.__version__)\n",
    "print('Numpy version ' + np.__version__)"
   ]
  },
  {
   "cell_type": "markdown",
   "metadata": {},
   "source": [
    "# Create Test Data  \n",
    "\n",
    "    y = m * x + b  \n",
    "\n",
    "* We are going to call our ***x*** variable, ***train_x***  \n",
    "* We are going to call our ***y*** variable, ***train_y***\n"
   ]
  },
  {
   "cell_type": "code",
   "execution_count": 3,
   "metadata": {
    "collapsed": false
   },
   "outputs": [],
   "source": [
    "# let's generate 100 random samples\n",
    "train_x = np.random.rand(100).astype(np.float32)"
   ]
  },
  {
   "cell_type": "code",
   "execution_count": 4,
   "metadata": {
    "collapsed": false
   },
   "outputs": [],
   "source": [
    "# let's compute y_data using 0.1 for m and 0.3 for b\n",
    "train_y = 0.1 * train_x + 0.3"
   ]
  },
  {
   "cell_type": "markdown",
   "metadata": {},
   "source": [
    "# Pick a Large Learning Rate  \n",
    "\n",
    "In Lesson 4, we used a LR of 0.7"
   ]
  },
  {
   "cell_type": "code",
   "execution_count": 5,
   "metadata": {
    "collapsed": false
   },
   "outputs": [],
   "source": [
    "# placeholders\n",
    "x = tf.placeholder(tf.float32, name=\"01_x\")\n",
    "y = tf.placeholder(tf.float32, name=\"01_y\")\n",
    "\n",
    "# variables\n",
    "W = tf.Variable(np.random.rand())\n",
    "b = tf.Variable(np.random.rand())\n",
    "pred = W * train_x + b\n",
    "\n",
    "# minimize the mean squared errors.\n",
    "loss = tf.reduce_mean(tf.square(pred - train_y))\n",
    "optimizer = tf.train.GradientDescentOptimizer(0.8)\n",
    "train = optimizer.minimize(loss)"
   ]
  },
  {
   "cell_type": "markdown",
   "metadata": {},
   "source": [
    "# How Good is Your model?  \n",
    "\n",
    "Set up the following variables to calculate the accuracy rate of your model. You will do that shortly."
   ]
  },
  {
   "cell_type": "code",
   "execution_count": 6,
   "metadata": {
    "collapsed": false
   },
   "outputs": [],
   "source": [
    "# check accuracy of model\n",
    "correct_prediction = tf.equal(tf.round(pred), tf.round(train_y))\n",
    "accuracy = tf.reduce_mean(tf.cast(correct_prediction, tf.float32))"
   ]
  },
  {
   "cell_type": "markdown",
   "metadata": {},
   "source": [
    "# Keep the Number of Iterations at 200"
   ]
  },
  {
   "cell_type": "code",
   "execution_count": 7,
   "metadata": {
    "collapsed": false
   },
   "outputs": [
    {
     "name": "stdout",
     "output_type": "stream",
     "text": [
      "Accuracy on the Training Set: 0.0\n"
     ]
    }
   ],
   "source": [
    "# hold step and error values\n",
    "t = []\n",
    "\n",
    "# initialize the variables\n",
    "init = tf.global_variables_initializer()\n",
    "\n",
    "# run your graph\n",
    "with tf.Session() as sess:\n",
    "    sess.run(init)\n",
    "\n",
    "    # fit the function.\n",
    "    for step in range(200):\n",
    "        # get your data\n",
    "        train_data = {x:train_x, y:train_y}\n",
    "        \n",
    "        # training in progress...\n",
    "        sess.run(train, feed_dict=train_data)\n",
    "        \n",
    "        # capture the step and error for analysis\n",
    "        t.append((step, sess.run(loss, feed_dict=train_data)))        \n",
    "            \n",
    "    # here is where you see how good of a Data Scientist you are        \n",
    "    print(\"Accuracy on the Training Set:\", accuracy.eval({x: train_x, y: train_y}) )"
   ]
  },
  {
   "cell_type": "markdown",
   "metadata": {},
   "source": [
    "As you can see, since we increased the learning rate, our model tries to learn too quickly and it actually jumps over the local minimum we are after."
   ]
  },
  {
   "cell_type": "markdown",
   "metadata": {},
   "source": [
    "# Plot Loss Function vs Iterations  \n",
    "\n",
    "> Plotting your data is going to give you a clear picture if you need your change your LR and/or the number of iterations.  \n",
    "\n",
    "As you can see it seems like the model gets worse over time."
   ]
  },
  {
   "cell_type": "code",
   "execution_count": 8,
   "metadata": {
    "collapsed": false
   },
   "outputs": [
    {
     "data": {
      "image/png": "[encoded data removed]",
      "text/plain": [
       "<matplotlib.figure.Figure at 0x482fd68>"
      ]
     },
     "metadata": {},
     "output_type": "display_data"
    }
   ],
   "source": [
    "pd.DataFrame(t, columns=['step', 'error']).set_index('step').plot(figsize=(20,5));"
   ]
  },
  {
   "cell_type": "markdown",
   "metadata": {},
   "source": [
    "# Change the LR to .001 \n",
    "\n",
    "> The error rate seems to be decreasing over time but you still don't have our answer and the chart does not see to be stabalizing."
   ]
  },
  {
   "cell_type": "markdown",
   "metadata": {
    "collapsed": true
   },
   "source": [
    "# Change the Number of Iterations to 6,000  \n",
    "\n",
    "> As you can see, you are now really close to the exact answer and the graph is starting to flat line which is exactly what we want to see."
   ]
  },
  {
   "cell_type": "markdown",
   "metadata": {},
   "source": [
    "# Your Turn  \n",
    "\n",
    "* Try different Learning Rates like 0.9, 0.5, 0.2  \n",
    "\n",
    "> What is the best LR/Iteration combination you can come up with?"
   ]
  },
  {
   "cell_type": "markdown",
   "metadata": {},
   "source": [
    "<p class=\"text-muted\">This tutorial was created by <a href=\"http://www.hedaro.com\" target=\"_blank\"><strong>HEDARO</strong></a></p>"
   ]
  }
 ],
 "metadata": {
  "anaconda-cloud": {},
  "kernelspec": {
   "display_name": "Python [default]",
   "language": "python",
   "name": "python3"
  },
  "language_info": {
   "codemirror_mode": {
    "name": "ipython",
    "version": 3
   },
   "file_extension": ".py",
   "mimetype": "text/x-python",
   "name": "python",
   "nbconvert_exporter": "python",
   "pygments_lexer": "ipython3",
   "version": "3.5.1"
  }
 },
 "nbformat": 4,
 "nbformat_minor": 0
}
