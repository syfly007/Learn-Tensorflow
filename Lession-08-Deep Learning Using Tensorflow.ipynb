{
 "cells": [
  {
   "cell_type": "markdown",
   "metadata": {},
   "source": [
    "# Deep Learning Using Tensorflow"
   ]
  },
  {
   "cell_type": "markdown",
   "metadata": {},
   "source": [
    "In this lesson you are going to try to create a model that supases the one you created in Lesson 07 using a ***Deep Learning*** NN. \n",
    "\n",
    "> What is deep learning? \n",
    "\n",
    "This is just a term to describe neural networks that are composed of more than one hidden layer. The good news is that it is pretty easy to go from one to many hidden layers and your predictions should also improve."
   ]
  },
  {
   "cell_type": "markdown",
   "metadata": {},
   "source": [
    "# Let's Get to Work!"
   ]
  },
  {
   "cell_type": "code",
   "execution_count": 2,
   "metadata": {
    "collapsed": true
   },
   "outputs": [],
   "source": [
    "# import libraries\n",
    "import tensorflow as tf\n",
    "import pandas as pd\n",
    "import numpy as np\n",
    "import sys\n",
    "import datetime\n",
    "import matplotlib.pyplot as plt\n",
    "plt.style.use('ggplot') # use this plot style\n",
    "%matplotlib inline"
   ]
  },
  {
   "cell_type": "code",
   "execution_count": 3,
   "metadata": {},
   "outputs": [
    {
     "name": "stdout",
     "output_type": "stream",
     "text": [
      "Python version 3.6.3 |Anaconda, Inc.| (default, Nov  3 2017, 12:34:11) \n",
      "[GCC 4.2.1 Compatible Clang 4.0.1 (tags/RELEASE_401/final)]\n",
      "Tensorflow version 1.1.0\n",
      "Pandas version 0.20.3\n",
      "Numpy version 1.12.1\n"
     ]
    }
   ],
   "source": [
    "print('Python version ' + sys.version)\n",
    "print('Tensorflow version ' + tf.VERSION)\n",
    "print('Pandas version ' + pd.__version__)\n",
    "print('Numpy version ' + np.__version__)"
   ]
  },
  {
   "cell_type": "markdown",
   "metadata": {},
   "source": [
    "# Function to Model\n",
    "\n",
    "    y = a * x ^ 2 + b * x + c"
   ]
  },
  {
   "cell_type": "code",
   "execution_count": 4,
   "metadata": {},
   "outputs": [
    {
     "name": "stdout",
     "output_type": "stream",
     "text": [
      "test data shape: (150, 1)\n",
      "train data shape: (850, 1)\n"
     ]
    }
   ],
   "source": [
    "# Let's generate 1000 random samples\n",
    "pool = np.random.rand(1000,1).astype(np.float32)\n",
    "\n",
    "# shuffle pool\n",
    "np.random.shuffle(pool)\n",
    "\n",
    "# 15% test samples\n",
    "samples = int(1000 * 0.15)\n",
    "\n",
    "# 15% test data\n",
    "test_x = pool[:samples]\n",
    "\n",
    "# 85% training data\n",
    "train_x = pool[samples:]\n",
    "\n",
    "print(\"test data shape:\",str(test_x.shape))\n",
    "print(\"train data shape:\",str(train_x.shape))\n",
    "\n",
    "test_y = 2.0*test_x**2 + 3.0*test_x + 5\n",
    "train_y = 2.0*train_x**2 + 3.0*train_x + 5"
   ]
  },
  {
   "cell_type": "code",
   "execution_count": 5,
   "metadata": {},
   "outputs": [
    {
     "data": {
      "text/html": [
       "<div>\n",
       "<style>\n",
       "    .dataframe thead tr:only-child th {\n",
       "        text-align: right;\n",
       "    }\n",
       "\n",
       "    .dataframe thead th {\n",
       "        text-align: left;\n",
       "    }\n",
       "\n",
       "    .dataframe tbody tr th {\n",
       "        vertical-align: top;\n",
       "    }\n",
       "</style>\n",
       "<table border=\"1\" class=\"dataframe\">\n",
       "  <thead>\n",
       "    <tr style=\"text-align: right;\">\n",
       "      <th></th>\n",
       "      <th>x</th>\n",
       "      <th>y</th>\n",
       "    </tr>\n",
       "  </thead>\n",
       "  <tbody>\n",
       "    <tr>\n",
       "      <th>0</th>\n",
       "      <td>0.257932</td>\n",
       "      <td>5.906856</td>\n",
       "    </tr>\n",
       "    <tr>\n",
       "      <th>1</th>\n",
       "      <td>0.279798</td>\n",
       "      <td>5.995969</td>\n",
       "    </tr>\n",
       "    <tr>\n",
       "      <th>2</th>\n",
       "      <td>0.384144</td>\n",
       "      <td>6.447567</td>\n",
       "    </tr>\n",
       "    <tr>\n",
       "      <th>3</th>\n",
       "      <td>0.158281</td>\n",
       "      <td>5.524947</td>\n",
       "    </tr>\n",
       "    <tr>\n",
       "      <th>4</th>\n",
       "      <td>0.773224</td>\n",
       "      <td>8.515423</td>\n",
       "    </tr>\n",
       "  </tbody>\n",
       "</table>\n",
       "</div>"
      ],
      "text/plain": [
       "          x         y\n",
       "0  0.257932  5.906856\n",
       "1  0.279798  5.995969\n",
       "2  0.384144  6.447567\n",
       "3  0.158281  5.524947\n",
       "4  0.773224  8.515423"
      ]
     },
     "execution_count": 5,
     "metadata": {},
     "output_type": "execute_result"
    }
   ],
   "source": [
    "df = pd.DataFrame({\n",
    "    'x':train_x[:,0],\n",
    "    'y':train_y[:,0]\n",
    "})\n",
    "df.head()"
   ]
  },
  {
   "cell_type": "code",
   "execution_count": 6,
   "metadata": {},
   "outputs": [
    {
     "data": {
      "text/html": [
       "<div>\n",
       "<style>\n",
       "    .dataframe thead tr:only-child th {\n",
       "        text-align: right;\n",
       "    }\n",
       "\n",
       "    .dataframe thead th {\n",
       "        text-align: left;\n",
       "    }\n",
       "\n",
       "    .dataframe tbody tr th {\n",
       "        vertical-align: top;\n",
       "    }\n",
       "</style>\n",
       "<table border=\"1\" class=\"dataframe\">\n",
       "  <thead>\n",
       "    <tr style=\"text-align: right;\">\n",
       "      <th></th>\n",
       "      <th>x</th>\n",
       "      <th>y</th>\n",
       "    </tr>\n",
       "  </thead>\n",
       "  <tbody>\n",
       "    <tr>\n",
       "      <th>count</th>\n",
       "      <td>850.000000</td>\n",
       "      <td>850.000000</td>\n",
       "    </tr>\n",
       "    <tr>\n",
       "      <th>mean</th>\n",
       "      <td>0.487139</td>\n",
       "      <td>7.097677</td>\n",
       "    </tr>\n",
       "    <tr>\n",
       "      <th>std</th>\n",
       "      <td>0.284466</td>\n",
       "      <td>1.419820</td>\n",
       "    </tr>\n",
       "    <tr>\n",
       "      <th>min</th>\n",
       "      <td>0.002644</td>\n",
       "      <td>5.007945</td>\n",
       "    </tr>\n",
       "    <tr>\n",
       "      <th>25%</th>\n",
       "      <td>0.240037</td>\n",
       "      <td>5.835346</td>\n",
       "    </tr>\n",
       "    <tr>\n",
       "      <th>50%</th>\n",
       "      <td>0.477331</td>\n",
       "      <td>6.887685</td>\n",
       "    </tr>\n",
       "    <tr>\n",
       "      <th>75%</th>\n",
       "      <td>0.728798</td>\n",
       "      <td>8.248686</td>\n",
       "    </tr>\n",
       "    <tr>\n",
       "      <th>max</th>\n",
       "      <td>0.997473</td>\n",
       "      <td>9.982327</td>\n",
       "    </tr>\n",
       "  </tbody>\n",
       "</table>\n",
       "</div>"
      ],
      "text/plain": [
       "                x           y\n",
       "count  850.000000  850.000000\n",
       "mean     0.487139    7.097677\n",
       "std      0.284466    1.419820\n",
       "min      0.002644    5.007945\n",
       "25%      0.240037    5.835346\n",
       "50%      0.477331    6.887685\n",
       "75%      0.728798    8.248686\n",
       "max      0.997473    9.982327"
      ]
     },
     "execution_count": 6,
     "metadata": {},
     "output_type": "execute_result"
    }
   ],
   "source": [
    "df.describe()"
   ]
  },
  {
   "cell_type": "code",
   "execution_count": 7,
   "metadata": {},
   "outputs": [
    {
     "data": {
      "text/plain": [
       "<matplotlib.axes._subplots.AxesSubplot at 0x114e6b940>"
      ]
     },
     "execution_count": 7,
     "metadata": {},
     "output_type": "execute_result"
    },
    {
     "data": {
      "image/png": "[encoded data removed]",
      "text/plain": [
       "<matplotlib.figure.Figure at 0x114e6b358>"
      ]
     },
     "metadata": {},
     "output_type": "display_data"
    }
   ],
   "source": [
    "df.plot.scatter(x='x',y='y',figsize=(15,5))"
   ]
  },
  {
   "cell_type": "markdown",
   "metadata": {},
   "source": [
    "# Helper Functions\n",
    "Let's make a function to create  layer easily!"
   ]
  },
  {
   "cell_type": "code",
   "execution_count": 8,
   "metadata": {
    "collapsed": true
   },
   "outputs": [],
   "source": [
    "def add_layer(inputs,input_size,output_size,activate_function=None):\n",
    "    # tf.truncated_normal([size of batches,size of output layer])\n",
    "    Weights = tf.Variable(tf.truncated_normal([input_size,output_size],mean=0.1,stddev=0.1))\n",
    "    # tf.truncated_normal([size of output layer])\n",
    "    biases = tf.Variable(tf.truncated_normal([output_size],mean=0.1,stddev=0.1))\n",
    "    # compute pred\n",
    "    pred = tf.matmul(inputs,Weights) + biases\n",
    "    \n",
    "    output = pred\n",
    "    if activate_function is not None:\n",
    "        output = activate_function(pred)\n",
    "    return output"
   ]
  },
  {
   "cell_type": "markdown",
   "metadata": {},
   "source": [
    "# Model Your Graph\n",
    "Start to use W (for weight) and b (for bias) when setting up your variables. Aside from adding your ReLU activation function, it is a good idea to use Tensorflow's ***matrix multiplication function (matmul)*** as shown below.  \n",
    "\n",
    "> The ? in the shape output just means it can be of any shape.\n",
    "\n",
    "For the shape parameter, you can think of it like this...  \n",
    "\n",
    "> shape = [how many data points do you have, how many features does each data point have]  \n",
    "\n",
    "For this lesson since we are doing a simple regression, we only have one feature (x). We use the ***None*** keyword so that we are not restricted on the number of samples to feed our model. This will become more important when you learn about training using batches on a future lesson."
   ]
  },
  {
   "cell_type": "code",
   "execution_count": 9,
   "metadata": {},
   "outputs": [
    {
     "name": "stdout",
     "output_type": "stream",
     "text": [
      "shape of x,y (?, 1) (?, 1)\n"
     ]
    }
   ],
   "source": [
    "# number of neurons\n",
    "hidden_size = 100\n",
    "\n",
    "# placeholders\n",
    "# shape= [how many samples do you have, how many input neurons]\n",
    "x = tf.placeholder(tf.float32,shape=[None,1],name='01_x')\n",
    "y = tf.placeholder(tf.float32,shape=[None,1],name='01_y')\n",
    "\n",
    "print('shape of x,y',x.get_shape(),y.get_shape())"
   ]
  },
  {
   "cell_type": "markdown",
   "metadata": {},
   "source": [
    "Note that the input of one layer becomes the input of the next layer."
   ]
  },
  {
   "cell_type": "code",
   "execution_count": 10,
   "metadata": {},
   "outputs": [
    {
     "name": "stdout",
     "output_type": "stream",
     "text": [
      "shape of h1,h2  (?, 100) (?, 100)\n"
     ]
    }
   ],
   "source": [
    "# create your hidden layers\n",
    "h1 = add_layer(x,1,hidden_size,tf.nn.relu)\n",
    "h2 = add_layer(h1,hidden_size,hidden_size,tf.nn.relu)\n",
    "\n",
    "print('shape of h1,h2 ',h1.get_shape(),h2.get_shape())"
   ]
  },
  {
   "cell_type": "code",
   "execution_count": 11,
   "metadata": {},
   "outputs": [
    {
     "name": "stdout",
     "output_type": "stream",
     "text": [
      "shape of output layer: (?, 1)\n"
     ]
    }
   ],
   "source": [
    "# output layer\n",
    "pred = add_layer(h2,hidden_size,1)\n",
    "\n",
    "print('shape of output layer:',pred.get_shape())"
   ]
  },
  {
   "cell_type": "code",
   "execution_count": 12,
   "metadata": {
    "collapsed": true
   },
   "outputs": [],
   "source": [
    "# minimize the square error\n",
    "loss = tf.reduce_mean(tf.square(pred-y))\n",
    "\n",
    "# pick out the optimizer\n",
    "optimizer = tf.train.GradientDescentOptimizer(0.003)\n",
    "train = optimizer.minimize(loss)"
   ]
  },
  {
   "cell_type": "markdown",
   "metadata": {},
   "source": [
    "# How Good is Your Model?\n",
    "Set up the following variables to calculate the accuracy rate of your model. You will do that shortly."
   ]
  },
  {
   "cell_type": "code",
   "execution_count": 13,
   "metadata": {
    "collapsed": true
   },
   "outputs": [],
   "source": [
    "# check correct of model\n",
    "correct_prediction = tf.equal(tf.round(pred),tf.round(y))\n",
    "accuracy = tf.reduce_mean(tf.cast(correct_prediction,tf.float32))"
   ]
  },
  {
   "cell_type": "markdown",
   "metadata": {},
   "source": [
    "# Training Time!\n",
    "The best score I was able to obtain was a ~98% accuracy using a LR of 0.003 and iterating 3,000 times. As you can see adding additional layers made a big difference."
   ]
  },
  {
   "cell_type": "code",
   "execution_count": 27,
   "metadata": {},
   "outputs": [
    {
     "name": "stdout",
     "output_type": "stream",
     "text": [
      "step,loss,accuracy: 0 51.7463 0.0\n",
      "step,loss,accuracy: 200 0.00460044 0.944706\n",
      "step,loss,accuracy: 400 0.00294763 0.961176\n",
      "step,loss,accuracy: 600 0.00212376 0.972941\n",
      "step,loss,accuracy: 800 0.00163389 0.974118\n",
      "step,loss,accuracy: 1000 0.00131238 0.981176\n",
      "step,loss,accuracy: 1200 0.00108579 0.984706\n",
      "step,loss,accuracy: 1400 0.000919085 0.989412\n",
      "step,loss,accuracy: 1600 0.000792847 0.989412\n",
      "step,loss,accuracy: 1800 0.000694815 0.990588\n",
      "step,loss,accuracy: 2000 0.000617551 0.990588\n",
      "step,loss,accuracy: 2200 0.000555666 0.989412\n",
      "step,loss,accuracy: 2400 0.000505783 0.988235\n",
      "step,loss,accuracy: 2600 0.000464906 0.988235\n",
      "step,loss,accuracy: 2800 0.000431111 0.990588\n",
      "train accuracy: 0.990588\n",
      "test accuracy: 0.993333\n"
     ]
    }
   ],
   "source": [
    "init = tf.global_variables_initializer()\n",
    "\n",
    "t = []\n",
    "\n",
    "with tf.Session() as sess:\n",
    "    sess.run(init)\n",
    "    \n",
    "    train_data = {x:train_x,y:train_y}\n",
    "    test_data = {x:test_x,y:test_y}\n",
    "    \n",
    "    for step in range(3000):\n",
    "        \n",
    "        train_loss,train_pred = sess.run([loss,train],feed_dict=train_data)\n",
    "        \n",
    "        if step % 200 == 0:\n",
    "            t.append((step,train_loss))\n",
    "            print('step,loss,accuracy:',step,train_loss,accuracy.eval(train_data))\n",
    "            \n",
    "    print('train accuracy:',accuracy.eval(train_data))\n",
    "    print('test accuracy:',accuracy.eval(test_data))\n",
    "    \n",
    "    test_result = sess.run(pred,feed_dict=test_data)\n",
    "    df_final = pd.DataFrame({\n",
    "        'test_x':test_x[:,0],\n",
    "        'pred':test_result[:,0]\n",
    "    })\n",
    "    \n",
    "    df_loss = pd.DataFrame(t,columns=['step','train_loss'])"
   ]
  },
  {
   "cell_type": "code",
   "execution_count": 15,
   "metadata": {},
   "outputs": [
    {
     "data": {
      "image/png": "[encoded data removed]",
      "text/plain": [
       "<matplotlib.figure.Figure at 0x1184a0358>"
      ]
     },
     "metadata": {},
     "output_type": "display_data"
    }
   ],
   "source": [
    "fig, axes = plt.subplots(nrows=1, ncols=1, figsize=(15, 5))\n",
    "\n",
    "# Chart 1 - Shows the line we are trying to model\n",
    "df.plot.scatter(x='x', y='y', ax=axes, color='red')\n",
    "\n",
    "# Chart 2 - Shows the line our trained model came up with\n",
    "df_final.plot.scatter(x='test_x', y='pred', ax=axes, alpha=0.3)\n",
    "\n",
    "# add a little sugar\n",
    "axes.set_title('target vs pred', fontsize=20)\n",
    "axes.set_ylabel('y', fontsize=15)\n",
    "axes.set_xlabel('x', fontsize=15)\n",
    "axes.legend([\"target\", \"pred\"], loc='best');"
   ]
  },
  {
   "cell_type": "code",
   "execution_count": 16,
   "metadata": {},
   "outputs": [
    {
     "data": {
      "image/png": "[encoded data removed]",
      "text/plain": [
       "<matplotlib.figure.Figure at 0x1184887b8>"
      ]
     },
     "metadata": {},
     "output_type": "display_data"
    }
   ],
   "source": [
    "df_loss.set_index('step').plot(logy=True, figsize=(15,5));"
   ]
  },
  {
   "cell_type": "markdown",
   "metadata": {},
   "source": [
    "# Your Turn  \n",
    "\n",
    "> Try different sizes of neurons, learning rates, and iterations. You will notice that changing any one of these parameters will require you to change another one. Try to get a feel of this model and how it is affected by tweaking it. If you are bold enough, try to add even more layers and see what happens. In the next lesson we are going to talk about Validation."
   ]
  },
  {
   "cell_type": "code",
   "execution_count": 17,
   "metadata": {
    "collapsed": true
   },
   "outputs": [],
   "source": [
    "def deep_nn(hidden_size = 100,epoch=3000,lr=0.003):\n",
    "\n",
    "    # placeholders\n",
    "    # shape= [how many samples do you have, how many input neurons]\n",
    "    x = tf.placeholder(tf.float32,shape=[None,1],name='01_x')\n",
    "    y = tf.placeholder(tf.float32,shape=[None,1],name='01_y')\n",
    "\n",
    "    # create your hidden layers\n",
    "    h1 = add_layer(x,1,hidden_size,tf.nn.relu)\n",
    "    h2 = add_layer(h1,hidden_size,hidden_size,tf.nn.relu)\n",
    "\n",
    "    pred = add_layer(h2,hidden_size,1)\n",
    "\n",
    "    # minimize the square error\n",
    "    loss = tf.reduce_mean(tf.square(pred-y))\n",
    "\n",
    "    # pick out the optimizer\n",
    "    optimizer = tf.train.GradientDescentOptimizer(lr)\n",
    "    train = optimizer.minimize(loss)\n",
    "\n",
    "    # check correct of model\n",
    "    correct_prediction = tf.equal(tf.round(pred),tf.round(y))\n",
    "    accuracy = tf.reduce_mean(tf.cast(correct_prediction,tf.float32))\n",
    "\n",
    "    init = tf.global_variables_initializer()\n",
    "\n",
    "    t = []\n",
    "\n",
    "    with tf.Session() as sess:\n",
    "        sess.run(init)\n",
    "\n",
    "        train_data = {x:train_x,y:train_y}\n",
    "        test_data = {x:test_x,y:test_y}\n",
    "\n",
    "        for step in range(epoch):\n",
    "\n",
    "            train_loss,train_pred = sess.run([loss,train],feed_dict=train_data)\n",
    "\n",
    "            if step % 200 == 0:\n",
    "                t.append((step,train_loss))\n",
    "                print('step,loss,accuracy:',step,train_loss,accuracy.eval(train_data))\n",
    "\n",
    "        print('train accuracy:',accuracy.eval(train_data))\n",
    "        print('test accuracy:',accuracy.eval(test_data))\n",
    "\n",
    "        test_result = sess.run(pred,feed_dict=test_data)\n",
    "        df_final = pd.DataFrame({\n",
    "            'test_x':test_x[:,0],\n",
    "            'pred':test_result[:,0]\n",
    "        })\n",
    "\n",
    "        df_loss = pd.DataFrame(t,columns=['step','train_loss'])\n",
    "\n",
    "    fig, axes = plt.subplots(nrows=1, ncols=1, figsize=(15, 5))\n",
    "\n",
    "    # Chart 1 - Shows the line we are trying to model\n",
    "    df.plot.scatter(x='x', y='y', ax=axes, color='red')\n",
    "\n",
    "    # Chart 2 - Shows the line our trained model came up with\n",
    "    df_final.plot.scatter(x='test_x', y='pred', ax=axes, alpha=0.3)\n",
    "\n",
    "    # add a little sugar\n",
    "    axes.set_title('target vs pred', fontsize=20)\n",
    "    axes.set_ylabel('y', fontsize=15)\n",
    "    axes.set_xlabel('x', fontsize=15)\n",
    "    axes.legend([\"target\", \"pred\"], loc='best');\n",
    "\n",
    "    df_loss.set_index('step').plot(logy=True, figsize=(15,5));"
   ]
  },
  {
   "cell_type": "code",
   "execution_count": 32,
   "metadata": {},
   "outputs": [
    {
     "name": "stdout",
     "output_type": "stream",
     "text": [
      "step,loss,accuracy: 0 419.341 0.0\n",
      "step,loss,accuracy: 200 0.00200622 0.970588\n",
      "step,loss,accuracy: 400 0.00116112 0.98\n",
      "step,loss,accuracy: 600 0.000765325 0.984706\n",
      "step,loss,accuracy: 800 0.000563554 0.984706\n",
      "step,loss,accuracy: 1000 0.000457464 0.990588\n",
      "step,loss,accuracy: 1200 0.000398042 0.994118\n",
      "step,loss,accuracy: 1400 0.000362191 0.994118\n",
      "step,loss,accuracy: 1600 0.000338744 0.994118\n",
      "step,loss,accuracy: 1800 0.000321731 0.992941\n",
      "step,loss,accuracy: 2000 0.000308319 0.991765\n",
      "step,loss,accuracy: 2200 0.000297066 0.991765\n",
      "step,loss,accuracy: 2400 0.000287212 0.989412\n",
      "step,loss,accuracy: 2600 0.000278322 0.989412\n",
      "step,loss,accuracy: 2800 0.00027013 0.989412\n",
      "train accuracy: 0.989412\n",
      "test accuracy: 0.993333\n"
     ]
    },
    {
     "data": {
      "image/png": "[encoded data removed]",
      "text/plain": [
       "<matplotlib.figure.Figure at 0x11b115fd0>"
      ]
     },
     "metadata": {},
     "output_type": "display_data"
    },
    {
     "data": {
      "image/png": "[encoded data removed]",
      "text/plain": [
       "<matplotlib.figure.Figure at 0x11b22d3c8>"
      ]
     },
     "metadata": {},
     "output_type": "display_data"
    }
   ],
   "source": [
    "deep_nn(hidden_size = 120,epoch=3000,lr=0.0015)"
   ]
  },
  {
   "cell_type": "code",
   "execution_count": null,
   "metadata": {
    "collapsed": true
   },
   "outputs": [],
   "source": []
  }
 ],
 "metadata": {
  "kernelspec": {
   "display_name": "Python [conda env:tf]",
   "language": "python",
   "name": "conda-env-tf-py"
  },
  "toc": {
   "colors": {
    "hover_highlight": "#DAA520",
    "running_highlight": "#FF0000",
    "selected_highlight": "#FFD700"
   },
   "moveMenuLeft": true,
   "nav_menu": {
    "height": "213px",
    "width": "251px"
   },
   "navigate_menu": true,
   "number_sections": true,
   "sideBar": true,
   "threshold": 4,
   "toc_cell": false,
   "toc_section_display": "block",
   "toc_window_display": false
  }
 },
 "nbformat": 4,
 "nbformat_minor": 2
}
